{
  "nbformat": 4,
  "nbformat_minor": 0,
  "metadata": {
    "colab": {
      "name": "Untitled4.ipynb",
      "provenance": [],
      "authorship_tag": "ABX9TyOs5cViM4GaKS9zsDMguhVE",
      "include_colab_link": true
    },
    "kernelspec": {
      "name": "python3",
      "display_name": "Python 3"
    }
  },
  "cells": [
    {
      "cell_type": "markdown",
      "metadata": {
        "id": "view-in-github",
        "colab_type": "text"
      },
      "source": [
        "<a href=\"https://colab.research.google.com/github/DAHYUN-HAN/Machine_Learning/blob/master/ch4.ipynb\" target=\"_parent\"><img src=\"https://colab.research.google.com/assets/colab-badge.svg\" alt=\"Open In Colab\"/></a>"
      ]
    },
    {
      "cell_type": "markdown",
      "metadata": {
        "id": "5lWj2lzS6qUX",
        "colab_type": "text"
      },
      "source": [
        "모델을 학습한다는것 => 파라미터 값을 구하는것 => 잘 맞는 파라미터 값.  \n",
        "**Training a model** means **setting its parameters so that the model best fits the training set**. \n",
        "\n",
        "잘 맞는지 확인하는 방법 = MRE 또는 MSE. MSE를 더 많이 씀.  \n",
        "\n",
        "For this purpose, we first need **a measure of how well (or poorly) the model fits the training data**. \n",
        "\n",
        "MSE가 낮아지도록 세타를 계속 수정\n",
        "Therefore, to train a Linear Regression model, we need to **find the value of $\\boldsymbol{\\theta}$ that minimizes the RMSE**. \n",
        "\n"
      ]
    },
    {
      "cell_type": "markdown",
      "metadata": {
        "id": "uGJPIBCp-22w",
        "colab_type": "text"
      },
      "source": [
        "closed-form solution\n",
        "\n",
        "##Normal Equation\n",
        "\n",
        "$$\n",
        "\\hat{\\boldsymbol{\\theta}}=(\\textbf{X}^T\\textbf{X})^{-1}\\textbf{X}^T \\textbf{y}\n",
        "$$"
      ]
    },
    {
      "cell_type": "code",
      "metadata": {
        "id": "bm2wx8dYvhVk",
        "colab_type": "code",
        "colab": {
          "base_uri": "https://localhost:8080/",
          "height": 53
        },
        "outputId": "2a0b3859-9d89-46c5-ecae-0594cff8862b"
      },
      "source": [
        "import numpy as np\n",
        "np.random.seed(42)\n",
        "\n",
        "X = 2 * np.random.rand(100,1)\n",
        "print(X.shape)\n",
        "\n",
        "y = 4+3*X + np.random.randn(100,1)#노이즈 추가\n",
        "print(y.shape)"
      ],
      "execution_count": 15,
      "outputs": [
        {
          "output_type": "stream",
          "text": [
            "(100, 1)\n",
            "(100, 1)\n"
          ],
          "name": "stdout"
        }
      ]
    },
    {
      "cell_type": "code",
      "metadata": {
        "id": "7GgtDeg8-Bh7",
        "colab_type": "code",
        "colab": {
          "base_uri": "https://localhost:8080/",
          "height": 287
        },
        "outputId": "19c5a274-8ba0-41a9-a235-494f5fc6490f"
      },
      "source": [
        "import matplotlib.pyplot as plt\n",
        "\n",
        "plt.plot(X,y, \"b.\")\n",
        "plt.xlabel('$x_1$', fontsize=18)\n",
        "plt.ylabel('$y$',rotation=0,fontsize=18)\n",
        "plt.axis([0,2,0,15])\n",
        "plt.show()"
      ],
      "execution_count": 16,
      "outputs": [
        {
          "output_type": "display_data",
          "data": {
            "image/png": "[encoded data removed]",
            "text/plain": [
              "<Figure size 432x288 with 1 Axes>"
            ]
          },
          "metadata": {
            "tags": [],
            "needs_background": "light"
          }
        }
      ]
    },
    {
      "cell_type": "code",
      "metadata": {
        "id": "vAqv-kKh-HAz",
        "colab_type": "code",
        "colab": {}
      },
      "source": [
        "X_b = np.c_[np.ones((100, 1)), X]\n",
        "theta_best = np.linalg.inv(X_b.T.dot(X_b)).dot(X_b.T).dot(y)"
      ],
      "execution_count": 0,
      "outputs": []
    },
    {
      "cell_type": "code",
      "metadata": {
        "id": "r8tVL_5J-_ic",
        "colab_type": "code",
        "colab": {
          "base_uri": "https://localhost:8080/",
          "height": 53
        },
        "outputId": "13b44e5b-8600-430a-c416-32747c939b9b"
      },
      "source": [
        "#정답은 4랑 3\n",
        "theta_best"
      ],
      "execution_count": 18,
      "outputs": [
        {
          "output_type": "execute_result",
          "data": {
            "text/plain": [
              "array([[4.21509616],\n",
              "       [2.77011339]])"
            ]
          },
          "metadata": {
            "tags": []
          },
          "execution_count": 18
        }
      ]
    },
    {
      "cell_type": "code",
      "metadata": {
        "id": "hmZPgbHE_Dj3",
        "colab_type": "code",
        "colab": {
          "base_uri": "https://localhost:8080/",
          "height": 53
        },
        "outputId": "9495b483-9fc0-498a-fbbc-1056db89b9c1"
      },
      "source": [
        "X_new = np.array([[0], [2]])\n",
        "X_new"
      ],
      "execution_count": 19,
      "outputs": [
        {
          "output_type": "execute_result",
          "data": {
            "text/plain": [
              "array([[0],\n",
              "       [2]])"
            ]
          },
          "metadata": {
            "tags": []
          },
          "execution_count": 19
        }
      ]
    },
    {
      "cell_type": "code",
      "metadata": {
        "id": "zvXLYHpM_KxB",
        "colab_type": "code",
        "colab": {
          "base_uri": "https://localhost:8080/",
          "height": 53
        },
        "outputId": "7f448bd4-8903-45e9-f8cb-463b1319d0c2"
      },
      "source": [
        "X_new_b = np.c_[np.ones((2, 1)), X_new]\n",
        "X_new_b"
      ],
      "execution_count": 20,
      "outputs": [
        {
          "output_type": "execute_result",
          "data": {
            "text/plain": [
              "array([[1., 0.],\n",
              "       [1., 2.]])"
            ]
          },
          "metadata": {
            "tags": []
          },
          "execution_count": 20
        }
      ]
    },
    {
      "cell_type": "code",
      "metadata": {
        "id": "bcMGeQNrAFnL",
        "colab_type": "code",
        "colab": {
          "base_uri": "https://localhost:8080/",
          "height": 53
        },
        "outputId": "00703122-431c-4be1-ad7d-e65105935d30"
      },
      "source": [
        "y_predict = X_new_b.dot(theta_best)#예측\n",
        "y_predict"
      ],
      "execution_count": 21,
      "outputs": [
        {
          "output_type": "execute_result",
          "data": {
            "text/plain": [
              "array([[4.21509616],\n",
              "       [9.75532293]])"
            ]
          },
          "metadata": {
            "tags": []
          },
          "execution_count": 21
        }
      ]
    },
    {
      "cell_type": "markdown",
      "metadata": {
        "id": "i9YqbmWWAQcU",
        "colab_type": "text"
      },
      "source": [
        " 추론하는데에 있어서 시간이 엄청나게 빠르다는 장점이 있음.  \n",
        " 노이즈에 대한 모델링이 필요하다는 단점이 있어서 노이즈를 잡기가 어렵다는 약점은 있다.  \n",
        "\n",
        "피처의 수와 파라미터의 수는 같다.\n",
        "피처의 수는 열의 수.\n",
        "피처가 만약에 1이다 하면 파라미터는 1인것.\n",
        "이 1을 구하기 위해서는 독립적인 식이 1개 필요.\n",
        "\n",
        "n=2 이고, m=100 일때\n",
        "100개의 독립적인 샘플이 있는데, 파라미터 2개 가지고 에러가 없는 모델을 만들 수는 없다.\n",
        "n=2 일때 샘플이 2개면 완벽한 모델을 만들 수 있음. \n",
        "\n",
        "에러를 다 제곱해서 1/100로 나눠줬을 때 가장 작은게 prediction.\n",
        "내가 구해야 할 미지수보다 식이 많은 경우 mse가 가장 작도록 만드는게 nomal equation"
      ]
    },
    {
      "cell_type": "code",
      "metadata": {
        "id": "uQGEaPmNAIeL",
        "colab_type": "code",
        "colab": {
          "base_uri": "https://localhost:8080/",
          "height": 287
        },
        "outputId": "07d3e669-b221-4a8c-b5dc-99e8e782b643"
      },
      "source": [
        "import matplotlib.pyplot as plt\n",
        "\n",
        "plt.plot(X_new, y_predict, \"r-\", linewidth=2, label='Prediction')\n",
        "plt.plot(X, y, \"b.\")\n",
        "plt.xlabel('$x_1$',fontsize=18)\n",
        "plt.ylabel('$y$',rotation=0,fontsize=18)\n",
        "plt.legend(loc='best', fontsize=14)\n",
        "plt.axis([0, 2, 0, 15])\n",
        "plt.show()"
      ],
      "execution_count": 22,
      "outputs": [
        {
          "output_type": "display_data",
          "data": {
            "image/png": "[encoded data removed]",
            "text/plain": [
              "<Figure size 432x288 with 1 Axes>"
            ]
          },
          "metadata": {
            "tags": [],
            "needs_background": "light"
          }
        }
      ]
    },
    {
      "cell_type": "code",
      "metadata": {
        "id": "EBEb6IrMAMpa",
        "colab_type": "code",
        "colab": {
          "base_uri": "https://localhost:8080/",
          "height": 71
        },
        "outputId": "485df7e3-b2af-4fa9-831a-b2761e23a461"
      },
      "source": [
        "from sklearn.linear_model import LinearRegression\n",
        "lin_reg = LinearRegression()\n",
        "lin_reg.fit(X, y)\n",
        "print(lin_reg.intercept_, lin_reg.coef_)\n",
        "lin_reg.predict(X_new)"
      ],
      "execution_count": 23,
      "outputs": [
        {
          "output_type": "stream",
          "text": [
            "[4.21509616] [[2.77011339]]\n"
          ],
          "name": "stdout"
        },
        {
          "output_type": "execute_result",
          "data": {
            "text/plain": [
              "array([[4.21509616],\n",
              "       [9.75532293]])"
            ]
          },
          "metadata": {
            "tags": []
          },
          "execution_count": 23
        }
      ]
    },
    {
      "cell_type": "markdown",
      "metadata": {
        "id": "QWMBh1cZDYA9",
        "colab_type": "text"
      },
      "source": [
        "The **LinearRegression** class is based on the `scipy.linalg.lstsq()` function (the name stands for “**least squares**”), which you could call directly: \n",
        "공식이 똑같기 때문에 값이 거의 비슷하게 나온다.(내용적으로 동일)  \n",
        "그런데 역행렬을 구하는 방법이 여러개이기 때문에 거기서 오차가 약간 발생할 수 있다."
      ]
    },
    {
      "cell_type": "code",
      "metadata": {
        "id": "HCyAFzsKAPKq",
        "colab_type": "code",
        "colab": {
          "base_uri": "https://localhost:8080/",
          "height": 71
        },
        "outputId": "027c302f-e250-4ef9-e7d4-c0cf1014682e"
      },
      "source": [
        "theta_best_svd, residuals, rank, s = np.linalg.lstsq(X_b, y, rcond=1e-6)#1e-6 = 10^-6/0.000001\n",
        "print(rank, s)\n",
        "theta_best_svd"
      ],
      "execution_count": 24,
      "outputs": [
        {
          "output_type": "stream",
          "text": [
            "2 [14.37020392  4.11961067]\n"
          ],
          "name": "stdout"
        },
        {
          "output_type": "execute_result",
          "data": {
            "text/plain": [
              "array([[4.21509616],\n",
              "       [2.77011339]])"
            ]
          },
          "metadata": {
            "tags": []
          },
          "execution_count": 24
        }
      ]
    },
    {
      "cell_type": "markdown",
      "metadata": {
        "id": "5dpo_3t3GNtP",
        "colab_type": "text"
      },
      "source": [
        " $\\hat{\\boldsymbol{\\theta}}=\\textbf{X}^+\\textbf{y}$, where $\\textbf{X}^+$ is the pseudoinverse of $\\textbf{X}$"
      ]
    },
    {
      "cell_type": "code",
      "metadata": {
        "id": "rSQGEBzgDLEP",
        "colab_type": "code",
        "colab": {
          "base_uri": "https://localhost:8080/",
          "height": 53
        },
        "outputId": "7eab1f06-d781-4abc-a71e-fbad5b398da1"
      },
      "source": [
        "np.linalg.pinv(X_b).dot(y)"
      ],
      "execution_count": 25,
      "outputs": [
        {
          "output_type": "execute_result",
          "data": {
            "text/plain": [
              "array([[4.21509616],\n",
              "       [2.77011339]])"
            ]
          },
          "metadata": {
            "tags": []
          },
          "execution_count": 25
        }
      ]
    },
    {
      "cell_type": "markdown",
      "metadata": {
        "id": "VNVEtEdGLxgR",
        "colab_type": "text"
      },
      "source": [
        "# Gradient Descent\n",
        "minimum 기울기 = 0  \n",
        "\n",
        "* it measures **the local gradient of the error function** with regard to the parameter vector $\\boldsymbol{\\theta}$, and \n",
        "* it goes in the direction of descending gradient. \n",
        "* Once the gradient is zero, you have reached a minimum\n",
        "\n",
        "\n",
        "An important parameter in Gradient Descent is **the size of the steps**, determined by the **learning rate** *hyperparameter*. "
      ]
    },
    {
      "cell_type": "markdown",
      "metadata": {
        "id": "2GryO5u8Tp5j",
        "colab_type": "text"
      },
      "source": [
        "This diagram also illustrates the fact that **training a model** means **searching for a combination of model parameters that minimizes a cost function (over the training set)**. "
      ]
    },
    {
      "cell_type": "markdown",
      "metadata": {
        "id": "xJn4rfmYU5t3",
        "colab_type": "text"
      },
      "source": [
        "$$\n",
        "\\frac{\\partial }{\\partial \\theta_j}\\text{MSE}(\\boldsymbol{\\theta})=\\frac{2}{m}\\sum^m _{i=1}\\left( \\boldsymbol{\\theta}^T \\textbf{x}^{(i)}-y^{(i)}\\right)x_j^{(i)} \n",
        "$$"
      ]
    },
    {
      "cell_type": "code",
      "metadata": {
        "id": "tJ7Rm4fLGQqL",
        "colab_type": "code",
        "colab": {}
      },
      "source": [
        "eta = 0.1  # learning rate\n",
        "n_iterations = 1000\n",
        "m = 100\n",
        "\n",
        "theta = np.random.randn(2,1)  # random initialization\n",
        "\n",
        "for iteration in range(n_iterations):\n",
        "  gradients = 2/m * X_b.T.dot(X_b.dot(theta) - y)\n",
        "  theta = theta - eta * gradients"
      ],
      "execution_count": 0,
      "outputs": []
    },
    {
      "cell_type": "code",
      "metadata": {
        "id": "0e0qnJDNUKS2",
        "colab_type": "code",
        "colab": {
          "base_uri": "https://localhost:8080/",
          "height": 53
        },
        "outputId": "d856e281-e217-4441-85bd-20f3c895b574"
      },
      "source": [
        "theta"
      ],
      "execution_count": 27,
      "outputs": [
        {
          "output_type": "execute_result",
          "data": {
            "text/plain": [
              "array([[4.21509616],\n",
              "       [2.77011339]])"
            ]
          },
          "metadata": {
            "tags": []
          },
          "execution_count": 27
        }
      ]
    },
    {
      "cell_type": "code",
      "metadata": {
        "id": "aMlfktwbWG8Y",
        "colab_type": "code",
        "colab": {
          "base_uri": "https://localhost:8080/",
          "height": 53
        },
        "outputId": "5eef0768-8758-47a9-acc4-b2ebbbe2ed2e"
      },
      "source": [
        "X_new_b.dot(theta)"
      ],
      "execution_count": 29,
      "outputs": [
        {
          "output_type": "execute_result",
          "data": {
            "text/plain": [
              "array([[4.21509616],\n",
              "       [9.75532293]])"
            ]
          },
          "metadata": {
            "tags": []
          },
          "execution_count": 29
        }
      ]
    },
    {
      "cell_type": "code",
      "metadata": {
        "id": "mRRBes3OWNML",
        "colab_type": "code",
        "colab": {
          "base_uri": "https://localhost:8080/",
          "height": 307
        },
        "outputId": "214628e8-3ebb-4002-fefe-cdbc6d13e474"
      },
      "source": [
        "def plot_gradient_descent(theta, eta, theta_path=None):\n",
        "\n",
        "  m = len(X_b)\n",
        "  plt.plot(X,y, \"b.\")\n",
        "  n_iter = 1000\n",
        "\n",
        "  for i in range(n_iter):\n",
        "    if i < 10:\n",
        "      y_predict = X_new_b.dot(theta)\n",
        "      style= 'b-' if i > 0 else 'r--' #start > red!\n",
        "      plt.plot(X_new,y_predict,style)\n",
        "    gradients = 2/m * X_b.T.dot(X_b.dot(theta) - y)\n",
        "    theta = theta - gradients *eta\n",
        "    if theta_path is not None:\n",
        "      theta_path.append(theta)\n",
        "  plt.xlabel('$x_1$', fontsize=18)\n",
        "  plt.axis([0,2,0,15])\n",
        "  plt.title('$\\eta= {}$'.format(eta), fontsize=16)\n",
        "\n",
        "\n",
        "np.random.seed(42)\n",
        "theta = np.random.randn(2,1) # randominitialization\n",
        "\n",
        "theta_path_bgd = []\n",
        "\n",
        "plt.figure(figsize=(10,4))\n",
        "plt.subplot(131)\n",
        "plot_gradient_descent(theta, eta=0.02)\n",
        "plt.ylabel('$y$',fontsize=18, rotation=0)\n",
        "plt.subplot(132)\n",
        "plot_gradient_descent(theta, eta=0.1, theta_path = theta_path_bgd)\n",
        "plt.subplot(133)\n",
        "plot_gradient_descent(theta, eta=0.5)\n",
        "\n",
        "plt.show()"
      ],
      "execution_count": 30,
      "outputs": [
        {
          "output_type": "display_data",
          "data": {
            "image/png": "[encoded data removed]",
            "text/plain": [
              "<Figure size 720x288 with 3 Axes>"
            ]
          },
          "metadata": {
            "tags": [],
            "needs_background": "light"
          }
        }
      ]
    },
    {
      "cell_type": "markdown",
      "metadata": {
        "id": "dHr3O05HWme3",
        "colab_type": "text"
      },
      "source": [
        "**the learning rate is too low: the algorithm will eventually reach the solution, but it will take a long time.**\n",
        "\n",
        "시간이 오래 걸리는건 전혀 좋은게 아니다."
      ]
    },
    {
      "cell_type": "markdown",
      "metadata": {
        "id": "VZj3UxyfY553",
        "colab_type": "text"
      },
      "source": [
        "**learning schedule**.\n"
      ]
    },
    {
      "cell_type": "code",
      "metadata": {
        "id": "vZSH_mKEWPZd",
        "colab_type": "code",
        "colab": {
          "base_uri": "https://localhost:8080/",
          "height": 287
        },
        "outputId": "bb71881b-5275-4798-dd1b-844c4aef8933"
      },
      "source": [
        "theta_path_sgd = []\n",
        "m = len(X_b)\n",
        "np.random.seed(42)\n",
        "\n",
        "n_epochs = 50\n",
        "t0, t1 = 5, 50  # learning schedule hyperparameters\n",
        "\n",
        "def learning_schedule(t):\n",
        "  return t0 / (t + t1)\n",
        "\n",
        "theta = np.random.randn(2,1)  # random initialization\n",
        "\n",
        "for epoch in range(n_epochs):\n",
        "  for i in range(m):\n",
        "    if epoch == 0 and i < 20:          \n",
        "      y_predict = X_new_b.dot(theta)\n",
        "      style = \"b-\" if i > 0 else \"r--\" \n",
        "      plt.plot(X_new, y_predict, style) \n",
        "\n",
        "    random_index = np.random.randint(m)\n",
        "    xi = X_b[random_index:random_index+1]\n",
        "    yi = y[random_index:random_index+1]\n",
        "    gradients = 2 * xi.T.dot(xi.dot(theta) - yi)\n",
        "    eta = learning_schedule(epoch * m + i)\n",
        "    theta = theta - eta * gradients\n",
        "\n",
        "    theta_path_sgd.append(theta)        \n",
        "\n",
        "plt.plot(X, y, \"b.\")                            \n",
        "plt.xlabel(\"$x_1$\", fontsize=18)                    \n",
        "plt.ylabel(\"$y$\", rotation=0, fontsize=18)           \n",
        "plt.axis([0, 2, 0, 15])                           \n",
        "plt.show()                                        "
      ],
      "execution_count": 31,
      "outputs": [
        {
          "output_type": "display_data",
          "data": {
            "image/png": "[encoded data removed]",
            "text/plain": [
              "<Figure size 432x288 with 1 Axes>"
            ]
          },
          "metadata": {
            "tags": [],
            "needs_background": "light"
          }
        }
      ]
    },
    {
      "cell_type": "code",
      "metadata": {
        "id": "-7c7_CQhY_yy",
        "colab_type": "code",
        "colab": {
          "base_uri": "https://localhost:8080/",
          "height": 53
        },
        "outputId": "ddad4a4b-51c6-4690-d219-b8a6848bc5e7"
      },
      "source": [
        "theta"
      ],
      "execution_count": 32,
      "outputs": [
        {
          "output_type": "execute_result",
          "data": {
            "text/plain": [
              "array([[4.21076011],\n",
              "       [2.74856079]])"
            ]
          },
          "metadata": {
            "tags": []
          },
          "execution_count": 32
        }
      ]
    },
    {
      "cell_type": "code",
      "metadata": {
        "id": "9mLZJtFmZCJg",
        "colab_type": "code",
        "colab": {
          "base_uri": "https://localhost:8080/",
          "height": 125
        },
        "outputId": "da26036b-e77e-4cde-a8e9-e43e893e687e"
      },
      "source": [
        "from sklearn.linear_model import SGDRegressor\n",
        "sgd_reg = SGDRegressor(max_iter=1000, tol=1e-3, penalty=None, eta0=0.1)\n",
        "sgd_reg.fit(X, y.ravel())"
      ],
      "execution_count": 33,
      "outputs": [
        {
          "output_type": "execute_result",
          "data": {
            "text/plain": [
              "SGDRegressor(alpha=0.0001, average=False, early_stopping=False, epsilon=0.1,\n",
              "             eta0=0.1, fit_intercept=True, l1_ratio=0.15,\n",
              "             learning_rate='invscaling', loss='squared_loss', max_iter=1000,\n",
              "             n_iter_no_change=5, penalty=None, power_t=0.25, random_state=None,\n",
              "             shuffle=True, tol=0.001, validation_fraction=0.1, verbose=0,\n",
              "             warm_start=False)"
            ]
          },
          "metadata": {
            "tags": []
          },
          "execution_count": 33
        }
      ]
    },
    {
      "cell_type": "code",
      "metadata": {
        "id": "oXpewopdaLIe",
        "colab_type": "code",
        "colab": {
          "base_uri": "https://localhost:8080/",
          "height": 35
        },
        "outputId": "60e2f524-62ab-4c05-806b-c7d619a541d1"
      },
      "source": [
        "sgd_reg.intercept_, sgd_reg.coef_"
      ],
      "execution_count": 34,
      "outputs": [
        {
          "output_type": "execute_result",
          "data": {
            "text/plain": [
              "(array([4.23868557]), array([2.82181634]))"
            ]
          },
          "metadata": {
            "tags": []
          },
          "execution_count": 34
        }
      ]
    },
    {
      "cell_type": "markdown",
      "metadata": {
        "id": "p7nqC9_9aV1T",
        "colab_type": "text"
      },
      "source": [
        "## Mini-batch Gradient Descent"
      ]
    },
    {
      "cell_type": "code",
      "metadata": {
        "id": "11wv3PrmaNG2",
        "colab_type": "code",
        "colab": {}
      },
      "source": [
        "theta_path_mgd = []\n",
        "\n",
        "n_iterations = 50\n",
        "minibatch_size = 20\n",
        "\n",
        "np.random.seed(42)\n",
        "theta = np.random.randn(2,1)\n",
        "\n",
        "t0, t1 = 200, 1000\n",
        "def learning_schedule(t):\n",
        "    return t0 / (t + t1)\n",
        "\n",
        "t = 0\n",
        "for epoch in range(n_iterations):\n",
        "    shuffled_indices = np.random.permutation(m)\n",
        "    X_b_shuffled = X_b[shuffled_indices]\n",
        "    y_shuffled = y[shuffled_indices]\n",
        "    for i in range(0, m, minibatch_size):\n",
        "        t += 1\n",
        "        xi = X_b_shuffled[i:i+minibatch_size]\n",
        "        yi = y_shuffled[i:i+minibatch_size]\n",
        "        gradients = 2/minibatch_size * xi.T.dot(xi.dot(theta) - yi)\n",
        "        eta = learning_schedule(t)\n",
        "        theta = theta - eta * gradients\n",
        "        theta_path_mgd.append(theta)"
      ],
      "execution_count": 0,
      "outputs": []
    },
    {
      "cell_type": "code",
      "metadata": {
        "id": "urbE1uFGaT5z",
        "colab_type": "code",
        "colab": {
          "base_uri": "https://localhost:8080/",
          "height": 53
        },
        "outputId": "9589d39e-0eba-4337-cf52-4fc01d7184e5"
      },
      "source": [
        "theta"
      ],
      "execution_count": 36,
      "outputs": [
        {
          "output_type": "execute_result",
          "data": {
            "text/plain": [
              "array([[4.25214635],\n",
              "       [2.7896408 ]])"
            ]
          },
          "metadata": {
            "tags": []
          },
          "execution_count": 36
        }
      ]
    },
    {
      "cell_type": "code",
      "metadata": {
        "id": "QLPjKI6Haq3s",
        "colab_type": "code",
        "colab": {}
      },
      "source": [
        "theta_path_bgd = np.array(theta_path_bgd)\n",
        "theta_path_sgd = np.array(theta_path_sgd)\n",
        "theta_path_mgd = np.array(theta_path_mgd)"
      ],
      "execution_count": 0,
      "outputs": []
    },
    {
      "cell_type": "code",
      "metadata": {
        "id": "Au_iWnAlas6v",
        "colab_type": "code",
        "colab": {
          "base_uri": "https://localhost:8080/",
          "height": 292
        },
        "outputId": "f500b27d-2f4d-4e82-ab50-3cc2ed62a2b1"
      },
      "source": [
        "plt.figure(figsize=(7,4))\n",
        "plt.plot(theta_path_sgd[:, 0], theta_path_sgd[:, 1], \"r-s\", linewidth=1, label=\"Stochastic\")\n",
        "plt.plot(theta_path_mgd[:, 0], theta_path_mgd[:, 1], \"g-+\", linewidth=2, label=\"Mini-batch\")\n",
        "plt.plot(theta_path_bgd[:, 0], theta_path_bgd[:, 1], \"b-o\", linewidth=3, label=\"Batch\")\n",
        "plt.legend(loc=\"upper left\", fontsize=16)\n",
        "plt.xlabel(r\"$\\theta_0$\", fontsize=20)\n",
        "plt.ylabel(r\"$\\theta_1$   \", fontsize=20, rotation=0)\n",
        "plt.axis([2.5, 4.5, 2.3, 3.9])\n",
        "plt.show()"
      ],
      "execution_count": 38,
      "outputs": [
        {
          "output_type": "display_data",
          "data": {
            "image/png": "[encoded data removed]",
            "text/plain": [
              "<Figure size 504x288 with 1 Axes>"
            ]
          },
          "metadata": {
            "tags": [],
            "needs_background": "light"
          }
        }
      ]
    },
    {
      "cell_type": "markdown",
      "metadata": {
        "id": "gN5SprXTa18F",
        "colab_type": "text"
      },
      "source": [
        "Batch => 100명이 동의 한 길\n",
        "\n",
        "| Algorithm\t| Large $m$ |\tOut-of-core support |\tLarge $n$ |\tHyperparams\t | Scaling required |Scikit-Learn |\n",
        "|:---:|:---:|:---:|:---:|:---:|:---:|:---:|\n",
        "| Normal Equation | Fast | No | Slow | 0 | No |N/A|\n",
        "| SVD | Fast | No | Slow | 0 | No |LinearRegression|\n",
        "| Batch GD | Slow | No | Fast | 2 | Yes |SGDRegressor|\n",
        "| Stochastic GD | Fast | Yes | Fast | $\\ge2$ | Yes |SGDRegressor|\n",
        "| Mini-batch GD | Fast | Yes | Fast | $\\ge2$ | Yes |SGDRegressor|\n",
        "\n",
        "\n",
        "Batch GD는 샘플 수에 취약하다."
      ]
    },
    {
      "cell_type": "code",
      "metadata": {
        "id": "QSyZF5g1bILE",
        "colab_type": "code",
        "colab": {}
      },
      "source": [
        ""
      ],
      "execution_count": 0,
      "outputs": []
    }
  ]
}