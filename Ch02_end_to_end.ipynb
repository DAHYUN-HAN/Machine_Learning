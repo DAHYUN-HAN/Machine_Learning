{
  "nbformat": 4,
  "nbformat_minor": 0,
  "metadata": {
    "colab": {
      "name": "Ch02_end_to_end.ipynb",
      "provenance": [],
      "collapsed_sections": [],
      "include_colab_link": true
    },
    "kernelspec": {
      "name": "python3",
      "display_name": "Python 3"
    }
  },
  "cells": [
    {
      "cell_type": "markdown",
      "metadata": {
        "id": "view-in-github",
        "colab_type": "text"
      },
      "source": [
        "<a href=\"https://colab.research.google.com/github/DAHYUN-HAN/Machine_Learning/blob/master/Ch02_end_to_end.ipynb\" target=\"_parent\"><img src=\"https://colab.research.google.com/assets/colab-badge.svg\" alt=\"Open In Colab\"/></a>"
      ]
    },
    {
      "cell_type": "markdown",
      "metadata": {
        "id": "6pG6ZkR3MMj5",
        "colab_type": "text"
      },
      "source": [
        "In this chapter you will work through an example project end to end, pretending to be a recently hired data scientist at a real estate company. Here are the main steps you will go through:\n",
        "\n",
        "1. Look at the big picture.\n",
        "2. Get the data.\n",
        "3. Discover and visualize the data to gain insights.\n",
        "4. Prepare the data for Machine Learning algorithms.\n",
        "5. Select a model and train it.\n",
        "6. Fine-tune your model.\n",
        "7. Present your solution.\n",
        "8. Launch, monitor, and maintain your system."
      ]
    },
    {
      "cell_type": "markdown",
      "metadata": {
        "id": "7-r9y3gBM3wb",
        "colab_type": "text"
      },
      "source": [
        "## 2.1 Working with Real Data\n",
        "\n",
        "When you are learning about Machine Learning, it is best to experiment with real-world data, not artificial datasets. Fortunately, there are thousands of open datasets to choose from, ranging across all sorts of domains. Here are a few places you can look to get data:\n",
        "\n",
        "* Popular open data repositories\n",
        "\t* [UC Irvine Machine Learning Repository](http://archive.ics.uci.edu/ml/index.php)\n",
        "\t* [Kaggle datasets](https://www.kaggle.com/datasets)\n",
        "\t* [Amazon’s AWS datasets](https://registry.opendata.aws)\n",
        "* Meta portals (they list open data repositories)\n",
        "\t* [Data Portals](http://dataportals.org)\n",
        "\t* [OpenDataMonitor](https://opendatamonitor.eu/frontend/web/index.php?r=dashboard%2Findex)\n",
        "\t* [Quandl](https://www.quandl.com)\n",
        "* Other pages listing many popular open data repositories\n",
        "\t* [Wikipedia’s list of Machine Learning datasets](https://en.wikipedia.org/wiki/List_of_datasets_for_machine-learning_research)\n",
        "\t* [Quora.com](https://www.quora.com/Where-can-I-find-large-datasets-open-to-the-public)\n",
        "\t* [The datasets subreddit](https://www.reddit.com/r/datasets/)\n",
        "\n",
        "In this chapter we’ll use the California Housing Prices dataset from the StatLib repository (see Figure 2-1). This dataset is based on data from the 1990 California census. It is not exactly recent (a nice house in the Bay Area was still affordable at the time), but it has many qualities for learning, so we will pretend it is recent data.**For teaching purposes I’ve added a categorical attribute and removed a few features**\n",
        "\n",
        "> The original dataset appeared in R. Kelley Pace and Ronald Barry, “Sparse Spatial Autoregressions,” Statistics & Probability Letters 33, no. 3 (1997): 291–297."
      ]
    },
    {
      "cell_type": "markdown",
      "metadata": {
        "id": "hl3Ryg9WNZcu",
        "colab_type": "text"
      },
      "source": [
        "## Look at the Big Picture"
      ]
    },
    {
      "cell_type": "markdown",
      "metadata": {
        "id": "zj5MS2Z2NoJd",
        "colab_type": "text"
      },
      "source": [
        "## 2.3 Get the Data\n",
        "\n",
        "### 2.3.2 Download the Data\n",
        "\n",
        "In typical environments your data would be available in **a relational database** (or some other common data store) and spread across **multiple tables/documents/files**. To access it, you would first need to get your **credentials** and **access authorizations** and familiarize yourself with the **data schema**. \n",
        "\n",
        "In this project, however, things are much simpler: you will just download a single compressed file, housing.tgz, which contains a comma-separated values (CSV) file called housing.csv with all the data.\n",
        "\n",
        "You could use your web browser to download the file and run `tar xzf housing.tgz` to decompress it and extract the CSV file, but it is preferable to create a small function to do that. \n",
        "Having a function that downloads the data is useful in particular **if the data changes regularly**: you can write a small script that uses the function to fetch the latest data (or you can set up a scheduled job to do that automatically at regular intervals). Automating the process of fetching the data is also useful if you need to **install the dataset on multiple machines**.\n",
        "\n",
        "Here is the function to fetch the data"
      ]
    },
    {
      "cell_type": "code",
      "metadata": {
        "id": "y-faWkAWmVuk",
        "colab_type": "code",
        "colab": {}
      },
      "source": [
        "import os\n",
        "import urllib\n",
        "import tarfile\n",
        "\n",
        "DL_URL_ROOT = 'https://raw.githubusercontent.com/ageron/handson-ml2/master/'\n",
        "SV_PATH = os.path.join('datasets','housing')\n",
        "DL_URL = DL_URL_ROOT + 'datasets/housing/housing.tgz'\n",
        "\n",
        "def fetch_housing_data (housing_url=DL_URL, housing_path=SV_PATH):\n",
        "  os.makedirs(housing_path, exist_ok=True)\n",
        "  tgz_path = os.path.join(housing_path, 'housing.tgz')\n",
        "  urllib.request.urlretrieve(housing_url, tgz_path)\n",
        "  housing_tgz = tarfile.open(tgz_path)\n",
        "  housing_tgz.extractall(path=housing_path)\n",
        "  housing_tgz.close()\n"
      ],
      "execution_count": 0,
      "outputs": []
    },
    {
      "cell_type": "markdown",
      "metadata": {
        "id": "8hIYQ2XuqSzW",
        "colab_type": "text"
      },
      "source": [
        "Now when you call `fetch_housing_data()`, it creates a `datasets/housing` directory in your workspace, downloads the `housing.tgz` file, and extracts the `housing.csv` file from it in this directory.\n",
        "\n",
        "Now let’s load the data using pandas. Once again, you should write a small function to load the data:"
      ]
    },
    {
      "cell_type": "code",
      "metadata": {
        "id": "9d3E-gILneGv",
        "colab_type": "code",
        "colab": {}
      },
      "source": [
        "fetch_housing_data()"
      ],
      "execution_count": 0,
      "outputs": []
    },
    {
      "cell_type": "markdown",
      "metadata": {
        "id": "kJtDQjxul_1T",
        "colab_type": "text"
      },
      "source": [
        "## 참고\n",
        "\n",
        "scikitlearn에서 제공하는 데이터 셋도 있긴 함.\n",
        "샘플수가 조금 작고 feature의 수가 다름."
      ]
    },
    {
      "cell_type": "code",
      "metadata": {
        "id": "GzLSY_5fqGBR",
        "colab_type": "code",
        "outputId": "c9c324cc-02cc-4a00-f8b3-1b4cfbefbb9f",
        "colab": {
          "base_uri": "https://localhost:8080/",
          "height": 53
        }
      },
      "source": [
        "from sklearn.datasets import load_boston\n",
        "\n",
        "housing = load_boston()\n",
        "print(housing.data.shape)\n",
        "type(housing)\n"
      ],
      "execution_count": 3,
      "outputs": [
        {
          "output_type": "stream",
          "text": [
            "(506, 13)\n"
          ],
          "name": "stdout"
        },
        {
          "output_type": "execute_result",
          "data": {
            "text/plain": [
              "sklearn.utils.Bunch"
            ]
          },
          "metadata": {
            "tags": []
          },
          "execution_count": 3
        }
      ]
    },
    {
      "cell_type": "markdown",
      "metadata": {
        "id": "jHZLpscNr7OO",
        "colab_type": "text"
      },
      "source": [
        "The codes below set `housing_pd`, a pandas DataFrame object containing all the data."
      ]
    },
    {
      "cell_type": "code",
      "metadata": {
        "id": "oDOR2wpGq5mi",
        "colab_type": "code",
        "colab": {}
      },
      "source": [
        "import pandas as pd\n",
        "\n",
        "csv_path = os.path.join(SV_PATH,'housing.csv')\n",
        "housing_pd = pd.read_csv(csv_path)"
      ],
      "execution_count": 0,
      "outputs": []
    },
    {
      "cell_type": "code",
      "metadata": {
        "id": "0V6f0d_xrwQk",
        "colab_type": "code",
        "outputId": "091762b2-06d5-4d9f-feb4-2553566d8e50",
        "colab": {
          "base_uri": "https://localhost:8080/",
          "height": 35
        }
      },
      "source": [
        "housing_pd.shape"
      ],
      "execution_count": 5,
      "outputs": [
        {
          "output_type": "execute_result",
          "data": {
            "text/plain": [
              "(20640, 10)"
            ]
          },
          "metadata": {
            "tags": []
          },
          "execution_count": 5
        }
      ]
    },
    {
      "cell_type": "markdown",
      "metadata": {
        "id": "K2blqWpgtGlw",
        "colab_type": "text"
      },
      "source": [
        "### 2.3.3 Take a Quick Look at the Data Structure\n",
        "\n",
        "Let's take a look at the top five rows using the DataFrame's `head()` method.\n",
        "\n",
        "It shows top five rows in thd dataset."
      ]
    },
    {
      "cell_type": "code",
      "metadata": {
        "id": "--dgSwZsryGV",
        "colab_type": "code",
        "outputId": "4a2505ba-9959-4980-a7d9-f13542f0ab5f",
        "colab": {
          "base_uri": "https://localhost:8080/",
          "height": 235
        }
      },
      "source": [
        "housing_pd.head(6)"
      ],
      "execution_count": 6,
      "outputs": [
        {
          "output_type": "execute_result",
          "data": {
            "text/html": [
              "<div>\n",
              "<style scoped>\n",
              "    .dataframe tbody tr th:only-of-type {\n",
              "        vertical-align: middle;\n",
              "    }\n",
              "\n",
              "    .dataframe tbody tr th {\n",
              "        vertical-align: top;\n",
              "    }\n",
              "\n",
              "    .dataframe thead th {\n",
              "        text-align: right;\n",
              "    }\n",
              "</style>\n",
              "<table border=\"1\" class=\"dataframe\">\n",
              "  <thead>\n",
              "    <tr style=\"text-align: right;\">\n",
              "      <th></th>\n",
              "      <th>longitude</th>\n",
              "      <th>latitude</th>\n",
              "      <th>housing_median_age</th>\n",
              "      <th>total_rooms</th>\n",
              "      <th>total_bedrooms</th>\n",
              "      <th>population</th>\n",
              "      <th>households</th>\n",
              "      <th>median_income</th>\n",
              "      <th>median_house_value</th>\n",
              "      <th>ocean_proximity</th>\n",
              "    </tr>\n",
              "  </thead>\n",
              "  <tbody>\n",
              "    <tr>\n",
              "      <th>0</th>\n",
              "      <td>-122.23</td>\n",
              "      <td>37.88</td>\n",
              "      <td>41.0</td>\n",
              "      <td>880.0</td>\n",
              "      <td>129.0</td>\n",
              "      <td>322.0</td>\n",
              "      <td>126.0</td>\n",
              "      <td>8.3252</td>\n",
              "      <td>452600.0</td>\n",
              "      <td>NEAR BAY</td>\n",
              "    </tr>\n",
              "    <tr>\n",
              "      <th>1</th>\n",
              "      <td>-122.22</td>\n",
              "      <td>37.86</td>\n",
              "      <td>21.0</td>\n",
              "      <td>7099.0</td>\n",
              "      <td>1106.0</td>\n",
              "      <td>2401.0</td>\n",
              "      <td>1138.0</td>\n",
              "      <td>8.3014</td>\n",
              "      <td>358500.0</td>\n",
              "      <td>NEAR BAY</td>\n",
              "    </tr>\n",
              "    <tr>\n",
              "      <th>2</th>\n",
              "      <td>-122.24</td>\n",
              "      <td>37.85</td>\n",
              "      <td>52.0</td>\n",
              "      <td>1467.0</td>\n",
              "      <td>190.0</td>\n",
              "      <td>496.0</td>\n",
              "      <td>177.0</td>\n",
              "      <td>7.2574</td>\n",
              "      <td>352100.0</td>\n",
              "      <td>NEAR BAY</td>\n",
              "    </tr>\n",
              "    <tr>\n",
              "      <th>3</th>\n",
              "      <td>-122.25</td>\n",
              "      <td>37.85</td>\n",
              "      <td>52.0</td>\n",
              "      <td>1274.0</td>\n",
              "      <td>235.0</td>\n",
              "      <td>558.0</td>\n",
              "      <td>219.0</td>\n",
              "      <td>5.6431</td>\n",
              "      <td>341300.0</td>\n",
              "      <td>NEAR BAY</td>\n",
              "    </tr>\n",
              "    <tr>\n",
              "      <th>4</th>\n",
              "      <td>-122.25</td>\n",
              "      <td>37.85</td>\n",
              "      <td>52.0</td>\n",
              "      <td>1627.0</td>\n",
              "      <td>280.0</td>\n",
              "      <td>565.0</td>\n",
              "      <td>259.0</td>\n",
              "      <td>3.8462</td>\n",
              "      <td>342200.0</td>\n",
              "      <td>NEAR BAY</td>\n",
              "    </tr>\n",
              "    <tr>\n",
              "      <th>5</th>\n",
              "      <td>-122.25</td>\n",
              "      <td>37.85</td>\n",
              "      <td>52.0</td>\n",
              "      <td>919.0</td>\n",
              "      <td>213.0</td>\n",
              "      <td>413.0</td>\n",
              "      <td>193.0</td>\n",
              "      <td>4.0368</td>\n",
              "      <td>269700.0</td>\n",
              "      <td>NEAR BAY</td>\n",
              "    </tr>\n",
              "  </tbody>\n",
              "</table>\n",
              "</div>"
            ],
            "text/plain": [
              "   longitude  latitude  ...  median_house_value  ocean_proximity\n",
              "0    -122.23     37.88  ...            452600.0         NEAR BAY\n",
              "1    -122.22     37.86  ...            358500.0         NEAR BAY\n",
              "2    -122.24     37.85  ...            352100.0         NEAR BAY\n",
              "3    -122.25     37.85  ...            341300.0         NEAR BAY\n",
              "4    -122.25     37.85  ...            342200.0         NEAR BAY\n",
              "5    -122.25     37.85  ...            269700.0         NEAR BAY\n",
              "\n",
              "[6 rows x 10 columns]"
            ]
          },
          "metadata": {
            "tags": []
          },
          "execution_count": 6
        }
      ]
    },
    {
      "cell_type": "markdown",
      "metadata": {
        "id": "oMHPiJ83tvB_",
        "colab_type": "text"
      },
      "source": [
        "Each row represents one district. There are 10 attributes (you can see the first 6 in the screenshot): \n",
        "\n",
        "* longitude, \n",
        "* latitude, \n",
        "* housing_median_age, \n",
        "* total_rooms, \n",
        "* total_bedrooms, \n",
        "* population, \n",
        "* households, \n",
        "* median_income, \n",
        "* median_house_value, and\n",
        "* ocean_proximity.\n",
        "\n",
        "The `info()` method is useful to get a quick description of the data, in particular the total number of rows, each attribute’s type, and the number of nonnull values."
      ]
    },
    {
      "cell_type": "code",
      "metadata": {
        "id": "RMvsr3KXtSYX",
        "colab_type": "code",
        "outputId": "2f995cd4-f49f-4230-c52d-b371d16cb404",
        "colab": {
          "base_uri": "https://localhost:8080/",
          "height": 323
        }
      },
      "source": [
        "housing_pd.info()"
      ],
      "execution_count": 7,
      "outputs": [
        {
          "output_type": "stream",
          "text": [
            "<class 'pandas.core.frame.DataFrame'>\n",
            "RangeIndex: 20640 entries, 0 to 20639\n",
            "Data columns (total 10 columns):\n",
            " #   Column              Non-Null Count  Dtype  \n",
            "---  ------              --------------  -----  \n",
            " 0   longitude           20640 non-null  float64\n",
            " 1   latitude            20640 non-null  float64\n",
            " 2   housing_median_age  20640 non-null  float64\n",
            " 3   total_rooms         20640 non-null  float64\n",
            " 4   total_bedrooms      20433 non-null  float64\n",
            " 5   population          20640 non-null  float64\n",
            " 6   households          20640 non-null  float64\n",
            " 7   median_income       20640 non-null  float64\n",
            " 8   median_house_value  20640 non-null  float64\n",
            " 9   ocean_proximity     20640 non-null  object \n",
            "dtypes: float64(9), object(1)\n",
            "memory usage: 1.6+ MB\n"
          ],
          "name": "stdout"
        }
      ]
    },
    {
      "cell_type": "markdown",
      "metadata": {
        "id": "9FGrk-97uUfS",
        "colab_type": "text"
      },
      "source": [
        "There are 20,640 instances in the dataset, which means that it is fairly small by Machine Learning standards, but it’s perfect to get started. \n",
        "\n",
        "Notice that the `total_bedrooms` attribute has only 20,433 nonnull values, meaning that 207 districts are missing this feature. We will need to take care of this later.\n",
        "\n",
        "All attributes are **numerical**, except the `ocean_proximity` field. Its type is `object`, so it could hold any kind of Python object. \n",
        "\n",
        "But since you loaded this data from a CSV file, you know that it must be a text attribute. When you looked at the top five rows, you probably noticed that the values in the `ocean_proximity` column were repetitive, which means that it is probably a **categorical attribute**. You can find out what categories exist and how many districts belong to each category by using the `value_counts()` method:"
      ]
    },
    {
      "cell_type": "code",
      "metadata": {
        "id": "79S8dfS1uHY6",
        "colab_type": "code",
        "outputId": "dda24601-43c8-4c00-e713-656bc7387b09",
        "colab": {
          "base_uri": "https://localhost:8080/",
          "height": 125
        }
      },
      "source": [
        "housing_pd['ocean_proximity'].value_counts()"
      ],
      "execution_count": 8,
      "outputs": [
        {
          "output_type": "execute_result",
          "data": {
            "text/plain": [
              "<1H OCEAN     9136\n",
              "INLAND        6551\n",
              "NEAR OCEAN    2658\n",
              "NEAR BAY      2290\n",
              "ISLAND           5\n",
              "Name: ocean_proximity, dtype: int64"
            ]
          },
          "metadata": {
            "tags": []
          },
          "execution_count": 8
        }
      ]
    },
    {
      "cell_type": "markdown",
      "metadata": {
        "id": "U9l7odj6u2xz",
        "colab_type": "text"
      },
      "source": [
        "Let's look at the other fields. The `describe()` method shows a summary of the numerical attributes."
      ]
    },
    {
      "cell_type": "code",
      "metadata": {
        "id": "PKh9_GBMuzNa",
        "colab_type": "code",
        "outputId": "fa2b7f28-e718-4243-bee9-60183a16c386",
        "colab": {
          "base_uri": "https://localhost:8080/",
          "height": 297
        }
      },
      "source": [
        "housing_pd.describe()"
      ],
      "execution_count": 9,
      "outputs": [
        {
          "output_type": "execute_result",
          "data": {
            "text/html": [
              "<div>\n",
              "<style scoped>\n",
              "    .dataframe tbody tr th:only-of-type {\n",
              "        vertical-align: middle;\n",
              "    }\n",
              "\n",
              "    .dataframe tbody tr th {\n",
              "        vertical-align: top;\n",
              "    }\n",
              "\n",
              "    .dataframe thead th {\n",
              "        text-align: right;\n",
              "    }\n",
              "</style>\n",
              "<table border=\"1\" class=\"dataframe\">\n",
              "  <thead>\n",
              "    <tr style=\"text-align: right;\">\n",
              "      <th></th>\n",
              "      <th>longitude</th>\n",
              "      <th>latitude</th>\n",
              "      <th>housing_median_age</th>\n",
              "      <th>total_rooms</th>\n",
              "      <th>total_bedrooms</th>\n",
              "      <th>population</th>\n",
              "      <th>households</th>\n",
              "      <th>median_income</th>\n",
              "      <th>median_house_value</th>\n",
              "    </tr>\n",
              "  </thead>\n",
              "  <tbody>\n",
              "    <tr>\n",
              "      <th>count</th>\n",
              "      <td>20640.000000</td>\n",
              "      <td>20640.000000</td>\n",
              "      <td>20640.000000</td>\n",
              "      <td>20640.000000</td>\n",
              "      <td>20433.000000</td>\n",
              "      <td>20640.000000</td>\n",
              "      <td>20640.000000</td>\n",
              "      <td>20640.000000</td>\n",
              "      <td>20640.000000</td>\n",
              "    </tr>\n",
              "    <tr>\n",
              "      <th>mean</th>\n",
              "      <td>-119.569704</td>\n",
              "      <td>35.631861</td>\n",
              "      <td>28.639486</td>\n",
              "      <td>2635.763081</td>\n",
              "      <td>537.870553</td>\n",
              "      <td>1425.476744</td>\n",
              "      <td>499.539680</td>\n",
              "      <td>3.870671</td>\n",
              "      <td>206855.816909</td>\n",
              "    </tr>\n",
              "    <tr>\n",
              "      <th>std</th>\n",
              "      <td>2.003532</td>\n",
              "      <td>2.135952</td>\n",
              "      <td>12.585558</td>\n",
              "      <td>2181.615252</td>\n",
              "      <td>421.385070</td>\n",
              "      <td>1132.462122</td>\n",
              "      <td>382.329753</td>\n",
              "      <td>1.899822</td>\n",
              "      <td>115395.615874</td>\n",
              "    </tr>\n",
              "    <tr>\n",
              "      <th>min</th>\n",
              "      <td>-124.350000</td>\n",
              "      <td>32.540000</td>\n",
              "      <td>1.000000</td>\n",
              "      <td>2.000000</td>\n",
              "      <td>1.000000</td>\n",
              "      <td>3.000000</td>\n",
              "      <td>1.000000</td>\n",
              "      <td>0.499900</td>\n",
              "      <td>14999.000000</td>\n",
              "    </tr>\n",
              "    <tr>\n",
              "      <th>25%</th>\n",
              "      <td>-121.800000</td>\n",
              "      <td>33.930000</td>\n",
              "      <td>18.000000</td>\n",
              "      <td>1447.750000</td>\n",
              "      <td>296.000000</td>\n",
              "      <td>787.000000</td>\n",
              "      <td>280.000000</td>\n",
              "      <td>2.563400</td>\n",
              "      <td>119600.000000</td>\n",
              "    </tr>\n",
              "    <tr>\n",
              "      <th>50%</th>\n",
              "      <td>-118.490000</td>\n",
              "      <td>34.260000</td>\n",
              "      <td>29.000000</td>\n",
              "      <td>2127.000000</td>\n",
              "      <td>435.000000</td>\n",
              "      <td>1166.000000</td>\n",
              "      <td>409.000000</td>\n",
              "      <td>3.534800</td>\n",
              "      <td>179700.000000</td>\n",
              "    </tr>\n",
              "    <tr>\n",
              "      <th>75%</th>\n",
              "      <td>-118.010000</td>\n",
              "      <td>37.710000</td>\n",
              "      <td>37.000000</td>\n",
              "      <td>3148.000000</td>\n",
              "      <td>647.000000</td>\n",
              "      <td>1725.000000</td>\n",
              "      <td>605.000000</td>\n",
              "      <td>4.743250</td>\n",
              "      <td>264725.000000</td>\n",
              "    </tr>\n",
              "    <tr>\n",
              "      <th>max</th>\n",
              "      <td>-114.310000</td>\n",
              "      <td>41.950000</td>\n",
              "      <td>52.000000</td>\n",
              "      <td>39320.000000</td>\n",
              "      <td>6445.000000</td>\n",
              "      <td>35682.000000</td>\n",
              "      <td>6082.000000</td>\n",
              "      <td>15.000100</td>\n",
              "      <td>500001.000000</td>\n",
              "    </tr>\n",
              "  </tbody>\n",
              "</table>\n",
              "</div>"
            ],
            "text/plain": [
              "          longitude      latitude  ...  median_income  median_house_value\n",
              "count  20640.000000  20640.000000  ...   20640.000000        20640.000000\n",
              "mean    -119.569704     35.631861  ...       3.870671       206855.816909\n",
              "std        2.003532      2.135952  ...       1.899822       115395.615874\n",
              "min     -124.350000     32.540000  ...       0.499900        14999.000000\n",
              "25%     -121.800000     33.930000  ...       2.563400       119600.000000\n",
              "50%     -118.490000     34.260000  ...       3.534800       179700.000000\n",
              "75%     -118.010000     37.710000  ...       4.743250       264725.000000\n",
              "max     -114.310000     41.950000  ...      15.000100       500001.000000\n",
              "\n",
              "[8 rows x 9 columns]"
            ]
          },
          "metadata": {
            "tags": []
          },
          "execution_count": 9
        }
      ]
    },
    {
      "cell_type": "markdown",
      "metadata": {
        "id": "_642yel61X6A",
        "colab_type": "text"
      },
      "source": [
        "The `count`, `mean`, `min`, and `max rows` are self-explanatory. Note that the null values are ignored (so, for example, the count of `total_bedrooms` is 20,433, not 20,640). The `std` row shows the standard deviation, which measures how dispersed the values are. \n",
        "\n",
        "The `25%`, `50%`, and `75%` rows show the corresponding percentiles: a percentile indicates the value below which a given percentage of observations in a group of observations fall. For example, `25%` of the districts have a `housing_median_age` lower than 18, while `50%` are lower than 29 and `75%` are lower than 37. These are often called **the 25th percentile (or first quartile)**, **the median**, and **the 75th percentile (or third quartile)**.\n",
        "\n",
        "Another quick way to get a feel of the type of data you are dealing with is to plot a histogram for each numerical attribute. A histogram shows the number of instances (on the vertical axis) that have a given value range (on the horizontal axis). You can either plot this one attribute at a time, or you can call the hist() method on the whole dataset (as shown in the following code example), and it will plot a histogram for each numerical attribute "
      ]
    },
    {
      "cell_type": "code",
      "metadata": {
        "id": "1G8xdZQB1XHG",
        "colab_type": "code",
        "outputId": "a924104c-84cb-4039-eeda-bc038d099b3c",
        "colab": {
          "base_uri": "https://localhost:8080/",
          "height": 1000
        }
      },
      "source": [
        "import matplotlib.pyplot as plt\n",
        "housing_pd.hist(bins=50, figsize=(20,15))"
      ],
      "execution_count": 10,
      "outputs": [
        {
          "output_type": "execute_result",
          "data": {
            "text/plain": [
              "array([[<matplotlib.axes._subplots.AxesSubplot object at 0x7feff115f908>,\n",
              "        <matplotlib.axes._subplots.AxesSubplot object at 0x7feff10b5ba8>,\n",
              "        <matplotlib.axes._subplots.AxesSubplot object at 0x7feff106de10>],\n",
              "       [<matplotlib.axes._subplots.AxesSubplot object at 0x7feff10ac0b8>,\n",
              "        <matplotlib.axes._subplots.AxesSubplot object at 0x7feff107fd68>,\n",
              "        <matplotlib.axes._subplots.AxesSubplot object at 0x7feff1008c18>],\n",
              "       [<matplotlib.axes._subplots.AxesSubplot object at 0x7feff0fbde80>,\n",
              "        <matplotlib.axes._subplots.AxesSubplot object at 0x7feff0f7d0f0>,\n",
              "        <matplotlib.axes._subplots.AxesSubplot object at 0x7feff0f7d160>]],\n",
              "      dtype=object)"
            ]
          },
          "metadata": {
            "tags": []
          },
          "execution_count": 10
        },
        {
          "output_type": "display_data",
          "data": {
            "image/png": "[encoded data removed]",
            "text/plain": [
              "<Figure size 1440x1080 with 9 Axes>"
            ]
          },
          "metadata": {
            "tags": [],
            "needs_background": "light"
          }
        }
      ]
    },
    {
      "cell_type": "markdown",
      "metadata": {
        "id": "gjLLdxbR25g5",
        "colab_type": "text"
      },
      "source": [
        "There are a few things you might notice in these histograms:\n",
        "\n",
        "1. First, the median income attribute does not look like it is expressed in US dollars (USD). After checking with the team that collected the data, you are told that the data has been scaled and capped at 15 (actually, 15.0001) for higher median incomes, and at 0.5 (actually, 0.4999) for lower median incomes. The numbers represent roughly tens of thousands of dollars (e.g., 3 actually means about $30,000). Working with preprocessed attributes is common in Machine Learning, and it is not necessarily a problem, but you should try to understand how the data was computed.\n",
        "\n",
        "2. The housing median age and the median house value were also capped. The latter may be a serious problem since it is your target attribute (your labels). Your Machine Learning algorithms may learn that prices never go beyond that limit. You need to check with your client team (the team that will use your system’s output) to see if this is a problem or not. If they tell you that they need precise predictions even beyond $500,000, then you have two options:\n",
        "\n",
        "  * Collect proper labels for the districts whose labels were capped\n",
        "  * Remove those districts from the training set (and also from the test set, since your system should not be evaluated poorly if it predicts values beyond $500,000).\n",
        "\n",
        "3. These attributes have very different scales. We will discuss this later in this chapter, when we explore feature scaling.\n",
        "\n",
        "4. Finally, many histograms are tail-heavy: they extend much farther to the right of the median than to the left. This may make it a bit harder for some Machine Learning algorithms to detect patterns. We will try transforming these attributes later on to have more bell-shaped distributions.\n",
        "\n",
        "Hopefully you now have a better understanding of the kind of data you are dealing with.\n",
        "\n",
        "> ## WARNING\n",
        "> \n",
        "> Wait! Before you look at the data any further, you need to create a test set, put it aside, and never look at it."
      ]
    },
    {
      "cell_type": "markdown",
      "metadata": {
        "id": "6fOSPHSQED7U",
        "colab_type": "text"
      },
      "source": [
        "# Create a Test Set\n",
        "\n",
        "It may sound strange to voluntarily set aside part of the data at this stage. After all, you have only taken a quick glance at the data, and surely you should learn a whole lot more about it before you decide what algorithms to use, right? This is true, but **your brain is an amazing pattern detection system**, which means that it **is highly prone to overfitting**: if you look at the test set, you may stumble upon some seemingly interesting pattern in the test data that leads you to select a particular kind of Machine Learning model. When you estimate the generalization error using the test set, your estimate will be too optimistic, and you will launch a system that will not perform as well as expected. This is called **data snooping bias**.\n",
        "\n",
        "Creating a test set is theoretically simple: pick some instances randomly, typically 20% of the dataset (or less if your dataset is very large), and set them aside:"
      ]
    },
    {
      "cell_type": "code",
      "metadata": {
        "id": "6_o6KsRtvAcE",
        "colab_type": "code",
        "outputId": "8270c04a-c725-4751-ae9f-c30d4ecadd80",
        "colab": {
          "base_uri": "https://localhost:8080/",
          "height": 71
        }
      },
      "source": [
        "from sklearn.model_selection import train_test_split\n",
        "\n",
        "train, test = train_test_split(housing_pd,train_size=0.2)\n",
        "\n",
        "print('ideal train size',housing_pd.shape[0]*0.2)\n",
        "print('train_size :', train.shape)\n",
        "print('test_size :', test.shape)\n",
        "\n",
        "# get the column title of dataframe\n",
        "col_list = list(housing_pd)"
      ],
      "execution_count": 11,
      "outputs": [
        {
          "output_type": "stream",
          "text": [
            "ideal train size 4128.0\n",
            "train_size : (4128, 10)\n",
            "test_size : (16512, 10)\n"
          ],
          "name": "stdout"
        }
      ]
    },
    {
      "cell_type": "code",
      "metadata": {
        "id": "9pSPg0OM5MYT",
        "colab_type": "code",
        "outputId": "a0a3bac3-388b-4f81-9b34-364c5afbfcfd",
        "colab": {
          "base_uri": "https://localhost:8080/",
          "height": 197
        }
      },
      "source": [
        "col_list"
      ],
      "execution_count": 12,
      "outputs": [
        {
          "output_type": "execute_result",
          "data": {
            "text/plain": [
              "['longitude',\n",
              " 'latitude',\n",
              " 'housing_median_age',\n",
              " 'total_rooms',\n",
              " 'total_bedrooms',\n",
              " 'population',\n",
              " 'households',\n",
              " 'median_income',\n",
              " 'median_house_value',\n",
              " 'ocean_proximity']"
            ]
          },
          "metadata": {
            "tags": []
          },
          "execution_count": 12
        }
      ]
    },
    {
      "cell_type": "code",
      "metadata": {
        "id": "nS8TmMBE5NKm",
        "colab_type": "code",
        "colab": {}
      },
      "source": [
        "from sklearn.model_selection import train_test_split\n",
        "\n",
        "x = housing_pd.drop(['median_house_value'], axis=1)\n",
        "list(x)\n",
        "t =x.values\n",
        "t.shape\n",
        "y = housing_pd['median_house_value'].values\n",
        "y.shape\n",
        "\n",
        "X_train,X_test, y_train, y_test = train_test_split(t,y,random_state=0,train_size=0.2)"
      ],
      "execution_count": 0,
      "outputs": []
    },
    {
      "cell_type": "markdown",
      "metadata": {
        "id": "C9PzRsiEErXG",
        "colab_type": "text"
      },
      "source": [
        "Well, this works, but it is not perfect: if you run the program again, it will generate a different test set! Over time, you (or your Machine Learning algorithms) will get to see the whole dataset, which is what you want to avoid.\n",
        "\n",
        "One solution is to save the test set on the first run and then load it in subsequent runs. **Another option is to set the random number generator’s seed** (e.g., with `np.random.seed(42)`) before calling `np.random.permutation()` so that it always generates the same shuffled indices."
      ]
    },
    {
      "cell_type": "code",
      "metadata": {
        "id": "KXBRAABz_7B6",
        "colab_type": "code",
        "outputId": "899408f9-16a7-44dd-d026-d9911a6e74c4",
        "colab": {
          "base_uri": "https://localhost:8080/",
          "height": 53
        }
      },
      "source": [
        "train, test = train_test_split(housing_pd,train_size=0.8, random_state=42)\n",
        "\n",
        "print('train_size :', train.shape)\n",
        "print('test_size :', test.shape)\n"
      ],
      "execution_count": 14,
      "outputs": [
        {
          "output_type": "stream",
          "text": [
            "train_size : (16512, 10)\n",
            "test_size : (4128, 10)\n"
          ],
          "name": "stdout"
        }
      ]
    },
    {
      "cell_type": "markdown",
      "metadata": {
        "id": "rFSAiVVZnltn",
        "colab_type": "text"
      },
      "source": [
        "후에 데이터 등이 추가되는 경우의 index등에 대한 처리 부분은 생략!!"
      ]
    },
    {
      "cell_type": "markdown",
      "metadata": {
        "id": "srow5jD2FgRp",
        "colab_type": "text"
      },
      "source": [
        "So far we have considered purely random sampling methods. This is generally fine if your dataset is large enough (especially relative to the number of attributes), but if it is not, you run the risk of introducing a significant sampling bias. When a survey company decides to call 1,000 people to ask them a few questions, they don’t just pick 1,000 people randomly in a phone book. They try to ensure that these 1,000 people are representative of the whole population. For example, the US population is 51.3% females and 48.7% males, so a well-conducted survey in the US would try to maintain this ratio in the sample: 513 female and 487 male. \n",
        "\n",
        "This is called `stratified sampling`: \n",
        "the population is divided into homogeneous subgroups called **strata**, and the right number of instances are sampled from each **stratum** to guarantee that the test set is representative of the overall population. \n",
        "\n",
        "If the people running the survey used purely random sampling, there would be about a 12% chance of sampling a skewed test set that was either less than 49% female or more than 54% female. Either way, the survey results would be significantly biased.\n",
        "\n",
        "Suppose you chatted with experts who told you that the median income is a very important attribute to predict median housing prices. You may want to ensure that **the test set is representative of the various categories of incomes in the whole dataset**. Since the median income is a continuous numerical attribute, you first need to create an income category attribute. \n",
        "\n",
        "Let’s look at the median income histogram more closely (back in Figure of histgrams): most median income values are clustered around 1.5 to 6 (i.e., $15,000–$60,000), but some median incomes go far beyond 6. **It is important to have a sufficient number of instances in your dataset for each stratum, or else the estimate of a stratum’s importance may be biased**. \n",
        "\n",
        "This means that **you should not have too many strata**, and **each stratum should be large enough**. The following code uses the `pd.cut()` function to create an income category attribute with five categories (labeled from 1 to 5): category 1 ranges from 0 to 1.5 (i.e., less than $15,000), category 2 from 1.5 to 3, and so on:"
      ]
    },
    {
      "cell_type": "code",
      "metadata": {
        "id": "gr8lHH2tYzzK",
        "colab_type": "code",
        "outputId": "d11ede94-776a-4fbd-d9f3-c4b33ad54c36",
        "colab": {
          "base_uri": "https://localhost:8080/",
          "height": 284
        }
      },
      "source": [
        "housing_pd['median_income'].hist(bins=5)"
      ],
      "execution_count": 15,
      "outputs": [
        {
          "output_type": "execute_result",
          "data": {
            "text/plain": [
              "<matplotlib.axes._subplots.AxesSubplot at 0x7feff0887908>"
            ]
          },
          "metadata": {
            "tags": []
          },
          "execution_count": 15
        },
        {
          "output_type": "display_data",
          "data": {
            "image/png": "[encoded data removed]",
            "text/plain": [
              "<Figure size 432x288 with 1 Axes>"
            ]
          },
          "metadata": {
            "tags": [],
            "needs_background": "light"
          }
        }
      ]
    },
    {
      "cell_type": "code",
      "metadata": {
        "id": "n2algFU6Um3t",
        "colab_type": "code",
        "outputId": "f727668b-0ba8-48c4-99c9-84af365c1106",
        "colab": {
          "base_uri": "https://localhost:8080/",
          "height": 251
        }
      },
      "source": [
        "import numpy as np\n",
        "print(housing_pd.shape)\n",
        "housing_pd['income_cat'] = pd.cut(\n",
        "    housing_pd['median_income'],\n",
        "    bins=[0.,1.5,3.0,4.5,6.,np.inf],\n",
        "    labels=[1,2,3,4,5]\n",
        ")\n",
        "\n",
        "print(housing_pd.shape)\n",
        "list(housing_pd)"
      ],
      "execution_count": 16,
      "outputs": [
        {
          "output_type": "stream",
          "text": [
            "(20640, 10)\n",
            "(20640, 11)\n"
          ],
          "name": "stdout"
        },
        {
          "output_type": "execute_result",
          "data": {
            "text/plain": [
              "['longitude',\n",
              " 'latitude',\n",
              " 'housing_median_age',\n",
              " 'total_rooms',\n",
              " 'total_bedrooms',\n",
              " 'population',\n",
              " 'households',\n",
              " 'median_income',\n",
              " 'median_house_value',\n",
              " 'ocean_proximity',\n",
              " 'income_cat']"
            ]
          },
          "metadata": {
            "tags": []
          },
          "execution_count": 16
        }
      ]
    },
    {
      "cell_type": "code",
      "metadata": {
        "id": "gcysJfpHVYV7",
        "colab_type": "code",
        "outputId": "dc76ead8-9fc8-445c-b196-882d4ee8c3fd",
        "colab": {
          "base_uri": "https://localhost:8080/",
          "height": 125
        }
      },
      "source": [
        "housing_pd['income_cat'].value_counts()"
      ],
      "execution_count": 17,
      "outputs": [
        {
          "output_type": "execute_result",
          "data": {
            "text/plain": [
              "3    7236\n",
              "2    6581\n",
              "4    3639\n",
              "5    2362\n",
              "1     822\n",
              "Name: income_cat, dtype: int64"
            ]
          },
          "metadata": {
            "tags": []
          },
          "execution_count": 17
        }
      ]
    },
    {
      "cell_type": "code",
      "metadata": {
        "id": "DHLu4E6lZKLS",
        "colab_type": "code",
        "outputId": "ba91b9f8-b690-4cc3-f949-4b625cb5e642",
        "colab": {
          "base_uri": "https://localhost:8080/",
          "height": 283
        }
      },
      "source": [
        "housing_pd['income_cat'].hist(bins=5)"
      ],
      "execution_count": 18,
      "outputs": [
        {
          "output_type": "execute_result",
          "data": {
            "text/plain": [
              "<matplotlib.axes._subplots.AxesSubplot at 0x7fefefb3e048>"
            ]
          },
          "metadata": {
            "tags": []
          },
          "execution_count": 18
        },
        {
          "output_type": "display_data",
          "data": {
            "image/png": "[encoded data removed]",
            "text/plain": [
              "<Figure size 432x288 with 1 Axes>"
            ]
          },
          "metadata": {
            "tags": [],
            "needs_background": "light"
          }
        }
      ]
    },
    {
      "cell_type": "markdown",
      "metadata": {
        "id": "UDU3NIQpWu6M",
        "colab_type": "text"
      },
      "source": [
        "Now you are ready to do **stratified sampling** *based on the income category*. For this you can use Scikit-Learn’s `StratifiedShuffleSplit` class:"
      ]
    },
    {
      "cell_type": "code",
      "metadata": {
        "id": "xlvhcM1x_e3h",
        "colab_type": "code",
        "colab": {}
      },
      "source": [
        "from sklearn.model_selection import StratifiedShuffleSplit\n",
        "\n",
        "split = StratifiedShuffleSplit(n_splits=1, test_size=0.2, random_state=42)\n",
        "for train_index, test_index in split.split(housing_pd, housing_pd[\"income_cat\"]):\n",
        "  strat_train_set = housing_pd.loc[train_index]\n",
        "  strat_test_set = housing_pd.loc[test_index]"
      ],
      "execution_count": 0,
      "outputs": []
    },
    {
      "cell_type": "markdown",
      "metadata": {
        "id": "DLXMiEyiWmjF",
        "colab_type": "text"
      },
      "source": [
        "Let’s see if this worked as expected. You can start by looking at the income category proportions in the test set:"
      ]
    },
    {
      "cell_type": "code",
      "metadata": {
        "id": "TqCnScmWWZLR",
        "colab_type": "code",
        "outputId": "bee38a7f-a1c5-47b4-d00c-c1f82c33e47a",
        "colab": {
          "base_uri": "https://localhost:8080/",
          "height": 125
        }
      },
      "source": [
        "strat_test_set['income_cat'].value_counts() /len(strat_test_set)"
      ],
      "execution_count": 20,
      "outputs": [
        {
          "output_type": "execute_result",
          "data": {
            "text/plain": [
              "3    0.350533\n",
              "2    0.318798\n",
              "4    0.176357\n",
              "5    0.114583\n",
              "1    0.039729\n",
              "Name: income_cat, dtype: float64"
            ]
          },
          "metadata": {
            "tags": []
          },
          "execution_count": 20
        }
      ]
    },
    {
      "cell_type": "code",
      "metadata": {
        "id": "Bq_ShsjAWTV1",
        "colab_type": "code",
        "outputId": "668b37b4-c03a-4773-f2e6-c62ae6eb8939",
        "colab": {
          "base_uri": "https://localhost:8080/",
          "height": 125
        }
      },
      "source": [
        "strat_train_set['income_cat'].value_counts() /len(strat_train_set)"
      ],
      "execution_count": 21,
      "outputs": [
        {
          "output_type": "execute_result",
          "data": {
            "text/plain": [
              "3    0.350594\n",
              "2    0.318859\n",
              "4    0.176296\n",
              "5    0.114402\n",
              "1    0.039850\n",
              "Name: income_cat, dtype: float64"
            ]
          },
          "metadata": {
            "tags": []
          },
          "execution_count": 21
        }
      ]
    },
    {
      "cell_type": "code",
      "metadata": {
        "id": "LFhwCEJDXHe_",
        "colab_type": "code",
        "outputId": "71e754bb-ae82-4017-894b-206f079b7e14",
        "colab": {
          "base_uri": "https://localhost:8080/",
          "height": 125
        }
      },
      "source": [
        "housing_pd['income_cat'].value_counts()/len(housing_pd)"
      ],
      "execution_count": 22,
      "outputs": [
        {
          "output_type": "execute_result",
          "data": {
            "text/plain": [
              "3    0.350581\n",
              "2    0.318847\n",
              "4    0.176308\n",
              "5    0.114438\n",
              "1    0.039826\n",
              "Name: income_cat, dtype: float64"
            ]
          },
          "metadata": {
            "tags": []
          },
          "execution_count": 22
        }
      ]
    },
    {
      "cell_type": "markdown",
      "metadata": {
        "id": "XX8Gd6EJoPeW",
        "colab_type": "text"
      },
      "source": [
        "아래 함수를 통해 statified sampling이 random sampling보다 전체 데이터 셋의 특성을 잘 반영하는 test dataset을 구성하는 것을 확인할 수 있음."
      ]
    },
    {
      "cell_type": "code",
      "metadata": {
        "id": "ixH_g0mTZgw2",
        "colab_type": "code",
        "outputId": "ff80fabe-c7af-4804-bf3a-c446289922bf",
        "colab": {
          "base_uri": "https://localhost:8080/",
          "height": 204
        }
      },
      "source": [
        "def income_cat_proportions(data):\n",
        "  return data['income_cat'].value_counts()/len(data)\n",
        "\n",
        "X_train,X_test = train_test_split(housing_pd, test_size=0.2, random_state=42)\n",
        "\n",
        "compare_props =pd.DataFrame({\n",
        "    'Overall': income_cat_proportions(housing_pd),\n",
        "    'Stratified': income_cat_proportions(strat_test_set),\n",
        "    'Random': income_cat_proportions(X_test),\n",
        "}).sort_index()\n",
        "\n",
        "compare_props['Rand. %error'] = 100*compare_props['Random']/compare_props['Overall'] -100\n",
        "compare_props['Strat. %error']= 100*compare_props['Stratified']/compare_props['Overall']-10\n",
        "\n",
        "compare_props"
      ],
      "execution_count": 23,
      "outputs": [
        {
          "output_type": "execute_result",
          "data": {
            "text/html": [
              "<div>\n",
              "<style scoped>\n",
              "    .dataframe tbody tr th:only-of-type {\n",
              "        vertical-align: middle;\n",
              "    }\n",
              "\n",
              "    .dataframe tbody tr th {\n",
              "        vertical-align: top;\n",
              "    }\n",
              "\n",
              "    .dataframe thead th {\n",
              "        text-align: right;\n",
              "    }\n",
              "</style>\n",
              "<table border=\"1\" class=\"dataframe\">\n",
              "  <thead>\n",
              "    <tr style=\"text-align: right;\">\n",
              "      <th></th>\n",
              "      <th>Overall</th>\n",
              "      <th>Stratified</th>\n",
              "      <th>Random</th>\n",
              "      <th>Rand. %error</th>\n",
              "      <th>Strat. %error</th>\n",
              "    </tr>\n",
              "  </thead>\n",
              "  <tbody>\n",
              "    <tr>\n",
              "      <th>1</th>\n",
              "      <td>0.039826</td>\n",
              "      <td>0.039729</td>\n",
              "      <td>0.040213</td>\n",
              "      <td>0.973236</td>\n",
              "      <td>89.756691</td>\n",
              "    </tr>\n",
              "    <tr>\n",
              "      <th>2</th>\n",
              "      <td>0.318847</td>\n",
              "      <td>0.318798</td>\n",
              "      <td>0.324370</td>\n",
              "      <td>1.732260</td>\n",
              "      <td>89.984805</td>\n",
              "    </tr>\n",
              "    <tr>\n",
              "      <th>3</th>\n",
              "      <td>0.350581</td>\n",
              "      <td>0.350533</td>\n",
              "      <td>0.358527</td>\n",
              "      <td>2.266446</td>\n",
              "      <td>89.986180</td>\n",
              "    </tr>\n",
              "    <tr>\n",
              "      <th>4</th>\n",
              "      <td>0.176308</td>\n",
              "      <td>0.176357</td>\n",
              "      <td>0.167393</td>\n",
              "      <td>-5.056334</td>\n",
              "      <td>90.027480</td>\n",
              "    </tr>\n",
              "    <tr>\n",
              "      <th>5</th>\n",
              "      <td>0.114438</td>\n",
              "      <td>0.114583</td>\n",
              "      <td>0.109496</td>\n",
              "      <td>-4.318374</td>\n",
              "      <td>90.127011</td>\n",
              "    </tr>\n",
              "  </tbody>\n",
              "</table>\n",
              "</div>"
            ],
            "text/plain": [
              "    Overall  Stratified    Random  Rand. %error  Strat. %error\n",
              "1  0.039826    0.039729  0.040213      0.973236      89.756691\n",
              "2  0.318847    0.318798  0.324370      1.732260      89.984805\n",
              "3  0.350581    0.350533  0.358527      2.266446      89.986180\n",
              "4  0.176308    0.176357  0.167393     -5.056334      90.027480\n",
              "5  0.114438    0.114583  0.109496     -4.318374      90.127011"
            ]
          },
          "metadata": {
            "tags": []
          },
          "execution_count": 23
        }
      ]
    },
    {
      "cell_type": "code",
      "metadata": {
        "id": "fkyu5qRLbxIp",
        "colab_type": "code",
        "colab": {}
      },
      "source": [
        "for c_set in (strat_train_set,strat_test_set):\n",
        "  c_set.drop('income_cat', axis=1, inplace=True)"
      ],
      "execution_count": 0,
      "outputs": []
    },
    {
      "cell_type": "markdown",
      "metadata": {
        "id": "qFr-mgtXqJAg",
        "colab_type": "text"
      },
      "source": [
        "# 2.4\n",
        "\n",
        "2020.4.24 시작부분.\n",
        "\n",
        "Test data와 Training data를 분리하고 나서는 Test data를 살펴보는 것은 피해야 함.\n",
        "\n",
        "Training data가 클 경우, 이를 다시 여러 subset으로 나누어 처리하나 현재 데이터(약 16,000 샘플)는 그리 크지 않으므로 그대로 진행. batch learning!"
      ]
    },
    {
      "cell_type": "code",
      "metadata": {
        "id": "RWJ7-cpBqLFG",
        "colab_type": "code",
        "colab": {}
      },
      "source": [
        "housing = strat_train_set.copy()"
      ],
      "execution_count": 0,
      "outputs": []
    },
    {
      "cell_type": "markdown",
      "metadata": {
        "id": "gUREEAeRqQrL",
        "colab_type": "text"
      },
      "source": [
        "## 2.4.1\n",
        "\n",
        "모델의 선택 등을 위해 데이터에 대한 이해가 필요함.\n",
        "* 다시 한번 강조하지만, 반드시 training data에서만 이루어져야 함."
      ]
    },
    {
      "cell_type": "code",
      "metadata": {
        "id": "-MIQyk_dqTyS",
        "colab_type": "code",
        "outputId": "f6732d00-5b09-463e-f1d8-bd2fcfe5f1b0",
        "colab": {
          "base_uri": "https://localhost:8080/",
          "height": 297
        }
      },
      "source": [
        "housing.plot(kind='scatter', x='longitude', y='latitude')"
      ],
      "execution_count": 26,
      "outputs": [
        {
          "output_type": "execute_result",
          "data": {
            "text/plain": [
              "<matplotlib.axes._subplots.AxesSubplot at 0x7fefefa558d0>"
            ]
          },
          "metadata": {
            "tags": []
          },
          "execution_count": 26
        },
        {
          "output_type": "display_data",
          "data": {
            "image/png": "[encoded data removed]",
            "text/plain": [
              "<Figure size 432x288 with 1 Axes>"
            ]
          },
          "metadata": {
            "tags": [],
            "needs_background": "light"
          }
        }
      ]
    },
    {
      "cell_type": "markdown",
      "metadata": {
        "id": "GZ1yvmuk8V0t",
        "colab_type": "text"
      },
      "source": [
        "위의 경우, 인구의 밀집 지역 여부 등을 보기 어려움.\n",
        "원을 투명화시켜서(`alpha`) 밀집된 경우 겹치게 하여 보다 인구 밀집 지역을 확인할 수 있게 scattergram을 표시"
      ]
    },
    {
      "cell_type": "code",
      "metadata": {
        "id": "w27SpYxIqh6A",
        "colab_type": "code",
        "outputId": "1372ff39-4865-4b58-b51b-496b5b456d73",
        "colab": {
          "base_uri": "https://localhost:8080/",
          "height": 297
        }
      },
      "source": [
        "housing.plot(kind='scatter', x='longitude', y='latitude', alpha=0.01) #alpha는 투명도. 투명도를 이용하여 샘플이 밀집된 부분을 표시."
      ],
      "execution_count": 27,
      "outputs": [
        {
          "output_type": "execute_result",
          "data": {
            "text/plain": [
              "<matplotlib.axes._subplots.AxesSubplot at 0x7fefee7b4a58>"
            ]
          },
          "metadata": {
            "tags": []
          },
          "execution_count": 27
        },
        {
          "output_type": "display_data",
          "data": {
            "image/png": "[encoded data removed]",
            "text/plain": [
              "<Figure size 432x288 with 1 Axes>"
            ]
          },
          "metadata": {
            "tags": [],
            "needs_background": "light"
          }
        }
      ]
    },
    {
      "cell_type": "markdown",
      "metadata": {
        "id": "b3zjrcYl8pmv",
        "colab_type": "text"
      },
      "source": [
        "인구 밀집도와 함께, 구역의 인구수(원의 크기 `s` 옵션)와 주택가격(색, `jet` 컬러맵: blue=low, red=high)을 같이 표시."
      ]
    },
    {
      "cell_type": "code",
      "metadata": {
        "id": "0W1QI9_4quoC",
        "colab_type": "code",
        "outputId": "9875df55-c4c4-4a31-c22a-a2f28775771c",
        "colab": {
          "base_uri": "https://localhost:8080/",
          "height": 464
        }
      },
      "source": [
        "housing.plot(kind='scatter', x='longitude', y='latitude', alpha=0.1,\n",
        "             s=housing['population']/100, label='population', figsize=(10,7),\n",
        "             c='median_house_value', cmap=plt.get_cmap('jet'), colorbar=True,\n",
        "             sharex=False\n",
        "             )#c='median_house_value' 는 color 값을 의미."
      ],
      "execution_count": 28,
      "outputs": [
        {
          "output_type": "execute_result",
          "data": {
            "text/plain": [
              "<matplotlib.axes._subplots.AxesSubplot at 0x7feff0daff98>"
            ]
          },
          "metadata": {
            "tags": []
          },
          "execution_count": 28
        },
        {
          "output_type": "display_data",
          "data": {
            "image/png": "[encoded data removed]",
            "text/plain": [
              "<Figure size 720x504 with 2 Axes>"
            ]
          },
          "metadata": {
            "tags": [],
            "needs_background": "light"
          }
        }
      ]
    },
    {
      "cell_type": "markdown",
      "metadata": {
        "id": "wts6go0O9BWh",
        "colab_type": "text"
      },
      "source": [
        "주택 가격과 인구 밀집도가 매우 높은 관계가 있는 걸로 보임.\n",
        "\n",
        "특정 지역 (해안가?)도 집값이 높음 (하지만 다 가깝다고 높지는 않은 듯..)\n",
        "\n",
        "clustering(비지도학습)을 통한 분류를 사용시 데이터의 패턴을 이해하는데 도움이 되기도 함.\n",
        "\n",
        "하지만, 수식적으로 correlation coef를 통해 각 feature들간의 관련성을 살펴볼 수 있음. (현재 특성 수가 그리 많지 않으므로 충분히 시도할 가치 있음, 단 너무 차원이 높을 경우 매우 복잡해짐.)"
      ]
    },
    {
      "cell_type": "code",
      "metadata": {
        "id": "DhQwWN7H-V6B",
        "colab_type": "code",
        "outputId": "7b4a375d-a9b4-4f28-d796-c1d484ef36b4",
        "colab": {
          "base_uri": "https://localhost:8080/",
          "height": 197
        }
      },
      "source": [
        "corr_matrix = housing.corr()\n",
        "\n",
        "corr_matrix[\"median_house_value\"].sort_values(ascending=False)\n"
      ],
      "execution_count": 29,
      "outputs": [
        {
          "output_type": "execute_result",
          "data": {
            "text/plain": [
              "median_house_value    1.000000\n",
              "median_income         0.687160\n",
              "total_rooms           0.135097\n",
              "housing_median_age    0.114110\n",
              "households            0.064506\n",
              "total_bedrooms        0.047689\n",
              "population           -0.026920\n",
              "longitude            -0.047432\n",
              "latitude             -0.142724\n",
              "Name: median_house_value, dtype: float64"
            ]
          },
          "metadata": {
            "tags": []
          },
          "execution_count": 29
        }
      ]
    },
    {
      "cell_type": "markdown",
      "metadata": {
        "id": "Ow923OyivUtr",
        "colab_type": "text"
      },
      "source": [
        "* median_income : 상당한 correlation을 보임.\n",
        "* latitude : 위도와 음의 correlation. 북으로 갈수록 집값이 싸다."
      ]
    },
    {
      "cell_type": "markdown",
      "metadata": {
        "id": "Qt5szi_i_Fsw",
        "colab_type": "text"
      },
      "source": [
        "## Correlation (Pearson's correlation coef.)\n",
        "\n",
        "\n",
        "![corrleation_coef](https://upload.wikimedia.org/wikipedia/commons/thumb/d/d4/Correlation_examples2.svg/1024px-Correlation_examples2.svg.png)\n",
        "\n",
        "Several sets of (x, y) points, with the **Pearson correlation coefficient** of x and y for each set. The correlation reflects the noisiness and direction of a linear relationship (top row), but **not the slope of that relationship (middle)**, **nor many aspects of nonlinear relationships (bottom)**. N.B.: the figure in the center has a slope of 0 but in that case the correlation coefficient is undefined because the variance of `Y` is zero.\n",
        "\n",
        "$$\n",
        "\\begin{align*}\n",
        "\\text{corr}(X,Y) &= \\frac{\\text{cov}(X,Y)}{\\sigma_X \\sigma_Y} \\\\\n",
        "&= \\frac{ E[ (X-\\mu_X)(Y-\\mu_Y) ] }{\\sigma_X \\sigma_Y} \n",
        "\\end{align*}\n",
        "$$\n",
        "* The correlation coefficient is symmetric"
      ]
    },
    {
      "cell_type": "markdown",
      "metadata": {
        "id": "R3debxyZAGCT",
        "colab_type": "text"
      },
      "source": [
        "correlation을 보여주는 방법은 바로 scatterdiabram임.\n",
        "\n",
        "pandas의 `scatter_mattrix`가 가장 쉬운 방법.\n",
        "\n",
        "> 현재 feature의 갯수가 11개(숫자만...)이므로 $11 \\times 11 = 121$개의 그래프가 만들어짐. 때문에 attrigute를 한정하여 처리함."
      ]
    },
    {
      "cell_type": "code",
      "metadata": {
        "id": "DMXjmxUOAPlL",
        "colab_type": "code",
        "outputId": "2b1b4ff2-bbc4-445a-9040-63eb0a808419",
        "colab": {
          "base_uri": "https://localhost:8080/",
          "height": 824
        }
      },
      "source": [
        "from pandas.plotting import scatter_matrix\n",
        "\n",
        "attributes = [\"median_house_value\", \n",
        "              \"median_income\", \n",
        "              \"total_rooms\",\n",
        "              \"housing_median_age\"]\n",
        "scatter_matrix(housing[attributes], figsize=(12, 8))\n",
        "#save_fig(\"scatter_matrix_plot\")"
      ],
      "execution_count": 30,
      "outputs": [
        {
          "output_type": "execute_result",
          "data": {
            "text/plain": [
              "array([[<matplotlib.axes._subplots.AxesSubplot object at 0x7fefebea71d0>,\n",
              "        <matplotlib.axes._subplots.AxesSubplot object at 0x7fefea659390>,\n",
              "        <matplotlib.axes._subplots.AxesSubplot object at 0x7fefea60d5f8>,\n",
              "        <matplotlib.axes._subplots.AxesSubplot object at 0x7fefea640860>],\n",
              "       [<matplotlib.axes._subplots.AxesSubplot object at 0x7fefea5f3ac8>,\n",
              "        <matplotlib.axes._subplots.AxesSubplot object at 0x7fefea5a9d30>,\n",
              "        <matplotlib.axes._subplots.AxesSubplot object at 0x7fefea55cf98>,\n",
              "        <matplotlib.axes._subplots.AxesSubplot object at 0x7fefea51c208>],\n",
              "       [<matplotlib.axes._subplots.AxesSubplot object at 0x7fefea51c278>,\n",
              "        <matplotlib.axes._subplots.AxesSubplot object at 0x7fefea484710>,\n",
              "        <matplotlib.axes._subplots.AxesSubplot object at 0x7fefea4b9978>,\n",
              "        <matplotlib.axes._subplots.AxesSubplot object at 0x7fefea46bbe0>],\n",
              "       [<matplotlib.axes._subplots.AxesSubplot object at 0x7fefea41fe48>,\n",
              "        <matplotlib.axes._subplots.AxesSubplot object at 0x7fefea3e00f0>,\n",
              "        <matplotlib.axes._subplots.AxesSubplot object at 0x7fefea394358>,\n",
              "        <matplotlib.axes._subplots.AxesSubplot object at 0x7fefea3475c0>]],\n",
              "      dtype=object)"
            ]
          },
          "metadata": {
            "tags": []
          },
          "execution_count": 30
        },
        {
          "output_type": "display_data",
          "data": {
            "image/png": "[encoded data removed]",
            "text/plain": [
              "<Figure size 864x576 with 16 Axes>"
            ]
          },
          "metadata": {
            "tags": [],
            "needs_background": "light"
          }
        }
      ]
    },
    {
      "cell_type": "markdown",
      "metadata": {
        "id": "SxO6nDuoClBz",
        "colab_type": "text"
      },
      "source": [
        "**The most promising attribute** to predict the `median house value` is the `median income`, so let’s zoom in on their correlation scatterplot."
      ]
    },
    {
      "cell_type": "code",
      "metadata": {
        "id": "fD7LtnymBlfh",
        "colab_type": "code",
        "outputId": "9e527f11-4bc6-4513-b2b4-faaa57d4facf",
        "colab": {
          "base_uri": "https://localhost:8080/",
          "height": 298
        }
      },
      "source": [
        "housing.plot(kind=\"scatter\", x=\"median_income\", y=\"median_house_value\",\n",
        "             alpha=0.1)\n",
        "plt.axis([0, 16, 0, 550000])"
      ],
      "execution_count": 31,
      "outputs": [
        {
          "output_type": "execute_result",
          "data": {
            "text/plain": [
              "(0.0, 16.0, 0.0, 550000.0)"
            ]
          },
          "metadata": {
            "tags": []
          },
          "execution_count": 31
        },
        {
          "output_type": "display_data",
          "data": {
            "image/png": "[encoded data removed]",
            "text/plain": [
              "<Figure size 432x288 with 1 Axes>"
            ]
          },
          "metadata": {
            "tags": [],
            "needs_background": "light"
          }
        }
      ]
    },
    {
      "cell_type": "markdown",
      "metadata": {
        "id": "mRgUM4ZJCwFz",
        "colab_type": "text"
      },
      "source": [
        "This plot reveals a few things. First, the correlation is indeed very strong; you can clearly see the upward trend, and the points are not too dispersed. Second, the price cap that we noticed earlier is clearly visible as a horizontal line at `$500,000`. But this plot reveals other less obvious straight lines: a horizontal line around `$450,000`, another around `$350,000`, perhaps one around `$280,000`, and a few more below that. \n",
        "\n",
        "**You may want to try removing the corresponding districts to prevent your algorithms from learning to reproduce these data quirks.**"
      ]
    },
    {
      "cell_type": "markdown",
      "metadata": {
        "id": "gHeJs7EiD21y",
        "colab_type": "text"
      },
      "source": [
        "# Experimenting with Attribute Combinations\n",
        "\n",
        "Hopefully the previous sections gave you **an idea of a few ways you can explore the data** and **gain insights**. \n",
        "\n",
        "* You identified **a few data quirks** that you may want to clean up before feeding the data to a Machine Learning algorithm, and \n",
        "* you found interesting **correlations** between attributes, in particular with the target attribute. \n",
        "* You also noticed that some attributes have a tail-heavy distribution, so you may want to transform them (e.g., by computing their logarithm). \n",
        "\n",
        "Of course, your mileage will vary considerably with each project, but the general ideas are similar.\n",
        "\n",
        "\n",
        "One last thing you may want to do before preparing the data for Machine Learning algorithms is to try out **various attribute combinations**.\n",
        "> 여러 특성을 반영하는 하나의 지표 생성.\n",
        "\n",
        " For example, `the total number of rooms` in a district is not very useful if you don’t know how many households there are. What you really want is `the number of rooms per household`. \n",
        "\n",
        "Similarly, `the total number of bedrooms` by itself is not very useful: you probably want to compare it to the number of rooms. \n",
        "\n",
        "And the population per household also seems like an interesting attribute combination to look at. Let’s create these new attributes:"
      ]
    },
    {
      "cell_type": "code",
      "metadata": {
        "id": "53Eq-NLgD9km",
        "colab_type": "code",
        "colab": {}
      },
      "source": [
        "housing[\"rooms_per_household\"] = housing[\"total_rooms\"]/housing[\"households\"]\n",
        "housing[\"bedrooms_per_room\"] = housing[\"total_bedrooms\"]/housing[\"total_rooms\"]\n",
        "housing[\"population_per_household\"]=housing[\"population\"]/housing[\"households\"]"
      ],
      "execution_count": 0,
      "outputs": []
    },
    {
      "cell_type": "code",
      "metadata": {
        "id": "l0q-doPmD_bt",
        "colab_type": "code",
        "outputId": "2a3bcb36-1598-44a9-878d-4c3eb009dcd5",
        "colab": {
          "base_uri": "https://localhost:8080/",
          "height": 251
        }
      },
      "source": [
        "corr_matrix = housing.corr()\n",
        "corr_matrix[\"median_house_value\"].sort_values(ascending=False)"
      ],
      "execution_count": 33,
      "outputs": [
        {
          "output_type": "execute_result",
          "data": {
            "text/plain": [
              "median_house_value          1.000000\n",
              "median_income               0.687160\n",
              "rooms_per_household         0.146285\n",
              "total_rooms                 0.135097\n",
              "housing_median_age          0.114110\n",
              "households                  0.064506\n",
              "total_bedrooms              0.047689\n",
              "population_per_household   -0.021985\n",
              "population                 -0.026920\n",
              "longitude                  -0.047432\n",
              "latitude                   -0.142724\n",
              "bedrooms_per_room          -0.259984\n",
              "Name: median_house_value, dtype: float64"
            ]
          },
          "metadata": {
            "tags": []
          },
          "execution_count": 33
        }
      ]
    },
    {
      "cell_type": "markdown",
      "metadata": {
        "id": "bciA7nQdED1A",
        "colab_type": "text"
      },
      "source": [
        "The new `bedrooms_per_room` attribute is much more correlated with the `median house value` than the `total number of rooms or bedrooms`. \n",
        "\n",
        "Apparently houses with a lower bedroom/room ratio tend to be more expensive. `The number of rooms per household` is also more informative than the `total number of rooms` in a district—**obviously the larger the houses, the more expensive they are**."
      ]
    },
    {
      "cell_type": "code",
      "metadata": {
        "id": "Ra55WcanEfWj",
        "colab_type": "code",
        "outputId": "e9d2bafd-3e9d-4463-dd9a-5da3ff9ce575",
        "colab": {
          "base_uri": "https://localhost:8080/",
          "height": 298
        }
      },
      "source": [
        "housing.plot(kind=\"scatter\", \n",
        "             x=\"rooms_per_household\", \n",
        "             y=\"median_house_value\",\n",
        "             alpha=0.2)\n",
        "plt.axis([0, 5, 0, 520000])\n",
        "plt.show()\n",
        "print(corr_matrix[\"median_house_value\"][\"rooms_per_household\"])"
      ],
      "execution_count": 34,
      "outputs": [
        {
          "output_type": "display_data",
          "data": {
            "image/png": "[encoded data removed]",
            "text/plain": [
              "<Figure size 432x288 with 1 Axes>"
            ]
          },
          "metadata": {
            "tags": [],
            "needs_background": "light"
          }
        },
        {
          "output_type": "stream",
          "text": [
            "0.1462852517166395\n"
          ],
          "name": "stdout"
        }
      ]
    },
    {
      "cell_type": "markdown",
      "metadata": {
        "id": "yH2G-j0cEl2e",
        "colab_type": "text"
      },
      "source": [
        "This round of exploration does not have to be **absolutely thorough**; **the point** is \n",
        "* to start off on the `right foot` and \n",
        "* quickly `gain insights` that will help you get a first reasonably good prototype. \n",
        "\n",
        "But this is an **iterative process**: \n",
        "* once you get a prototype up and running, \n",
        "* you can analyze its output to gain more insights and \n",
        "* come back to this exploration step.\n",
        "\n",
        "> 도돌이표..."
      ]
    },
    {
      "cell_type": "code",
      "metadata": {
        "id": "KK304hS_Eo1y",
        "colab_type": "code",
        "outputId": "8d33eee0-2f61-4648-ee61-917de2091725",
        "colab": {
          "base_uri": "https://localhost:8080/",
          "height": 315
        }
      },
      "source": [
        "print(housing.shape)\n",
        "housing.describe()"
      ],
      "execution_count": 35,
      "outputs": [
        {
          "output_type": "stream",
          "text": [
            "(16512, 13)\n"
          ],
          "name": "stdout"
        },
        {
          "output_type": "execute_result",
          "data": {
            "text/html": [
              "<div>\n",
              "<style scoped>\n",
              "    .dataframe tbody tr th:only-of-type {\n",
              "        vertical-align: middle;\n",
              "    }\n",
              "\n",
              "    .dataframe tbody tr th {\n",
              "        vertical-align: top;\n",
              "    }\n",
              "\n",
              "    .dataframe thead th {\n",
              "        text-align: right;\n",
              "    }\n",
              "</style>\n",
              "<table border=\"1\" class=\"dataframe\">\n",
              "  <thead>\n",
              "    <tr style=\"text-align: right;\">\n",
              "      <th></th>\n",
              "      <th>longitude</th>\n",
              "      <th>latitude</th>\n",
              "      <th>housing_median_age</th>\n",
              "      <th>total_rooms</th>\n",
              "      <th>total_bedrooms</th>\n",
              "      <th>population</th>\n",
              "      <th>households</th>\n",
              "      <th>median_income</th>\n",
              "      <th>median_house_value</th>\n",
              "      <th>rooms_per_household</th>\n",
              "      <th>bedrooms_per_room</th>\n",
              "      <th>population_per_household</th>\n",
              "    </tr>\n",
              "  </thead>\n",
              "  <tbody>\n",
              "    <tr>\n",
              "      <th>count</th>\n",
              "      <td>16512.000000</td>\n",
              "      <td>16512.000000</td>\n",
              "      <td>16512.000000</td>\n",
              "      <td>16512.000000</td>\n",
              "      <td>16354.000000</td>\n",
              "      <td>16512.000000</td>\n",
              "      <td>16512.000000</td>\n",
              "      <td>16512.000000</td>\n",
              "      <td>16512.000000</td>\n",
              "      <td>16512.000000</td>\n",
              "      <td>16354.000000</td>\n",
              "      <td>16512.000000</td>\n",
              "    </tr>\n",
              "    <tr>\n",
              "      <th>mean</th>\n",
              "      <td>-119.575834</td>\n",
              "      <td>35.639577</td>\n",
              "      <td>28.653101</td>\n",
              "      <td>2622.728319</td>\n",
              "      <td>534.973890</td>\n",
              "      <td>1419.790819</td>\n",
              "      <td>497.060380</td>\n",
              "      <td>3.875589</td>\n",
              "      <td>206990.920724</td>\n",
              "      <td>5.440341</td>\n",
              "      <td>0.212878</td>\n",
              "      <td>3.096437</td>\n",
              "    </tr>\n",
              "    <tr>\n",
              "      <th>std</th>\n",
              "      <td>2.001860</td>\n",
              "      <td>2.138058</td>\n",
              "      <td>12.574726</td>\n",
              "      <td>2138.458419</td>\n",
              "      <td>412.699041</td>\n",
              "      <td>1115.686241</td>\n",
              "      <td>375.720845</td>\n",
              "      <td>1.904950</td>\n",
              "      <td>115703.014830</td>\n",
              "      <td>2.611712</td>\n",
              "      <td>0.057379</td>\n",
              "      <td>11.584826</td>\n",
              "    </tr>\n",
              "    <tr>\n",
              "      <th>min</th>\n",
              "      <td>-124.350000</td>\n",
              "      <td>32.540000</td>\n",
              "      <td>1.000000</td>\n",
              "      <td>6.000000</td>\n",
              "      <td>2.000000</td>\n",
              "      <td>3.000000</td>\n",
              "      <td>2.000000</td>\n",
              "      <td>0.499900</td>\n",
              "      <td>14999.000000</td>\n",
              "      <td>1.130435</td>\n",
              "      <td>0.100000</td>\n",
              "      <td>0.692308</td>\n",
              "    </tr>\n",
              "    <tr>\n",
              "      <th>25%</th>\n",
              "      <td>-121.800000</td>\n",
              "      <td>33.940000</td>\n",
              "      <td>18.000000</td>\n",
              "      <td>1443.000000</td>\n",
              "      <td>295.000000</td>\n",
              "      <td>784.000000</td>\n",
              "      <td>279.000000</td>\n",
              "      <td>2.566775</td>\n",
              "      <td>119800.000000</td>\n",
              "      <td>4.442040</td>\n",
              "      <td>0.175304</td>\n",
              "      <td>2.431287</td>\n",
              "    </tr>\n",
              "    <tr>\n",
              "      <th>50%</th>\n",
              "      <td>-118.510000</td>\n",
              "      <td>34.260000</td>\n",
              "      <td>29.000000</td>\n",
              "      <td>2119.500000</td>\n",
              "      <td>433.000000</td>\n",
              "      <td>1164.000000</td>\n",
              "      <td>408.000000</td>\n",
              "      <td>3.540900</td>\n",
              "      <td>179500.000000</td>\n",
              "      <td>5.232284</td>\n",
              "      <td>0.203031</td>\n",
              "      <td>2.817653</td>\n",
              "    </tr>\n",
              "    <tr>\n",
              "      <th>75%</th>\n",
              "      <td>-118.010000</td>\n",
              "      <td>37.720000</td>\n",
              "      <td>37.000000</td>\n",
              "      <td>3141.000000</td>\n",
              "      <td>644.000000</td>\n",
              "      <td>1719.250000</td>\n",
              "      <td>602.000000</td>\n",
              "      <td>4.744475</td>\n",
              "      <td>263900.000000</td>\n",
              "      <td>6.056361</td>\n",
              "      <td>0.239831</td>\n",
              "      <td>3.281420</td>\n",
              "    </tr>\n",
              "    <tr>\n",
              "      <th>max</th>\n",
              "      <td>-114.310000</td>\n",
              "      <td>41.950000</td>\n",
              "      <td>52.000000</td>\n",
              "      <td>39320.000000</td>\n",
              "      <td>6210.000000</td>\n",
              "      <td>35682.000000</td>\n",
              "      <td>5358.000000</td>\n",
              "      <td>15.000100</td>\n",
              "      <td>500001.000000</td>\n",
              "      <td>141.909091</td>\n",
              "      <td>1.000000</td>\n",
              "      <td>1243.333333</td>\n",
              "    </tr>\n",
              "  </tbody>\n",
              "</table>\n",
              "</div>"
            ],
            "text/plain": [
              "          longitude      latitude  ...  bedrooms_per_room  population_per_household\n",
              "count  16512.000000  16512.000000  ...       16354.000000              16512.000000\n",
              "mean    -119.575834     35.639577  ...           0.212878                  3.096437\n",
              "std        2.001860      2.138058  ...           0.057379                 11.584826\n",
              "min     -124.350000     32.540000  ...           0.100000                  0.692308\n",
              "25%     -121.800000     33.940000  ...           0.175304                  2.431287\n",
              "50%     -118.510000     34.260000  ...           0.203031                  2.817653\n",
              "75%     -118.010000     37.720000  ...           0.239831                  3.281420\n",
              "max     -114.310000     41.950000  ...           1.000000               1243.333333\n",
              "\n",
              "[8 rows x 12 columns]"
            ]
          },
          "metadata": {
            "tags": []
          },
          "execution_count": 35
        }
      ]
    },
    {
      "cell_type": "markdown",
      "metadata": {
        "id": "SjMr9l5uE9Y2",
        "colab_type": "text"
      },
      "source": [
        "# Prepare the Data for Machine Learning Algorithms\n",
        "\n",
        "It’s time to prepare the data for your Machine Learning algorithms. Instead of doing this manually, **you should write functions** for this purpose, for several good reasons:\n",
        "\n",
        "* This will allow you to **reproduce** these transformations easily on any dataset (e.g., the next time you get a fresh dataset). \n",
        "> 이전에 언급했듯이 빠른 프로토타이핑과 반복되는 프로세스 가 기계학습에서는 필수이므로 이에 대한 대비를 해야함.\n",
        "* You will **gradually build a library of transformation functions** that you can reuse in future projects.\n",
        "* You can use these functions in **your live system** to transform the new data before feeding it to your algorithms.\n",
        "* This will make it possible for you to **easily try various transformations** and **see which combination of transformations works best**.\n",
        "> 다양한 분석이 보다 용이해짐.\n",
        "\n",
        "But first let’s revert to a clean training set (by copying `strat_train_set` once again). \n",
        "\n",
        "Let’s also **separate the predictors and the labels**, \n",
        "* since we don’t necessarily want to apply the same transformations to the predictors and the target values \n",
        "\n",
        "> note that \n",
        "> \n",
        "> `drop()` **creates a copy of the data and does not affect** `strat_train_set`:"
      ]
    },
    {
      "cell_type": "code",
      "metadata": {
        "id": "jX1FId6AFnGv",
        "colab_type": "code",
        "colab": {}
      },
      "source": [
        "housing = strat_train_set.drop(\"median_house_value\", axis=1) # drop labels for training\n",
        "housing_labels = strat_train_set[\"median_house_value\"].copy()"
      ],
      "execution_count": 0,
      "outputs": []
    },
    {
      "cell_type": "markdown",
      "metadata": {
        "id": "FF6dLXLIF2yc",
        "colab_type": "text"
      },
      "source": [
        "## Data Cleaning\n",
        "\n",
        "Most Machine Learning algorithms cannot work with **missing features**, so let’s create a few functions to take care of them. We saw earlier that the `total_bedrooms` attribute has some missing values, so let’s fix this."
      ]
    },
    {
      "cell_type": "code",
      "metadata": {
        "id": "J5fdZKx3vg9M",
        "colab_type": "code",
        "colab": {
          "base_uri": "https://localhost:8080/",
          "height": 35
        },
        "outputId": "77badd8d-fbc0-4084-82b4-d4fa5f1917aa"
      },
      "source": [
        "print(housing.shape)"
      ],
      "execution_count": 37,
      "outputs": [
        {
          "output_type": "stream",
          "text": [
            "(16512, 9)\n"
          ],
          "name": "stdout"
        }
      ]
    },
    {
      "cell_type": "code",
      "metadata": {
        "id": "EwGa0VTQvkN-",
        "colab_type": "code",
        "colab": {
          "base_uri": "https://localhost:8080/",
          "height": 204
        },
        "outputId": "b26b13ae-0f6f-4832-99dc-d00c9f836517"
      },
      "source": [
        "housing.isnull().head()#null인 부분만 true로 바뀜"
      ],
      "execution_count": 38,
      "outputs": [
        {
          "output_type": "execute_result",
          "data": {
            "text/html": [
              "<div>\n",
              "<style scoped>\n",
              "    .dataframe tbody tr th:only-of-type {\n",
              "        vertical-align: middle;\n",
              "    }\n",
              "\n",
              "    .dataframe tbody tr th {\n",
              "        vertical-align: top;\n",
              "    }\n",
              "\n",
              "    .dataframe thead th {\n",
              "        text-align: right;\n",
              "    }\n",
              "</style>\n",
              "<table border=\"1\" class=\"dataframe\">\n",
              "  <thead>\n",
              "    <tr style=\"text-align: right;\">\n",
              "      <th></th>\n",
              "      <th>longitude</th>\n",
              "      <th>latitude</th>\n",
              "      <th>housing_median_age</th>\n",
              "      <th>total_rooms</th>\n",
              "      <th>total_bedrooms</th>\n",
              "      <th>population</th>\n",
              "      <th>households</th>\n",
              "      <th>median_income</th>\n",
              "      <th>ocean_proximity</th>\n",
              "    </tr>\n",
              "  </thead>\n",
              "  <tbody>\n",
              "    <tr>\n",
              "      <th>17606</th>\n",
              "      <td>False</td>\n",
              "      <td>False</td>\n",
              "      <td>False</td>\n",
              "      <td>False</td>\n",
              "      <td>False</td>\n",
              "      <td>False</td>\n",
              "      <td>False</td>\n",
              "      <td>False</td>\n",
              "      <td>False</td>\n",
              "    </tr>\n",
              "    <tr>\n",
              "      <th>18632</th>\n",
              "      <td>False</td>\n",
              "      <td>False</td>\n",
              "      <td>False</td>\n",
              "      <td>False</td>\n",
              "      <td>False</td>\n",
              "      <td>False</td>\n",
              "      <td>False</td>\n",
              "      <td>False</td>\n",
              "      <td>False</td>\n",
              "    </tr>\n",
              "    <tr>\n",
              "      <th>14650</th>\n",
              "      <td>False</td>\n",
              "      <td>False</td>\n",
              "      <td>False</td>\n",
              "      <td>False</td>\n",
              "      <td>False</td>\n",
              "      <td>False</td>\n",
              "      <td>False</td>\n",
              "      <td>False</td>\n",
              "      <td>False</td>\n",
              "    </tr>\n",
              "    <tr>\n",
              "      <th>3230</th>\n",
              "      <td>False</td>\n",
              "      <td>False</td>\n",
              "      <td>False</td>\n",
              "      <td>False</td>\n",
              "      <td>False</td>\n",
              "      <td>False</td>\n",
              "      <td>False</td>\n",
              "      <td>False</td>\n",
              "      <td>False</td>\n",
              "    </tr>\n",
              "    <tr>\n",
              "      <th>3555</th>\n",
              "      <td>False</td>\n",
              "      <td>False</td>\n",
              "      <td>False</td>\n",
              "      <td>False</td>\n",
              "      <td>False</td>\n",
              "      <td>False</td>\n",
              "      <td>False</td>\n",
              "      <td>False</td>\n",
              "      <td>False</td>\n",
              "    </tr>\n",
              "  </tbody>\n",
              "</table>\n",
              "</div>"
            ],
            "text/plain": [
              "       longitude  latitude  ...  median_income  ocean_proximity\n",
              "17606      False     False  ...          False            False\n",
              "18632      False     False  ...          False            False\n",
              "14650      False     False  ...          False            False\n",
              "3230       False     False  ...          False            False\n",
              "3555       False     False  ...          False            False\n",
              "\n",
              "[5 rows x 9 columns]"
            ]
          },
          "metadata": {
            "tags": []
          },
          "execution_count": 38
        }
      ]
    },
    {
      "cell_type": "code",
      "metadata": {
        "id": "TWbH0h4qyW0R",
        "colab_type": "code",
        "colab": {
          "base_uri": "https://localhost:8080/",
          "height": 233
        },
        "outputId": "6284741b-4e04-4854-b0d2-abfb3a4d9beb"
      },
      "source": [
        "t = housing.isnull().any(axis=1)#한 행당 한개라도 null이 있다면 true\n",
        "t[t==True]"
      ],
      "execution_count": 39,
      "outputs": [
        {
          "output_type": "execute_result",
          "data": {
            "text/plain": [
              "4629     True\n",
              "6068     True\n",
              "17923    True\n",
              "13656    True\n",
              "19252    True\n",
              "         ... \n",
              "3376     True\n",
              "4691     True\n",
              "6052     True\n",
              "17198    True\n",
              "4738     True\n",
              "Length: 158, dtype: bool"
            ]
          },
          "metadata": {
            "tags": []
          },
          "execution_count": 39
        }
      ]
    },
    {
      "cell_type": "code",
      "metadata": {
        "id": "o0VZPqPcH5sk",
        "colab_type": "code",
        "outputId": "dfad50d1-1f9b-426c-dc71-39bb7f57c4dd",
        "colab": {
          "base_uri": "https://localhost:8080/",
          "height": 305
        }
      },
      "source": [
        "sample_incomplete_rows = housing[housing.isnull().any(axis=1)].head()\n",
        "print(sample_incomplete_rows)\n",
        "print(sample_incomplete_rows)"
      ],
      "execution_count": 40,
      "outputs": [
        {
          "output_type": "stream",
          "text": [
            "       longitude  latitude  ...  median_income  ocean_proximity\n",
            "4629     -118.30     34.07  ...         2.2708        <1H OCEAN\n",
            "6068     -117.86     34.01  ...         5.1762        <1H OCEAN\n",
            "17923    -121.97     37.35  ...         4.6328        <1H OCEAN\n",
            "13656    -117.30     34.05  ...         1.6675           INLAND\n",
            "19252    -122.79     38.48  ...         3.1662        <1H OCEAN\n",
            "\n",
            "[5 rows x 9 columns]\n",
            "       longitude  latitude  ...  median_income  ocean_proximity\n",
            "4629     -118.30     34.07  ...         2.2708        <1H OCEAN\n",
            "6068     -117.86     34.01  ...         5.1762        <1H OCEAN\n",
            "17923    -121.97     37.35  ...         4.6328        <1H OCEAN\n",
            "13656    -117.30     34.05  ...         1.6675           INLAND\n",
            "19252    -122.79     38.48  ...         3.1662        <1H OCEAN\n",
            "\n",
            "[5 rows x 9 columns]\n"
          ],
          "name": "stdout"
        }
      ]
    },
    {
      "cell_type": "markdown",
      "metadata": {
        "id": "9IDByqhKzsjB",
        "colab_type": "text"
      },
      "source": [
        " You have three options:\n",
        "\n",
        "* Get rid of the corresponding districts.\n",
        "* Get rid of the whole attribute.\n",
        "* Set the values to some value (zero, the mean, the median, etc.).(많이 씀. mean이나 median 값을 많이 넣는다)\n",
        "\n",
        "You can accomplish these easily using DataFrame’s `dropna()`, `drop()`, and `fillna()` methods:"
      ]
    },
    {
      "cell_type": "code",
      "metadata": {
        "id": "daLM8EAiGCog",
        "colab_type": "code",
        "outputId": "f3dfa60e-7b6c-4685-8a0c-f9ea1c43f497",
        "colab": {
          "base_uri": "https://localhost:8080/",
          "height": 49
        }
      },
      "source": [
        "# option 1 : NA = Not Applicable (공란, 또는 해당없음.)\n",
        "sample_incomplete_rows.dropna(subset=[\"total_bedrooms\"])    "
      ],
      "execution_count": 41,
      "outputs": [
        {
          "output_type": "execute_result",
          "data": {
            "text/html": [
              "<div>\n",
              "<style scoped>\n",
              "    .dataframe tbody tr th:only-of-type {\n",
              "        vertical-align: middle;\n",
              "    }\n",
              "\n",
              "    .dataframe tbody tr th {\n",
              "        vertical-align: top;\n",
              "    }\n",
              "\n",
              "    .dataframe thead th {\n",
              "        text-align: right;\n",
              "    }\n",
              "</style>\n",
              "<table border=\"1\" class=\"dataframe\">\n",
              "  <thead>\n",
              "    <tr style=\"text-align: right;\">\n",
              "      <th></th>\n",
              "      <th>longitude</th>\n",
              "      <th>latitude</th>\n",
              "      <th>housing_median_age</th>\n",
              "      <th>total_rooms</th>\n",
              "      <th>total_bedrooms</th>\n",
              "      <th>population</th>\n",
              "      <th>households</th>\n",
              "      <th>median_income</th>\n",
              "      <th>ocean_proximity</th>\n",
              "    </tr>\n",
              "  </thead>\n",
              "  <tbody>\n",
              "  </tbody>\n",
              "</table>\n",
              "</div>"
            ],
            "text/plain": [
              "Empty DataFrame\n",
              "Columns: [longitude, latitude, housing_median_age, total_rooms, total_bedrooms, population, households, median_income, ocean_proximity]\n",
              "Index: []"
            ]
          },
          "metadata": {
            "tags": []
          },
          "execution_count": 41
        }
      ]
    },
    {
      "cell_type": "code",
      "metadata": {
        "id": "oWOV-L6_HkkF",
        "colab_type": "code",
        "outputId": "e90b9d16-f3e2-40e3-ef5e-29d2e1a555d0",
        "colab": {
          "base_uri": "https://localhost:8080/",
          "height": 53
        }
      },
      "source": [
        "# option 2 - 열을 지움 col 이 진짜 안중요하지 않는 이상 잘 쓸일은 없음\n",
        "print(sample_incomplete_rows.drop(\"total_bedrooms\", axis=1).shape)\n",
        "print(sample_incomplete_rows.shape)"
      ],
      "execution_count": 42,
      "outputs": [
        {
          "output_type": "stream",
          "text": [
            "(5, 8)\n",
            "(5, 9)\n"
          ],
          "name": "stdout"
        }
      ]
    },
    {
      "cell_type": "code",
      "metadata": {
        "id": "NZ06QsUMIieX",
        "colab_type": "code",
        "outputId": "4915f440-917a-4540-c99d-fdaeecc58ec9",
        "colab": {
          "base_uri": "https://localhost:8080/",
          "height": 204
        }
      },
      "source": [
        "# option 3\n",
        "median = housing[\"total_bedrooms\"].median()\n",
        "sample_incomplete_rows[\"total_bedrooms\"].fillna(median, inplace=True) \n",
        "sample_incomplete_rows\n"
      ],
      "execution_count": 43,
      "outputs": [
        {
          "output_type": "execute_result",
          "data": {
            "text/html": [
              "<div>\n",
              "<style scoped>\n",
              "    .dataframe tbody tr th:only-of-type {\n",
              "        vertical-align: middle;\n",
              "    }\n",
              "\n",
              "    .dataframe tbody tr th {\n",
              "        vertical-align: top;\n",
              "    }\n",
              "\n",
              "    .dataframe thead th {\n",
              "        text-align: right;\n",
              "    }\n",
              "</style>\n",
              "<table border=\"1\" class=\"dataframe\">\n",
              "  <thead>\n",
              "    <tr style=\"text-align: right;\">\n",
              "      <th></th>\n",
              "      <th>longitude</th>\n",
              "      <th>latitude</th>\n",
              "      <th>housing_median_age</th>\n",
              "      <th>total_rooms</th>\n",
              "      <th>total_bedrooms</th>\n",
              "      <th>population</th>\n",
              "      <th>households</th>\n",
              "      <th>median_income</th>\n",
              "      <th>ocean_proximity</th>\n",
              "    </tr>\n",
              "  </thead>\n",
              "  <tbody>\n",
              "    <tr>\n",
              "      <th>4629</th>\n",
              "      <td>-118.30</td>\n",
              "      <td>34.07</td>\n",
              "      <td>18.0</td>\n",
              "      <td>3759.0</td>\n",
              "      <td>433.0</td>\n",
              "      <td>3296.0</td>\n",
              "      <td>1462.0</td>\n",
              "      <td>2.2708</td>\n",
              "      <td>&lt;1H OCEAN</td>\n",
              "    </tr>\n",
              "    <tr>\n",
              "      <th>6068</th>\n",
              "      <td>-117.86</td>\n",
              "      <td>34.01</td>\n",
              "      <td>16.0</td>\n",
              "      <td>4632.0</td>\n",
              "      <td>433.0</td>\n",
              "      <td>3038.0</td>\n",
              "      <td>727.0</td>\n",
              "      <td>5.1762</td>\n",
              "      <td>&lt;1H OCEAN</td>\n",
              "    </tr>\n",
              "    <tr>\n",
              "      <th>17923</th>\n",
              "      <td>-121.97</td>\n",
              "      <td>37.35</td>\n",
              "      <td>30.0</td>\n",
              "      <td>1955.0</td>\n",
              "      <td>433.0</td>\n",
              "      <td>999.0</td>\n",
              "      <td>386.0</td>\n",
              "      <td>4.6328</td>\n",
              "      <td>&lt;1H OCEAN</td>\n",
              "    </tr>\n",
              "    <tr>\n",
              "      <th>13656</th>\n",
              "      <td>-117.30</td>\n",
              "      <td>34.05</td>\n",
              "      <td>6.0</td>\n",
              "      <td>2155.0</td>\n",
              "      <td>433.0</td>\n",
              "      <td>1039.0</td>\n",
              "      <td>391.0</td>\n",
              "      <td>1.6675</td>\n",
              "      <td>INLAND</td>\n",
              "    </tr>\n",
              "    <tr>\n",
              "      <th>19252</th>\n",
              "      <td>-122.79</td>\n",
              "      <td>38.48</td>\n",
              "      <td>7.0</td>\n",
              "      <td>6837.0</td>\n",
              "      <td>433.0</td>\n",
              "      <td>3468.0</td>\n",
              "      <td>1405.0</td>\n",
              "      <td>3.1662</td>\n",
              "      <td>&lt;1H OCEAN</td>\n",
              "    </tr>\n",
              "  </tbody>\n",
              "</table>\n",
              "</div>"
            ],
            "text/plain": [
              "       longitude  latitude  ...  median_income  ocean_proximity\n",
              "4629     -118.30     34.07  ...         2.2708        <1H OCEAN\n",
              "6068     -117.86     34.01  ...         5.1762        <1H OCEAN\n",
              "17923    -121.97     37.35  ...         4.6328        <1H OCEAN\n",
              "13656    -117.30     34.05  ...         1.6675           INLAND\n",
              "19252    -122.79     38.48  ...         3.1662        <1H OCEAN\n",
              "\n",
              "[5 rows x 9 columns]"
            ]
          },
          "metadata": {
            "tags": []
          },
          "execution_count": 43
        }
      ]
    },
    {
      "cell_type": "markdown",
      "metadata": {
        "id": "Q2V8nnSUGZve",
        "colab_type": "text"
      },
      "source": [
        "If you choose **option 3**, \n",
        "\n",
        "* **you should compute the median value on the training set** and \n",
        "* use it to fill the missing values in the training set. \n",
        "\n",
        "\n",
        "**Don’t forget to save the median value that you have computed.** \n",
        "\n",
        "> 이후 inference에서도 다시 사용해야함.\n",
        "\n",
        "You will need it later to replace missing values in the **test set** when you want to evaluate your system, and also once the system goes live to replace missing values in new data.\n",
        "\n",
        "Scikit-Learn provides **a handy class to take care of missing values**: `SimpleImputer`. \n",
        "\n",
        "Here is how to use it. \n",
        "* First, you need to create a `SimpleImputer` instance, specifying that you want to replace each attribute’s missing values with the **median** of that attribute:"
      ]
    },
    {
      "cell_type": "code",
      "metadata": {
        "id": "vm07aCH8Gw92",
        "colab_type": "code",
        "colab": {}
      },
      "source": [
        "from sklearn.impute import SimpleImputer\n",
        "\n",
        "imputer = SimpleImputer(strategy=\"median\")"
      ],
      "execution_count": 0,
      "outputs": []
    },
    {
      "cell_type": "markdown",
      "metadata": {
        "id": "SSvC7IT7G1HN",
        "colab_type": "text"
      },
      "source": [
        "Since **the median can only be computed on numerical attributes**, you need to create a copy of the data without the text attribute `ocean_proximity`:"
      ]
    },
    {
      "cell_type": "code",
      "metadata": {
        "id": "230YvyStGzrT",
        "colab_type": "code",
        "colab": {}
      },
      "source": [
        "housing_num = housing.drop(\"ocean_proximity\", axis=1)#숫자만 fit 가능하므로\n",
        "# alternatively: housing_num = housing.select_dtypes(include=[np.number])"
      ],
      "execution_count": 0,
      "outputs": []
    },
    {
      "cell_type": "markdown",
      "metadata": {
        "id": "UJHRt15GG6t5",
        "colab_type": "text"
      },
      "source": [
        "Now you can fit the `imputer` instance to the training data using the `fit()` method:"
      ]
    },
    {
      "cell_type": "code",
      "metadata": {
        "id": "ga_cd-9IG-3k",
        "colab_type": "code",
        "outputId": "de1e7e92-3e3a-4d8e-9e04-0130abd93f28",
        "colab": {
          "base_uri": "https://localhost:8080/",
          "height": 53
        }
      },
      "source": [
        "imputer.fit(housing_num)\n"
      ],
      "execution_count": 46,
      "outputs": [
        {
          "output_type": "execute_result",
          "data": {
            "text/plain": [
              "SimpleImputer(add_indicator=False, copy=True, fill_value=None,\n",
              "              missing_values=nan, strategy='median', verbose=0)"
            ]
          },
          "metadata": {
            "tags": []
          },
          "execution_count": 46
        }
      ]
    },
    {
      "cell_type": "markdown",
      "metadata": {
        "id": "60_XHwqDHBEd",
        "colab_type": "text"
      },
      "source": [
        "The `imputer` has simply \n",
        "* computed the median of each attribute and \n",
        "* stored the result in its `statistics_` instance variable. \n",
        "\n",
        "Only the `total_bedrooms` attribute had missing values, but we cannot be sure that there won’t be any missing values in new data after the system goes live, so it is safer to apply the imputer to all the numerical attributes:"
      ]
    },
    {
      "cell_type": "code",
      "metadata": {
        "id": "ZEXjB9OXHKpV",
        "colab_type": "code",
        "outputId": "cae1bcdd-4a60-4fca-8956-58766b0453ad",
        "colab": {
          "base_uri": "https://localhost:8080/",
          "height": 89
        }
      },
      "source": [
        "# Check that this is the same as manually computing the median of each attribute:\n",
        "\n",
        "print(imputer.statistics_)\n",
        "print(housing_num.median().values)"
      ],
      "execution_count": 47,
      "outputs": [
        {
          "output_type": "stream",
          "text": [
            "[-118.51     34.26     29.     2119.5     433.     1164.      408.\n",
            "    3.5409]\n",
            "[-118.51     34.26     29.     2119.5     433.     1164.      408.\n",
            "    3.5409]\n"
          ],
          "name": "stdout"
        }
      ]
    },
    {
      "cell_type": "markdown",
      "metadata": {
        "id": "j0_eQw6sHbmR",
        "colab_type": "text"
      },
      "source": [
        "Now you can use this “trained” imputer to `transform`** the training set** by replacing missing values with the learned medians:"
      ]
    },
    {
      "cell_type": "code",
      "metadata": {
        "id": "HDfvbd2zHdFQ",
        "colab_type": "code",
        "colab": {
          "base_uri": "https://localhost:8080/",
          "height": 53
        },
        "outputId": "aa39f5b3-9f79-49fd-81bb-5522432e1dad"
      },
      "source": [
        "print(housing_num.shape)\n",
        "X = imputer.transform(housing_num)\n",
        "print(X.shape)"
      ],
      "execution_count": 48,
      "outputs": [
        {
          "output_type": "stream",
          "text": [
            "(16512, 8)\n",
            "(16512, 8)\n"
          ],
          "name": "stdout"
        }
      ]
    },
    {
      "cell_type": "markdown",
      "metadata": {
        "id": "9buQgQ1BJCUl",
        "colab_type": "text"
      },
      "source": [
        "The result is **a plain NumPy array** containing the transformed features. \n",
        "\n",
        "If you want to put it back into a pandas DataFrame, it’s simple:"
      ]
    },
    {
      "cell_type": "code",
      "metadata": {
        "id": "2JtSIkdeJDH8",
        "colab_type": "code",
        "outputId": "6e26d46b-762a-4cc1-b899-a9d4e86a9dfd",
        "colab": {
          "base_uri": "https://localhost:8080/",
          "height": 204
        }
      },
      "source": [
        "housing_tr = pd.DataFrame(X, \n",
        "                          columns=housing_num.columns,\n",
        "                          index=housing.index)\n",
        "\n",
        "housing_tr.loc[sample_incomplete_rows.index.values]\n"
      ],
      "execution_count": 49,
      "outputs": [
        {
          "output_type": "execute_result",
          "data": {
            "text/html": [
              "<div>\n",
              "<style scoped>\n",
              "    .dataframe tbody tr th:only-of-type {\n",
              "        vertical-align: middle;\n",
              "    }\n",
              "\n",
              "    .dataframe tbody tr th {\n",
              "        vertical-align: top;\n",
              "    }\n",
              "\n",
              "    .dataframe thead th {\n",
              "        text-align: right;\n",
              "    }\n",
              "</style>\n",
              "<table border=\"1\" class=\"dataframe\">\n",
              "  <thead>\n",
              "    <tr style=\"text-align: right;\">\n",
              "      <th></th>\n",
              "      <th>longitude</th>\n",
              "      <th>latitude</th>\n",
              "      <th>housing_median_age</th>\n",
              "      <th>total_rooms</th>\n",
              "      <th>total_bedrooms</th>\n",
              "      <th>population</th>\n",
              "      <th>households</th>\n",
              "      <th>median_income</th>\n",
              "    </tr>\n",
              "  </thead>\n",
              "  <tbody>\n",
              "    <tr>\n",
              "      <th>4629</th>\n",
              "      <td>-118.30</td>\n",
              "      <td>34.07</td>\n",
              "      <td>18.0</td>\n",
              "      <td>3759.0</td>\n",
              "      <td>433.0</td>\n",
              "      <td>3296.0</td>\n",
              "      <td>1462.0</td>\n",
              "      <td>2.2708</td>\n",
              "    </tr>\n",
              "    <tr>\n",
              "      <th>6068</th>\n",
              "      <td>-117.86</td>\n",
              "      <td>34.01</td>\n",
              "      <td>16.0</td>\n",
              "      <td>4632.0</td>\n",
              "      <td>433.0</td>\n",
              "      <td>3038.0</td>\n",
              "      <td>727.0</td>\n",
              "      <td>5.1762</td>\n",
              "    </tr>\n",
              "    <tr>\n",
              "      <th>17923</th>\n",
              "      <td>-121.97</td>\n",
              "      <td>37.35</td>\n",
              "      <td>30.0</td>\n",
              "      <td>1955.0</td>\n",
              "      <td>433.0</td>\n",
              "      <td>999.0</td>\n",
              "      <td>386.0</td>\n",
              "      <td>4.6328</td>\n",
              "    </tr>\n",
              "    <tr>\n",
              "      <th>13656</th>\n",
              "      <td>-117.30</td>\n",
              "      <td>34.05</td>\n",
              "      <td>6.0</td>\n",
              "      <td>2155.0</td>\n",
              "      <td>433.0</td>\n",
              "      <td>1039.0</td>\n",
              "      <td>391.0</td>\n",
              "      <td>1.6675</td>\n",
              "    </tr>\n",
              "    <tr>\n",
              "      <th>19252</th>\n",
              "      <td>-122.79</td>\n",
              "      <td>38.48</td>\n",
              "      <td>7.0</td>\n",
              "      <td>6837.0</td>\n",
              "      <td>433.0</td>\n",
              "      <td>3468.0</td>\n",
              "      <td>1405.0</td>\n",
              "      <td>3.1662</td>\n",
              "    </tr>\n",
              "  </tbody>\n",
              "</table>\n",
              "</div>"
            ],
            "text/plain": [
              "       longitude  latitude  ...  households  median_income\n",
              "4629     -118.30     34.07  ...      1462.0         2.2708\n",
              "6068     -117.86     34.01  ...       727.0         5.1762\n",
              "17923    -121.97     37.35  ...       386.0         4.6328\n",
              "13656    -117.30     34.05  ...       391.0         1.6675\n",
              "19252    -122.79     38.48  ...      1405.0         3.1662\n",
              "\n",
              "[5 rows x 8 columns]"
            ]
          },
          "metadata": {
            "tags": []
          },
          "execution_count": 49
        }
      ]
    },
    {
      "cell_type": "code",
      "metadata": {
        "id": "Fbo3aVhMJd2x",
        "colab_type": "code",
        "outputId": "fe393986-a09c-4bcb-d2d8-bfd75f9e35f0",
        "colab": {
          "base_uri": "https://localhost:8080/",
          "height": 35
        }
      },
      "source": [
        "imputer.strategy"
      ],
      "execution_count": 50,
      "outputs": [
        {
          "output_type": "execute_result",
          "data": {
            "text/plain": [
              "'median'"
            ]
          },
          "metadata": {
            "tags": []
          },
          "execution_count": 50
        }
      ]
    },
    {
      "cell_type": "markdown",
      "metadata": {
        "id": "PWCaE7fDJ453",
        "colab_type": "text"
      },
      "source": [
        "## Handling Text and Categorical Attributes\n",
        "\n",
        "> 결국 기계학습은 대부분 vector (혹은 tensor)만을 다루기 때문에 **숫자**가 아닌 데이터들에 대한 처리가 필수.\n",
        "\n",
        "So far we have only dealt with **numerical attributes**, but now let’s look at **text attributes**. \n",
        "\n",
        "In this dataset, there is just one: the `ocean_proximity` attribute. \n",
        "\n",
        "(숫자로만 이루어져야 한다. 미분이 가능해야 한다. 문자를 숫자로 바꿀 때 많이 쓰이는게 one-hot encoding) "
      ]
    },
    {
      "cell_type": "markdown",
      "metadata": {
        "id": "iwWVQ_u322rp",
        "colab_type": "text"
      },
      "source": [
        "Let’s look at its value for the first 10 instances:"
      ]
    },
    {
      "cell_type": "code",
      "metadata": {
        "id": "5u5e8n9ZJ-Vl",
        "colab_type": "code",
        "outputId": "f8abaef3-f66f-4cd3-8450-86c42da6a623",
        "colab": {
          "base_uri": "https://localhost:8080/",
          "height": 359
        }
      },
      "source": [
        "housing_cat = housing[[\"ocean_proximity\"]]\n",
        "housing_cat.head(10)"
      ],
      "execution_count": 51,
      "outputs": [
        {
          "output_type": "execute_result",
          "data": {
            "text/html": [
              "<div>\n",
              "<style scoped>\n",
              "    .dataframe tbody tr th:only-of-type {\n",
              "        vertical-align: middle;\n",
              "    }\n",
              "\n",
              "    .dataframe tbody tr th {\n",
              "        vertical-align: top;\n",
              "    }\n",
              "\n",
              "    .dataframe thead th {\n",
              "        text-align: right;\n",
              "    }\n",
              "</style>\n",
              "<table border=\"1\" class=\"dataframe\">\n",
              "  <thead>\n",
              "    <tr style=\"text-align: right;\">\n",
              "      <th></th>\n",
              "      <th>ocean_proximity</th>\n",
              "    </tr>\n",
              "  </thead>\n",
              "  <tbody>\n",
              "    <tr>\n",
              "      <th>17606</th>\n",
              "      <td>&lt;1H OCEAN</td>\n",
              "    </tr>\n",
              "    <tr>\n",
              "      <th>18632</th>\n",
              "      <td>&lt;1H OCEAN</td>\n",
              "    </tr>\n",
              "    <tr>\n",
              "      <th>14650</th>\n",
              "      <td>NEAR OCEAN</td>\n",
              "    </tr>\n",
              "    <tr>\n",
              "      <th>3230</th>\n",
              "      <td>INLAND</td>\n",
              "    </tr>\n",
              "    <tr>\n",
              "      <th>3555</th>\n",
              "      <td>&lt;1H OCEAN</td>\n",
              "    </tr>\n",
              "    <tr>\n",
              "      <th>19480</th>\n",
              "      <td>INLAND</td>\n",
              "    </tr>\n",
              "    <tr>\n",
              "      <th>8879</th>\n",
              "      <td>&lt;1H OCEAN</td>\n",
              "    </tr>\n",
              "    <tr>\n",
              "      <th>13685</th>\n",
              "      <td>INLAND</td>\n",
              "    </tr>\n",
              "    <tr>\n",
              "      <th>4937</th>\n",
              "      <td>&lt;1H OCEAN</td>\n",
              "    </tr>\n",
              "    <tr>\n",
              "      <th>4861</th>\n",
              "      <td>&lt;1H OCEAN</td>\n",
              "    </tr>\n",
              "  </tbody>\n",
              "</table>\n",
              "</div>"
            ],
            "text/plain": [
              "      ocean_proximity\n",
              "17606       <1H OCEAN\n",
              "18632       <1H OCEAN\n",
              "14650      NEAR OCEAN\n",
              "3230           INLAND\n",
              "3555        <1H OCEAN\n",
              "19480          INLAND\n",
              "8879        <1H OCEAN\n",
              "13685          INLAND\n",
              "4937        <1H OCEAN\n",
              "4861        <1H OCEAN"
            ]
          },
          "metadata": {
            "tags": []
          },
          "execution_count": 51
        }
      ]
    },
    {
      "cell_type": "code",
      "metadata": {
        "id": "BTaRXid_13Zk",
        "colab_type": "code",
        "outputId": "8a6840bf-ee31-4223-8016-b733b37ccdf5",
        "colab": {
          "base_uri": "https://localhost:8080/",
          "height": 125
        }
      },
      "source": [
        "housing_cat['ocean_proximity'].value_counts()#5개의 카테고리로 나누어 있음을 확인 할 수 있다."
      ],
      "execution_count": 52,
      "outputs": [
        {
          "output_type": "execute_result",
          "data": {
            "text/plain": [
              "<1H OCEAN     7276\n",
              "INLAND        5263\n",
              "NEAR OCEAN    2124\n",
              "NEAR BAY      1847\n",
              "ISLAND           2\n",
              "Name: ocean_proximity, dtype: int64"
            ]
          },
          "metadata": {
            "tags": []
          },
          "execution_count": 52
        }
      ]
    },
    {
      "cell_type": "markdown",
      "metadata": {
        "id": "Nnfcw4QjKF-o",
        "colab_type": "text"
      },
      "source": [
        "It’s not arbitrary text: there are **a limited number of possible values**, each of which represents a **category**. \n",
        "\n",
        "So this attribute is a **categorical attribute**. \n",
        "\n",
        "Most Machine Learning algorithms prefer to work with numbers, so let’s convert these categories from text to numbers. For this, we can use Scikit-Learn’s `OrdinalEncoder` class:\n",
        "\n",
        "> ordinal : 서수의 (첫째, 둘째 등등)\n",
        "\n",
        "\n",
        "(`OrdinalEncoder` 순서에 맞춰서 인코딩을 함)"
      ]
    },
    {
      "cell_type": "code",
      "metadata": {
        "id": "ng9GeZDpKg4M",
        "colab_type": "code",
        "outputId": "788dbb78-705f-4b4e-adb9-7f14975de483",
        "colab": {
          "base_uri": "https://localhost:8080/",
          "height": 413
        }
      },
      "source": [
        "from sklearn.preprocessing import OrdinalEncoder\n",
        "\n",
        "ordinal_encoder = OrdinalEncoder()\n",
        "housing_cat_encoded = ordinal_encoder.fit_transform(housing_cat)\n",
        "print(ordinal_encoder)\n",
        "print(housing_cat_encoded[:10])\n",
        "print(housing_cat[:10])"
      ],
      "execution_count": 53,
      "outputs": [
        {
          "output_type": "stream",
          "text": [
            "OrdinalEncoder(categories='auto', dtype=<class 'numpy.float64'>)\n",
            "[[0.]\n",
            " [0.]\n",
            " [4.]\n",
            " [1.]\n",
            " [0.]\n",
            " [1.]\n",
            " [0.]\n",
            " [1.]\n",
            " [0.]\n",
            " [0.]]\n",
            "      ocean_proximity\n",
            "17606       <1H OCEAN\n",
            "18632       <1H OCEAN\n",
            "14650      NEAR OCEAN\n",
            "3230           INLAND\n",
            "3555        <1H OCEAN\n",
            "19480          INLAND\n",
            "8879        <1H OCEAN\n",
            "13685          INLAND\n",
            "4937        <1H OCEAN\n",
            "4861        <1H OCEAN\n"
          ],
          "name": "stdout"
        }
      ]
    },
    {
      "cell_type": "markdown",
      "metadata": {
        "id": "eZb0lPMUK3Vq",
        "colab_type": "text"
      },
      "source": [
        "You can get the list of categories using the `categories_` instance variable. \n",
        "\n",
        "It is a list containing a 1D array of categories for each categorical attribute (in this case, a list containing a single array since there is just one categorical attribute):"
      ]
    },
    {
      "cell_type": "code",
      "metadata": {
        "id": "LerOtXp7K8bc",
        "colab_type": "code",
        "outputId": "ec6915a3-1977-4374-c013-a97824913278",
        "colab": {
          "base_uri": "https://localhost:8080/",
          "height": 53
        }
      },
      "source": [
        "ordinal_encoder.categories_"
      ],
      "execution_count": 54,
      "outputs": [
        {
          "output_type": "execute_result",
          "data": {
            "text/plain": [
              "[array(['<1H OCEAN', 'INLAND', 'ISLAND', 'NEAR BAY', 'NEAR OCEAN'],\n",
              "       dtype=object)]"
            ]
          },
          "metadata": {
            "tags": []
          },
          "execution_count": 54
        }
      ]
    },
    {
      "cell_type": "markdown",
      "metadata": {
        "id": "BOJQNNcbLOyI",
        "colab_type": "text"
      },
      "source": [
        "One issue with this representation is that ML algorithms will assume that **two nearby values are more similar than two distant values**. \n",
        "* This may be fine in some cases (e.g., for ordered categories such as “bad,” “average,” “good,” and “excellent”), but \n",
        "* it is obviously not the case for the `ocean_proximity` column (for example, categories 0 and 4 are clearly more similar than categories 0 and 1). \n",
        "\n",
        "> 그래서 one-hot encoding 이 제안됨.\n",
        "\n",
        "To fix this issue, a common solution is to create one binary attribute per category: one attribute equal to 1 when the category is `<1H OCEAN` (and 0 otherwise), another attribute equal to 1 when the category is `INLAND` (and 0 otherwise), and so on. This is called **one-hot encoding**, because only one attribute will be equal to 1 (hot), while the others will be 0 (cold). \n",
        "\n",
        "The new attributes are sometimes called *dummy* attributes. Scikit-Learn provides a `OneHotEncoder` class **to convert categorical values into one-hot vectors**:\n",
        "\n",
        "\n",
        "(순서가 전혀 의미가 없는 데이터의 경우에는 임의로 0,1,2,3 을 지정해 주는건 바르지 않음. one-hot 인코딩은 세개의 카테고리가 있다면 1 0 0, 0 1 0, 0 0 1 이런식으로 표현이 된다. classification 이나 레이블을 할 때 one-hot 인코딩은 많이 쓰인다. 카테고리가 너어어무 많으면 속도가 느려짐.)"
      ]
    },
    {
      "cell_type": "code",
      "metadata": {
        "id": "tDtje2hzLhYB",
        "colab_type": "code",
        "outputId": "fa90ecb6-0005-4108-81c1-1f40b63eb4ff",
        "colab": {
          "base_uri": "https://localhost:8080/",
          "height": 53
        }
      },
      "source": [
        "from sklearn.preprocessing import OneHotEncoder\n",
        "\n",
        "cat_encoder = OneHotEncoder()\n",
        "housing_cat_1hot = cat_encoder.fit_transform(housing_cat)\n",
        "housing_cat_1hot"
      ],
      "execution_count": 55,
      "outputs": [
        {
          "output_type": "execute_result",
          "data": {
            "text/plain": [
              "<16512x5 sparse matrix of type '<class 'numpy.float64'>'\n",
              "\twith 16512 stored elements in Compressed Sparse Row format>"
            ]
          },
          "metadata": {
            "tags": []
          },
          "execution_count": 55
        }
      ]
    },
    {
      "cell_type": "markdown",
      "metadata": {
        "id": "kpuRkVwaLrJL",
        "colab_type": "text"
      },
      "source": [
        "Notice that the output is a SciPy *sparse matrix*, instead of a NumPy array. This is very useful when you have categorical attributes **with thousands of categories**. \n",
        "\n",
        "After one-hot encoding, we get a matrix with thousands of columns, and the matrix is full of 0s except for a single 1 per row. Using up tons of memory mostly to store zeros would be very wasteful, so instead a sparse matrix only stores the location of the nonzero elements. \n",
        "\n",
        "You can use it mostly like a normal 2D array, but if you really want to convert it to a (dense) NumPy array, just call the `toarray()` method:"
      ]
    },
    {
      "cell_type": "code",
      "metadata": {
        "id": "MUZ_-0IAL6BC",
        "colab_type": "code",
        "outputId": "bd3a9ec4-a4da-4f99-d3fb-470b5a149d10",
        "colab": {
          "base_uri": "https://localhost:8080/",
          "height": 143
        }
      },
      "source": [
        "housing_cat_1hot.toarray()\n"
      ],
      "execution_count": 56,
      "outputs": [
        {
          "output_type": "execute_result",
          "data": {
            "text/plain": [
              "array([[1., 0., 0., 0., 0.],\n",
              "       [1., 0., 0., 0., 0.],\n",
              "       [0., 0., 0., 0., 1.],\n",
              "       ...,\n",
              "       [0., 1., 0., 0., 0.],\n",
              "       [1., 0., 0., 0., 0.],\n",
              "       [0., 0., 0., 1., 0.]])"
            ]
          },
          "metadata": {
            "tags": []
          },
          "execution_count": 56
        }
      ]
    },
    {
      "cell_type": "markdown",
      "metadata": {
        "id": "Y04ZNt_36p3o",
        "colab_type": "text"
      },
      "source": [
        "Alternatively, you can set sparse=False when creating the OneHotEncoder:  \n",
        "(sparse matrix를 쓰지 말라는 뜻)"
      ]
    },
    {
      "cell_type": "code",
      "metadata": {
        "id": "zItbjMrr6rs0",
        "colab_type": "code",
        "outputId": "e69b1eaa-bdb6-4d3b-b43a-d17dcbdd844b",
        "colab": {
          "base_uri": "https://localhost:8080/",
          "height": 143
        }
      },
      "source": [
        "cat_encoder = OneHotEncoder(sparse=False)\n",
        "housing_cat_1hot = cat_encoder.fit_transform(housing_cat)\n",
        "housing_cat_1hot"
      ],
      "execution_count": 57,
      "outputs": [
        {
          "output_type": "execute_result",
          "data": {
            "text/plain": [
              "array([[1., 0., 0., 0., 0.],\n",
              "       [1., 0., 0., 0., 0.],\n",
              "       [0., 0., 0., 0., 1.],\n",
              "       ...,\n",
              "       [0., 1., 0., 0., 0.],\n",
              "       [1., 0., 0., 0., 0.],\n",
              "       [0., 0., 0., 1., 0.]])"
            ]
          },
          "metadata": {
            "tags": []
          },
          "execution_count": 57
        }
      ]
    },
    {
      "cell_type": "code",
      "metadata": {
        "id": "8TpUSNc06xUA",
        "colab_type": "code",
        "outputId": "312bd258-eabc-4ea8-8486-a307f14b91a1",
        "colab": {
          "base_uri": "https://localhost:8080/",
          "height": 53
        }
      },
      "source": [
        "cat_encoder.categories_\n"
      ],
      "execution_count": 58,
      "outputs": [
        {
          "output_type": "execute_result",
          "data": {
            "text/plain": [
              "[array(['<1H OCEAN', 'INLAND', 'ISLAND', 'NEAR BAY', 'NEAR OCEAN'],\n",
              "       dtype=object)]"
            ]
          },
          "metadata": {
            "tags": []
          },
          "execution_count": 58
        }
      ]
    },
    {
      "cell_type": "markdown",
      "metadata": {
        "id": "gArLymZ27exv",
        "colab_type": "text"
      },
      "source": [
        "여왕-여자=왕\n",
        "이런식의 개념은 one-hot encoding에서 불가능\n",
        "text data 에서는 이런 개념이 필요할 수도 있다.\n",
        "단어들 사이에 연관이 있으면 숫자가 가까울 수도 있는 것처럼\n",
        "\n",
        "워드 임베딩: 단어들을 학습해서 비슷한 의미를 가지는 단어들을 차 연산 했을 때 거리가 가깝고, 완전히 다른 의미를 가지는 단어들은 거리가 멀게끔 인코딩이 됨. 숫자들이 의미를 가짐\n",
        "### Note : Embedding\n",
        "\n",
        "If a categorical attribute has a large number of possible categories (e.g., country code, profession, species), then one-hot encoding will result in a large number of input features. This may slow down training and degrade performance. \n",
        "\n",
        "If this happens, you may want **to replace the categorical input with useful numerical features related to the categories**: \n",
        "* for example, you could replace the `ocean_proximity` feature with **the distance to the ocean** \n",
        "* (similarly, a country code could be replaced with the country’s population and GDP per capita). \n",
        "\n",
        "Alternatively, you could replace each category with **a learnable, low-dimensional vector** called an `embedding`. \n",
        "* Each category’s representation would be learned during training. \n",
        "* This is an example of representation learning (see Chapters 13 and 17 for more details)."
      ]
    },
    {
      "cell_type": "markdown",
      "metadata": {
        "id": "3eh4N06k60PS",
        "colab_type": "text"
      },
      "source": [
        "# Custom Transformers\n",
        "\n",
        "Although Scikit-Learn provides many useful transformers, you will need to write **your own** for tasks such as \n",
        "* custom cleanup operations or \n",
        "* combining specific attributes. \n",
        "\n",
        "\n",
        "You will want **your transformer** to work seamlessly with Scikit-Learn functionalities (such as pipelines), and since **Scikit-Learn relies on duck typing (not inheritance)**, \n",
        "\n",
        "**all you need to do is create a class and implement three methods:** \n",
        "* fit() (returning self), \n",
        "* transform(), and \n",
        "* fit_transform().\n",
        "\n",
        "You can get the last one for free by simply adding `TransformerMixin` as a base class. \n",
        "\n",
        "If you add `BaseEstimator` as a base class (and avoid `*args` and `**kargs` in your constructor), you will also get two extra methods (`get_params()` and `set_params()`) that will be useful for automatic hyperparameter tuning.\n",
        "\n",
        "For example, here is a small transformer class that adds the combined attributes we discussed earlier:\n",
        "\n",
        "\n"
      ]
    },
    {
      "cell_type": "code",
      "metadata": {
        "id": "ISew_t9V66Z2",
        "colab_type": "code",
        "outputId": "5f877bfb-8b94-4a05-947f-2f575b4c1bb7",
        "colab": {
          "base_uri": "https://localhost:8080/",
          "height": 53
        }
      },
      "source": [
        "from sklearn.base import BaseEstimator, TransformerMixin\n",
        "\n",
        "# column index\n",
        "rooms_ix, bedrooms_ix, population_ix, households_ix = 3, 4, 5, 6\n",
        "\n",
        "class CombinedAttributesAdder(BaseEstimator, TransformerMixin):\n",
        "    def __init__(self, add_bedrooms_per_room = True): # no *args or **kargs\n",
        "        self.add_bedrooms_per_room = add_bedrooms_per_room\n",
        "\n",
        "    def fit(self, X, y=None):\n",
        "        return self  # nothing else to do\n",
        "\n",
        "    def transform(self, X, y=None):\n",
        "        rooms_per_household      = X[:, rooms_ix] / X[:, households_ix]#x에서 room에 있는 데이터로부터 household로 나눠준 다음에 저장\n",
        "        population_per_household = X[:, population_ix] / X[:, households_ix]\n",
        "        if self.add_bedrooms_per_room:\n",
        "            bedrooms_per_room = X[:, bedrooms_ix] / X[:, rooms_ix]\n",
        "            return np.c_[X, rooms_per_household, population_per_household,\n",
        "                         bedrooms_per_room]\n",
        "        else:\n",
        "            return np.c_[X, rooms_per_household, population_per_household]\n",
        "\n",
        "attr_adder = CombinedAttributesAdder(add_bedrooms_per_room=False)\n",
        "housing_extra_attribs = attr_adder.transform(housing.values)\n",
        "print(housing.values.shape)\n",
        "print(housing_extra_attribs.shape)"
      ],
      "execution_count": 59,
      "outputs": [
        {
          "output_type": "stream",
          "text": [
            "(16512, 9)\n",
            "(16512, 11)\n"
          ],
          "name": "stdout"
        }
      ]
    },
    {
      "cell_type": "code",
      "metadata": {
        "id": "kIXOydSjAZnN",
        "colab_type": "code",
        "outputId": "7402c155-d970-4e20-e138-c480e76e2a2b",
        "colab": {
          "base_uri": "https://localhost:8080/",
          "height": 204
        }
      },
      "source": [
        "housing_extra_attribs = pd.DataFrame(\n",
        "    housing_extra_attribs,\n",
        "    columns=list(housing.columns)+[\"rooms_per_household\", \"population_per_household\"],\n",
        "    index=housing.index)\n",
        "housing_extra_attribs.head()"
      ],
      "execution_count": 60,
      "outputs": [
        {
          "output_type": "execute_result",
          "data": {
            "text/html": [
              "<div>\n",
              "<style scoped>\n",
              "    .dataframe tbody tr th:only-of-type {\n",
              "        vertical-align: middle;\n",
              "    }\n",
              "\n",
              "    .dataframe tbody tr th {\n",
              "        vertical-align: top;\n",
              "    }\n",
              "\n",
              "    .dataframe thead th {\n",
              "        text-align: right;\n",
              "    }\n",
              "</style>\n",
              "<table border=\"1\" class=\"dataframe\">\n",
              "  <thead>\n",
              "    <tr style=\"text-align: right;\">\n",
              "      <th></th>\n",
              "      <th>longitude</th>\n",
              "      <th>latitude</th>\n",
              "      <th>housing_median_age</th>\n",
              "      <th>total_rooms</th>\n",
              "      <th>total_bedrooms</th>\n",
              "      <th>population</th>\n",
              "      <th>households</th>\n",
              "      <th>median_income</th>\n",
              "      <th>ocean_proximity</th>\n",
              "      <th>rooms_per_household</th>\n",
              "      <th>population_per_household</th>\n",
              "    </tr>\n",
              "  </thead>\n",
              "  <tbody>\n",
              "    <tr>\n",
              "      <th>17606</th>\n",
              "      <td>-121.89</td>\n",
              "      <td>37.29</td>\n",
              "      <td>38</td>\n",
              "      <td>1568</td>\n",
              "      <td>351</td>\n",
              "      <td>710</td>\n",
              "      <td>339</td>\n",
              "      <td>2.7042</td>\n",
              "      <td>&lt;1H OCEAN</td>\n",
              "      <td>4.62537</td>\n",
              "      <td>2.0944</td>\n",
              "    </tr>\n",
              "    <tr>\n",
              "      <th>18632</th>\n",
              "      <td>-121.93</td>\n",
              "      <td>37.05</td>\n",
              "      <td>14</td>\n",
              "      <td>679</td>\n",
              "      <td>108</td>\n",
              "      <td>306</td>\n",
              "      <td>113</td>\n",
              "      <td>6.4214</td>\n",
              "      <td>&lt;1H OCEAN</td>\n",
              "      <td>6.00885</td>\n",
              "      <td>2.70796</td>\n",
              "    </tr>\n",
              "    <tr>\n",
              "      <th>14650</th>\n",
              "      <td>-117.2</td>\n",
              "      <td>32.77</td>\n",
              "      <td>31</td>\n",
              "      <td>1952</td>\n",
              "      <td>471</td>\n",
              "      <td>936</td>\n",
              "      <td>462</td>\n",
              "      <td>2.8621</td>\n",
              "      <td>NEAR OCEAN</td>\n",
              "      <td>4.22511</td>\n",
              "      <td>2.02597</td>\n",
              "    </tr>\n",
              "    <tr>\n",
              "      <th>3230</th>\n",
              "      <td>-119.61</td>\n",
              "      <td>36.31</td>\n",
              "      <td>25</td>\n",
              "      <td>1847</td>\n",
              "      <td>371</td>\n",
              "      <td>1460</td>\n",
              "      <td>353</td>\n",
              "      <td>1.8839</td>\n",
              "      <td>INLAND</td>\n",
              "      <td>5.23229</td>\n",
              "      <td>4.13598</td>\n",
              "    </tr>\n",
              "    <tr>\n",
              "      <th>3555</th>\n",
              "      <td>-118.59</td>\n",
              "      <td>34.23</td>\n",
              "      <td>17</td>\n",
              "      <td>6592</td>\n",
              "      <td>1525</td>\n",
              "      <td>4459</td>\n",
              "      <td>1463</td>\n",
              "      <td>3.0347</td>\n",
              "      <td>&lt;1H OCEAN</td>\n",
              "      <td>4.50581</td>\n",
              "      <td>3.04785</td>\n",
              "    </tr>\n",
              "  </tbody>\n",
              "</table>\n",
              "</div>"
            ],
            "text/plain": [
              "      longitude latitude  ... rooms_per_household population_per_household\n",
              "17606   -121.89    37.29  ...             4.62537                   2.0944\n",
              "18632   -121.93    37.05  ...             6.00885                  2.70796\n",
              "14650    -117.2    32.77  ...             4.22511                  2.02597\n",
              "3230    -119.61    36.31  ...             5.23229                  4.13598\n",
              "3555    -118.59    34.23  ...             4.50581                  3.04785\n",
              "\n",
              "[5 rows x 11 columns]"
            ]
          },
          "metadata": {
            "tags": []
          },
          "execution_count": 60
        }
      ]
    },
    {
      "cell_type": "markdown",
      "metadata": {
        "id": "b2HoRjog8-Nm",
        "colab_type": "text"
      },
      "source": [
        "In this example the transformer has **one hyperparameter**, `add_bedrooms_per_room`, set to `True` by default (it is often helpful to provide sensible defaults). \n",
        "> 합리적 또는 자주 쓰이는 값을 기본으로 설정할 것. \n",
        "\n",
        "This hyperparameter will allow you to easily find out whether adding this attribute helps the Machine Learning algorithms or not. \n",
        "\n",
        "More generally, you can add a hyperparameter to gate any data preparation step that you are not 100% sure about. \n",
        "\n",
        "> 새로운 attribute가 실제 도움이 될지 확인해봐야만 함!\n",
        "\n",
        "**The more you automate these data preparation steps, the more combinations you can automatically try out, making it much more likely that you will find a great combination (and saving you a lot of time)**"
      ]
    },
    {
      "cell_type": "markdown",
      "metadata": {
        "id": "MZ2J17FI-ZEI",
        "colab_type": "text"
      },
      "source": [
        "# Feature Scaling\n",
        "\n",
        "**One of the most important transformations** you need to apply to your data is ***feature scaling***. \n",
        "\n",
        "With few exceptions, \n",
        "* Machine Learning algorithms don’t perform well when **the input numerical attributes have very different scales**. \n",
        "\n",
        "This is the case for the housing data: \n",
        "* the total number of rooms ranges from about 6 to 39,320, while \n",
        "* the median incomes only range from 0 to 15. \n",
        "\n",
        "**Note that scaling the target values is generally not required.**\n",
        "\n",
        "There are **two common ways** to get all attributes to have the same scale: \n",
        "* min-max scaling and \n",
        "* standardization.\n",
        "\n",
        "## Min-max scaling (many people call this normalization) is the simplest: \n",
        "* values are shifted and rescaled so that they end up **ranging from 0 to 1**. \n",
        "* We do this by subtracting the min value and dividing by the max minus the min. \n",
        "* Scikit-Learn provides a transformer called `MinMaxScaler` for this. \n",
        "* It has a `feature_range` hyperparameter that lets you change the range if, for some reason, you don’t want 0–1.  \n",
        "(min-max scaling은 outliers에 매우 취약하다.)\n",
        "\n",
        "## Standardization \n",
        "* first it subtracts the `mean` value (so standardized values always have a **zero mean**), and then \n",
        "* it divides by the `standard deviation` so that the resulting distribution has **unit variance**. \n",
        "\n",
        "Unlike min-max scaling, **standardization does not bound values to a specific range**, which may be a problem for some algorithms (e.g., neural networks often expect an input value *ranging from 0 to 1*). \n",
        "\n",
        "**However, standardization is much less affected by outliers.** \n",
        "* For example, suppose a district had a median income equal to 100 (by mistake). \n",
        "* `Min-max scaling` would then crush all the other values from 0–15 down to 0–0.15, whereas\n",
        "* `standardization` would not be much affected. \n",
        "\n",
        "Scikit-Learn provides a transformer called `StandardScaler` for standardization.\n",
        "\n",
        "> Scaling도 결국 training dataset 를 기준으로 계산되는 것임!\n"
      ]
    },
    {
      "cell_type": "markdown",
      "metadata": {
        "id": "EB6OiWVPA9O5",
        "colab_type": "text"
      },
      "source": [
        "# Transformation Pipelines\n",
        "\n",
        "As you can see, there are many data transformation steps that need to be executed **in the right order**. \n",
        "\n",
        "Fortunately, Scikit-Learn provides the `Pipeline` class to help with such sequences of transformations. Here is a small pipeline for the numerical attributes:"
      ]
    },
    {
      "cell_type": "code",
      "metadata": {
        "id": "TUFSvmnPBHkc",
        "colab_type": "code",
        "colab": {}
      },
      "source": [
        "from sklearn.pipeline import Pipeline#pipeline\n",
        "from sklearn.preprocessing import StandardScaler\n",
        "\n",
        "num_pipeline = Pipeline([\n",
        "        ('imputer', SimpleImputer(strategy=\"median\")),\n",
        "        ('attribs_adder', CombinedAttributesAdder()),\n",
        "        ('std_scaler', StandardScaler()),\n",
        "    ])\n",
        "\n",
        "housing_num_tr = num_pipeline.fit_transform(housing_num)"
      ],
      "execution_count": 0,
      "outputs": []
    },
    {
      "cell_type": "markdown",
      "metadata": {
        "id": "rbqZu5BvBW3z",
        "colab_type": "text"
      },
      "source": [
        "The `Pipeline` constructor takes **a list of name/estimator pairs** defining a sequence of steps. \n",
        "* All but the last estimator must be **transformers** (i.e., they must have a `fit_transform()` method). \n",
        "* The names can be anything you like (as long as they are unique and **don’t contain double underscores,** `__`); they will come in handy later for hyperparameter tuning.\n",
        "\n",
        "When you call the pipeline’s `fit()` method, \n",
        "* it calls `fit_transform()` sequentially on all transformers, \n",
        "* passing the output of each call as the parameter to the next call until it reaches **the final estimator**, \n",
        "* for which it calls the `fit()` method.\n",
        "\n",
        "The pipeline exposes the same methods as the **final estimator**. \n",
        "\n",
        "In this example, the last estimator is a `StandardScaler`, which is a **transformer**, so the pipeline has a `transform()` method that *applies all the transforms to the data in sequence* (and of course also a `fit_transform()` method, which is the one we used)."
      ]
    },
    {
      "cell_type": "code",
      "metadata": {
        "id": "6FTMygI5BM7v",
        "colab_type": "code",
        "outputId": "8ea295c4-1703-40c6-9f09-45c8ae1705c4",
        "colab": {
          "base_uri": "https://localhost:8080/",
          "height": 251
        }
      },
      "source": [
        "housing_num_tr\n"
      ],
      "execution_count": 62,
      "outputs": [
        {
          "output_type": "execute_result",
          "data": {
            "text/plain": [
              "array([[-1.15604281,  0.77194962,  0.74333089, ..., -0.31205452,\n",
              "        -0.08649871,  0.15531753],\n",
              "       [-1.17602483,  0.6596948 , -1.1653172 , ...,  0.21768338,\n",
              "        -0.03353391, -0.83628902],\n",
              "       [ 1.18684903, -1.34218285,  0.18664186, ..., -0.46531516,\n",
              "        -0.09240499,  0.4222004 ],\n",
              "       ...,\n",
              "       [ 1.58648943, -0.72478134, -1.56295222, ...,  0.3469342 ,\n",
              "        -0.03055414, -0.52177644],\n",
              "       [ 0.78221312, -0.85106801,  0.18664186, ...,  0.02499488,\n",
              "         0.06150916, -0.30340741],\n",
              "       [-1.43579109,  0.99645926,  1.85670895, ..., -0.22852947,\n",
              "        -0.09586294,  0.10180567]])"
            ]
          },
          "metadata": {
            "tags": []
          },
          "execution_count": 62
        }
      ]
    },
    {
      "cell_type": "markdown",
      "metadata": {
        "id": "NaEzeywWCliP",
        "colab_type": "text"
      },
      "source": [
        "So far, we have handled **the categorical columns** and **the numerical columns** ***separately***. \n",
        "\n",
        "It would be more convenient to have a single transformer able to handle all columns, applying the appropriate transformations to each column. \n",
        "\n",
        "In version 0.20, Scikit-Learn introduced the `ColumnTransformer` for this purpose, and the good news is that it works great with **pandas** `DataFrames`. \n",
        "\n",
        "Let’s use it to apply all the transformations to the housing data:"
      ]
    },
    {
      "cell_type": "code",
      "metadata": {
        "id": "IJZHP2_gC8bH",
        "colab_type": "code",
        "colab": {}
      },
      "source": [
        "from sklearn.compose import ColumnTransformer#카테고리컬 데이터까지 사용하려고\n",
        "\n",
        "num_attribs = list(housing_num)\n",
        "cat_attribs = [\"ocean_proximity\"]\n",
        "\n",
        "full_pipeline = ColumnTransformer([\n",
        "        (\"num\", num_pipeline, num_attribs),\n",
        "        (\"cat\", OneHotEncoder(), cat_attribs),],\n",
        "        remainder='drop')\n",
        "\n",
        "housing_prepared = full_pipeline.fit_transform(housing)\n",
        "\n"
      ],
      "execution_count": 0,
      "outputs": []
    },
    {
      "cell_type": "code",
      "metadata": {
        "id": "Yfe4kcJ2JIaz",
        "colab_type": "code",
        "colab": {
          "base_uri": "https://localhost:8080/",
          "height": 35
        },
        "outputId": "11b8a64b-a662-4d75-f28f-ce69bd11ca84"
      },
      "source": [
        "type(housing_prepared)"
      ],
      "execution_count": 84,
      "outputs": [
        {
          "output_type": "execute_result",
          "data": {
            "text/plain": [
              "numpy.ndarray"
            ]
          },
          "metadata": {
            "tags": []
          },
          "execution_count": 84
        }
      ]
    },
    {
      "cell_type": "markdown",
      "metadata": {
        "id": "5JIhQjA7DO_Z",
        "colab_type": "text"
      },
      "source": [
        "* First we import the `ColumnTransformer` class, \n",
        "* next we get the list of numerical column names and the list of categorical column names, and then \n",
        "* we construct a `ColumnTransformer`. \n",
        "\n",
        "The constructor requires **a list of tuples**, where \n",
        "* each tuple contains \n",
        "   * a **name**, \n",
        "   * a **transformer**, and \n",
        "   * a **list of names (or indices) of columns** that the transformer should be applied to. \n",
        "\n",
        "In this example, \n",
        "* we specify that the **numerical** columns should be transformed using the `num_pipeline` that we defined earlier, \n",
        "* and the **categorical** columns should be transformed using a `OneHotEncoder`. \n",
        "* Finally, we apply this `ColumnTransformer` to the **housing data**: it applies each transformer to the appropriate columns and concatenates the outputs along the second axis (the transformers must return the same number of rows).\n",
        "\n",
        "Note that the `OneHotEncoder` returns a **sparse matrix**, while the `num_pipeline` returns a **dense matrix**. \n",
        "\n",
        "When there is such a mix of sparse and dense matrices, the `ColumnTransformer` **estimates the density of the final matrix** (i.e., the ratio of nonzero cells), and it returns a sparse matrix if the density is lower than a given threshold (by default, sparse_threshold=0.3). \n",
        "\n",
        "In this example, it returns a dense matrix. And that’s it! We have a preprocessing pipeline that takes the full housing data and applies the appropriate transformations to each column."
      ]
    },
    {
      "cell_type": "code",
      "metadata": {
        "id": "184zeH8DGTka",
        "colab_type": "code",
        "outputId": "26bfc370-8af0-4d7e-ac70-8a94e96804f6",
        "colab": {
          "base_uri": "https://localhost:8080/",
          "height": 251
        }
      },
      "source": [
        "housing_prepared"
      ],
      "execution_count": 65,
      "outputs": [
        {
          "output_type": "execute_result",
          "data": {
            "text/plain": [
              "array([[-1.15604281,  0.77194962,  0.74333089, ...,  0.        ,\n",
              "         0.        ,  0.        ],\n",
              "       [-1.17602483,  0.6596948 , -1.1653172 , ...,  0.        ,\n",
              "         0.        ,  0.        ],\n",
              "       [ 1.18684903, -1.34218285,  0.18664186, ...,  0.        ,\n",
              "         0.        ,  1.        ],\n",
              "       ...,\n",
              "       [ 1.58648943, -0.72478134, -1.56295222, ...,  0.        ,\n",
              "         0.        ,  0.        ],\n",
              "       [ 0.78221312, -0.85106801,  0.18664186, ...,  0.        ,\n",
              "         0.        ,  0.        ],\n",
              "       [-1.43579109,  0.99645926,  1.85670895, ...,  0.        ,\n",
              "         1.        ,  0.        ]])"
            ]
          },
          "metadata": {
            "tags": []
          },
          "execution_count": 65
        }
      ]
    },
    {
      "cell_type": "code",
      "metadata": {
        "id": "N2HRfFR1GV9k",
        "colab_type": "code",
        "outputId": "ff3bd501-af21-4b4b-9f48-f8f89fe208b3",
        "colab": {
          "base_uri": "https://localhost:8080/",
          "height": 35
        }
      },
      "source": [
        "housing_prepared.shape"
      ],
      "execution_count": 66,
      "outputs": [
        {
          "output_type": "execute_result",
          "data": {
            "text/plain": [
              "(16512, 16)"
            ]
          },
          "metadata": {
            "tags": []
          },
          "execution_count": 66
        }
      ]
    },
    {
      "cell_type": "markdown",
      "metadata": {
        "id": "ePQJcMLdFFeT",
        "colab_type": "text"
      },
      "source": [
        "### TIP\n",
        "\n",
        "Instead of using a transformer, you can specify the string **`drop`** if you want the columns to be dropped, or you can specify **`passthrough`** if you want the columns to be left untouched. \n",
        "\n",
        "By default, the remaining columns (i.e., the ones that were not listed) will be dropped, but you can set the `remainder` hyperparameter to any transformer (or to `passthrough`) if you want these columns to be handled differently."
      ]
    },
    {
      "cell_type": "markdown",
      "metadata": {
        "id": "PrZ5k-teFwMz",
        "colab_type": "text"
      },
      "source": [
        "# Select and Train a Model\n",
        "\n",
        "At last! \n",
        "* You framed the problem, \n",
        "* you got the data and explored it, \n",
        "* you sampled a training set and a test set, and\n",
        "* you wrote transformation pipelines to clean up and prepare your data for Machine Learning algorithms automatically. \n",
        "\n",
        "You are now ready to select and train a Machine Learning model.\n",
        "\n",
        "## **Training** and **Evaluating** on the Training Set\n",
        "\n",
        "The good news is that thanks to all these previous steps, things are now going to be much simpler than you might think. \n",
        "\n",
        "Let’s first train a `Linear Regression model`, like we did in the previous chapter:"
      ]
    },
    {
      "cell_type": "code",
      "metadata": {
        "id": "DA4dtHXkGdM3",
        "colab_type": "code",
        "outputId": "f815502c-523a-4a4f-f421-c57cc580a033",
        "colab": {
          "base_uri": "https://localhost:8080/",
          "height": 35
        }
      },
      "source": [
        "from sklearn.linear_model import LinearRegression\n",
        "\n",
        "lr = LinearRegression()\n",
        "lr.fit(housing_prepared, housing_labels)"
      ],
      "execution_count": 67,
      "outputs": [
        {
          "output_type": "execute_result",
          "data": {
            "text/plain": [
              "LinearRegression(copy_X=True, fit_intercept=True, n_jobs=None, normalize=False)"
            ]
          },
          "metadata": {
            "tags": []
          },
          "execution_count": 67
        }
      ]
    },
    {
      "cell_type": "markdown",
      "metadata": {
        "id": "_4y7vGipGssv",
        "colab_type": "text"
      },
      "source": [
        "You now have a working Linear Regression model. Let’s try it out on a few instances from the training set:"
      ]
    },
    {
      "cell_type": "code",
      "metadata": {
        "id": "IqcHrQ_iGxgS",
        "colab_type": "code",
        "outputId": "5bc5c596-a32a-42fa-fa6e-6d1f1c25684f",
        "colab": {
          "base_uri": "https://localhost:8080/",
          "height": 53
        }
      },
      "source": [
        "# let's try the full preprocessing pipeline on a few training instances\n",
        "some_data = housing.iloc[:5]#housing은 training data set\n",
        "some_labels = housing_labels.iloc[:5]\n",
        "some_data_prepared = full_pipeline.transform(some_data)\n",
        "\n",
        "print(\"Predictions:\", np.round(lr.predict(some_data_prepared),2))\n",
        "print(\"Labels:\", list(some_labels))"
      ],
      "execution_count": 68,
      "outputs": [
        {
          "output_type": "stream",
          "text": [
            "Predictions: [210644.6  317768.81 210956.43  59218.99 189747.56]\n",
            "Labels: [286600.0, 340600.0, 196900.0, 46300.0, 254500.0]\n"
          ],
          "name": "stdout"
        }
      ]
    },
    {
      "cell_type": "code",
      "metadata": {
        "id": "8zOQ6bSOG751",
        "colab_type": "code",
        "outputId": "5e4e3f40-b230-40d3-805f-233fe37fc460",
        "colab": {
          "base_uri": "https://localhost:8080/",
          "height": 35
        }
      },
      "source": [
        "from sklearn.metrics import mean_squared_error\n",
        "\n",
        "np.sqrt(mean_squared_error(some_labels,lr.predict(some_data_prepared)))/np.mean(some_labels)\n",
        "#mean_squared_error(some_labels,some_labels)\n",
        "\n",
        "#이상적인 값을 기준으로 에러가 20%정도 나오는 상태 ==> 얘는 5개의 데이터만 가지고 함."
      ],
      "execution_count": 69,
      "outputs": [
        {
          "output_type": "execute_result",
          "data": {
            "text/plain": [
              "0.20703457337482153"
            ]
          },
          "metadata": {
            "tags": []
          },
          "execution_count": 69
        }
      ]
    },
    {
      "cell_type": "markdown",
      "metadata": {
        "id": "57fd5Ni2IlnF",
        "colab_type": "text"
      },
      "source": [
        "It works, although the predictions are not exactly accurate (e.g., the first prediction is off by close to 40%!). Let’s measure this regression model’s RMSE on the whole training set using Scikit-Learn’s `mean_squared_error()` function:"
      ]
    },
    {
      "cell_type": "code",
      "metadata": {
        "id": "6tLJK73IHcty",
        "colab_type": "code",
        "outputId": "a528b374-93a1-4719-b42c-b0b33db072bc",
        "colab": {
          "base_uri": "https://localhost:8080/",
          "height": 53
        }
      },
      "source": [
        "from sklearn.metrics import mean_squared_error\n",
        "\n",
        "housing_predictions = lr.predict(housing_prepared)\n",
        "lin_mse = mean_squared_error(housing_labels, housing_predictions)\n",
        "lin_rmse = np.sqrt(lin_mse)#루트 씌워서 root mean squared error 구하기\n",
        "print('rmse of lr : ',lin_rmse)\n",
        "print('rmse(%) of lr : ',lin_rmse/np.mean(housing_labels))\n",
        "#모든 데이터를 기준으로 하면 약 33%의 에러."
      ],
      "execution_count": 70,
      "outputs": [
        {
          "output_type": "stream",
          "text": [
            "rmse of lr :  68628.19819848923\n",
            "rmse(%) of lr :  0.33155173163315144\n"
          ],
          "name": "stdout"
        }
      ]
    },
    {
      "cell_type": "code",
      "metadata": {
        "id": "It8ynVygI77n",
        "colab_type": "code",
        "outputId": "c4c0b027-ff4a-42c2-ac67-68d94428bbb5",
        "colab": {
          "base_uri": "https://localhost:8080/",
          "height": 53
        }
      },
      "source": [
        "from sklearn.metrics import mean_absolute_error#rmse와 달리 제곱을 안해줘서 값이 좀 낮아지게 됨.\n",
        "\n",
        "lin_mae = mean_absolute_error(housing_labels, housing_predictions)\n",
        "print('mae of lr : ',lin_mae)\n",
        "print('mae(%) of lr : ',lin_mae/np.mean(housing_labels))"
      ],
      "execution_count": 71,
      "outputs": [
        {
          "output_type": "stream",
          "text": [
            "mae of lr :  49439.89599001897\n",
            "mae(%) of lr :  0.23885055352676499\n"
          ],
          "name": "stdout"
        }
      ]
    },
    {
      "cell_type": "markdown",
      "metadata": {
        "id": "R1ttCEMFJhH7",
        "colab_type": "text"
      },
      "source": [
        "This is better than nothing, but clearly not a great score: most districts’ median_housing_values range between `$120,000` and `$265,000`, so a typical prediction error of `$68,628` is not very satisfying.  \n",
        "($68,628이면 제일 싼 집의 반값이 넘는 가격이라 되게 오차가 많이 난다고 생각할 수 있다.)   \n",
        "\n",
        "This is an example of **a model underfitting** the training data. When this happens it can mean that\n",
        "* **the features do not provide enough information** to make good predictions, or that \n",
        "* the **model is not powerful enough**. \n",
        "\n",
        "\n",
        "As we saw in the previous chapter, the main ways to fix underfitting are\n",
        "* **to select a more powerful model**, \n",
        "* to feed the training algorithm with **better features**, or \n",
        "* to **reduce the constraints on the model**.\n",
        "\n",
        "This model is not regularized, which rules out the last option. You could try to add more features (e.g., the log of the population), but first let’s try a **more complex model** to see how it does."
      ]
    },
    {
      "cell_type": "markdown",
      "metadata": {
        "id": "NWjJuERTKEOQ",
        "colab_type": "text"
      },
      "source": [
        "Let’s train a `DecisionTreeRegressor`. This is a powerful model, **capable of finding complex nonlinear relationships** in the data (Decision Trees are presented in more detail in Chapter 6). The code should look familiar by now:"
      ]
    },
    {
      "cell_type": "code",
      "metadata": {
        "id": "pj0UCHzdJNZ_",
        "colab_type": "code",
        "outputId": "845781e8-3e3d-4430-8790-0b4755c49047",
        "colab": {
          "base_uri": "https://localhost:8080/",
          "height": 125
        }
      },
      "source": [
        "from sklearn.tree import DecisionTreeRegressor\n",
        "\n",
        "tree_reg = DecisionTreeRegressor(random_state=42)\n",
        "tree_reg.fit(housing_prepared, housing_labels)"
      ],
      "execution_count": 72,
      "outputs": [
        {
          "output_type": "execute_result",
          "data": {
            "text/plain": [
              "DecisionTreeRegressor(ccp_alpha=0.0, criterion='mse', max_depth=None,\n",
              "                      max_features=None, max_leaf_nodes=None,\n",
              "                      min_impurity_decrease=0.0, min_impurity_split=None,\n",
              "                      min_samples_leaf=1, min_samples_split=2,\n",
              "                      min_weight_fraction_leaf=0.0, presort='deprecated',\n",
              "                      random_state=42, splitter='best')"
            ]
          },
          "metadata": {
            "tags": []
          },
          "execution_count": 72
        }
      ]
    },
    {
      "cell_type": "code",
      "metadata": {
        "id": "VdtTD6PwKPag",
        "colab_type": "code",
        "outputId": "a5ed8f76-dc2b-4679-b015-1e7193f8b84a",
        "colab": {
          "base_uri": "https://localhost:8080/",
          "height": 35
        }
      },
      "source": [
        "housing_predictions = tree_reg.predict(housing_prepared)#공부한 애를 다시 넣어서 predict\n",
        "tree_mse = mean_squared_error(housing_labels, housing_predictions)\n",
        "tree_rmse = np.sqrt(tree_mse)\n",
        "tree_rmse\n",
        "#값이 0이 되었기 때문에 overfit 된 것. 그러나 모델이 훈련이 되고 있다는 사실을 알 수는 있음."
      ],
      "execution_count": 73,
      "outputs": [
        {
          "output_type": "execute_result",
          "data": {
            "text/plain": [
              "0.0"
            ]
          },
          "metadata": {
            "tags": []
          },
          "execution_count": 73
        }
      ]
    },
    {
      "cell_type": "markdown",
      "metadata": {
        "id": "o7g_wxToKWWQ",
        "colab_type": "text"
      },
      "source": [
        "No error at all? \n",
        "\n",
        "Could this model really be absolutely perfect? \n",
        "\n",
        "Of course, it is much more likely that *the model has badly **overfit** the data*. \n",
        "\n",
        "How can you be sure? \n",
        "\n",
        "As we saw earlier, you don’t want to touch the test set until you are ready to launch a model you are confident about, so you need to use part of the training set for training and part of it for **model validation**."
      ]
    },
    {
      "cell_type": "markdown",
      "metadata": {
        "id": "ETcZuFt9LXkD",
        "colab_type": "text"
      },
      "source": [
        "## Better Evaluation Using Cross-Validation\n",
        "\n",
        "One way to evaluate the Decision Tree model would be to use the train_test_split() function to split the training set into a smaller training set and a validation set, then train your models against the smaller training set and evaluate them against the validation set. It’s a bit of work, but nothing too difficult, and it would work fairly well.\n",
        "\n",
        "A great alternative is to use Scikit-Learn’s ***K-fold cross-validation** feature. The following code \n",
        "* randomly splits the training set into 10 distinct subsets called folds, \n",
        "* then it trains and evaluates the Decision Tree model 10 times, \n",
        "* picking a different fold for evaluation every time and training on the other 9 folds. \n",
        "\n",
        "The result is an array containing the 10 evaluation scores:\n",
        "\n",
        "### WARNING\n",
        "\n",
        "Scikit-Learn’s cross-validation features expect **a utility function (greater is better)** rather than a cost function (lower is better), so **the scoring function** is actually **the opposite of the MSE (i.e., a negative value)**, which is why the preceding code computes `-scores` before calculating the square root."
      ]
    },
    {
      "cell_type": "code",
      "metadata": {
        "id": "o4etw_FRKQT3",
        "colab_type": "code",
        "colab": {}
      },
      "source": [
        "from sklearn.model_selection import cross_val_score\n",
        "\n",
        "scores = cross_val_score(tree_reg, \n",
        "                         housing_prepared, \n",
        "                         housing_labels,\n",
        "                         scoring=\"neg_mean_squared_error\", \n",
        "                         cv=10)\n",
        "tree_rmse_scores = np.sqrt(-scores)\n"
      ],
      "execution_count": 0,
      "outputs": []
    },
    {
      "cell_type": "code",
      "metadata": {
        "id": "pOmqGXG6MCgP",
        "colab_type": "code",
        "outputId": "a716e457-3780-458d-c016-1ffe2c5481a1",
        "colab": {
          "base_uri": "https://localhost:8080/",
          "height": 107
        }
      },
      "source": [
        "def display_scores(scores):\n",
        "    print(\"Scores:\", scores)\n",
        "    print(\"Mean:\", scores.mean())\n",
        "    print(\"Standard deviation:\", scores.std())#작으면 작을수록 항상 재현성이 높다는 뜻이다. 기복이 높으면 좋지 않다. 어쩔땐 맞추고 어쩔땐 못 맞추는 거니까.\n",
        "\n",
        "display_scores(tree_rmse_scores)\n",
        "#결과를 보면 심각하게 오버피트가 되어 있어서 안본 데이터에 대해서는 linear보다 더 못한 성능이 나온다."
      ],
      "execution_count": 75,
      "outputs": [
        {
          "output_type": "stream",
          "text": [
            "Scores: [70194.33680785 66855.16363941 72432.58244769 70758.73896782\n",
            " 71115.88230639 75585.14172901 70262.86139133 70273.6325285\n",
            " 75366.87952553 71231.65726027]\n",
            "Mean: 71407.68766037929\n",
            "Standard deviation: 2439.4345041191004\n"
          ],
          "name": "stdout"
        }
      ]
    },
    {
      "cell_type": "markdown",
      "metadata": {
        "id": "PXDUoo-IN5g3",
        "colab_type": "text"
      },
      "source": [
        "Now the Decision Tree doesn’t look as good as it did earlier. \n",
        "\n",
        "In fact, it seems to perform worse than the `Linear Regression model`! \n",
        "\n",
        "Notice that cross-validation allows you to get not only \n",
        "* an estimate of the performance of your model, but also \n",
        "* a measure of how precise this estimate is (i.e., its standard deviation). \n",
        "\n",
        "The Decision Tree has a score of approximately `71,407`, generally `±2,439`. \n",
        "\n",
        "You would not have this information if you just used one validation set. But cross-validation comes at the cost of training the model several times, so it is not always possible."
      ]
    },
    {
      "cell_type": "code",
      "metadata": {
        "id": "oj_F0ukPMKlA",
        "colab_type": "code",
        "outputId": "33951cb7-4d8f-4b25-cf4e-7fb7dc137b24",
        "colab": {
          "base_uri": "https://localhost:8080/",
          "height": 143
        }
      },
      "source": [
        "from sklearn.model_selection import StratifiedKFold\n",
        "\n",
        "skf = StratifiedKFold(n_splits=10, shuffle=True, random_state=42)\n",
        "scores_st = cross_val_score(tree_reg, \n",
        "                            housing_prepared, \n",
        "                            housing_labels,\n",
        "                            scoring=\"neg_mean_squared_error\", \n",
        "                            cv=skf)\n",
        "tree_rmse_scores_st = np.sqrt(-scores_st)\n",
        "display_scores(tree_rmse_scores_st)"
      ],
      "execution_count": 76,
      "outputs": [
        {
          "output_type": "stream",
          "text": [
            "/usr/local/lib/python3.6/dist-packages/sklearn/model_selection/_split.py:667: UserWarning: The least populated class in y has only 1 members, which is less than n_splits=10.\n",
            "  % (min_groups, self.n_splits)), UserWarning)\n"
          ],
          "name": "stderr"
        },
        {
          "output_type": "stream",
          "text": [
            "Scores: [71025.74235387 70206.93132081 71172.19267113 73555.41760908\n",
            " 69518.11656939 69088.13987326 74581.68605642 69987.34002705\n",
            " 71258.97354298 68473.48661544]\n",
            "Mean: 70886.80266394187\n",
            "Standard deviation: 1822.5469473967255\n"
          ],
          "name": "stdout"
        }
      ]
    },
    {
      "cell_type": "markdown",
      "metadata": {
        "id": "w19B-0uHNTW6",
        "colab_type": "text"
      },
      "source": [
        "### 주의\n",
        "\n",
        "일반적으로 회귀에는 기본 k-겹 교차검증을 사용하고, 분류에는 StratifiedKFold를 사용.\n",
        "\n",
        "또한, cross_val_score 함수에는 KFold의 매개변수를 제어할 수가 없으므로, 따로 KFold 객체를 만들고 매개변수를 조정한 다음에 cross_val_score의 cv 매개변수에 넣어야 한다"
      ]
    },
    {
      "cell_type": "markdown",
      "metadata": {
        "id": "LXcs4vM0ORCY",
        "colab_type": "text"
      },
      "source": [
        "Let’s compute the same scores for the Linear Regression model just to be sure:\n",
        "\n"
      ]
    },
    {
      "cell_type": "code",
      "metadata": {
        "id": "bhyxyQlLM1Cq",
        "colab_type": "code",
        "outputId": "f538787a-0edf-4b97-d1c9-9e0d11105e09",
        "colab": {
          "base_uri": "https://localhost:8080/",
          "height": 107
        }
      },
      "source": [
        "lin_scores = cross_val_score(lr, housing_prepared, housing_labels,\n",
        "                             scoring=\"neg_mean_squared_error\", cv=10)\n",
        "lin_rmse_scores = np.sqrt(-lin_scores)\n",
        "display_scores(lin_rmse_scores)"
      ],
      "execution_count": 77,
      "outputs": [
        {
          "output_type": "stream",
          "text": [
            "Scores: [66782.73843989 66960.118071   70347.95244419 74739.57052552\n",
            " 68031.13388938 71193.84183426 64969.63056405 68281.61137997\n",
            " 71552.91566558 67665.10082067]\n",
            "Mean: 69052.46136345083\n",
            "Standard deviation: 2731.674001798344\n"
          ],
          "name": "stdout"
        }
      ]
    },
    {
      "cell_type": "markdown",
      "metadata": {
        "id": "xkBiXJqXOcu8",
        "colab_type": "text"
      },
      "source": [
        "> The Decision Tree has a score of approximately 71,407, generally ±2,439.\n",
        "\n",
        "That’s right: the `Decision Tree model` is **overfitting so badly** that it performs worse \n",
        "than the Linear Regression model."
      ]
    },
    {
      "cell_type": "markdown",
      "metadata": {
        "id": "1TagdwF0OkrB",
        "colab_type": "text"
      },
      "source": [
        "Let’s try one last model now: the `RandomForestRegressor`. \n",
        "\n",
        "As we will see in Chapter 7, Random Forests work by \n",
        "* training many Decision Trees\n",
        "* **on random subsets of the features**, \n",
        "* then averaging out their predictions. \n",
        "\n",
        "Building a model on top of many other models is called `Ensemble Learning`, and **it is often a great way to push ML algorithms even further**. \n",
        "\n",
        "We will skip most of the code since it is essentially the same as for the other models:"
      ]
    },
    {
      "cell_type": "code",
      "metadata": {
        "id": "XHIpN2mYOTCK",
        "colab_type": "code",
        "outputId": "71f91516-1e73-4364-aca0-25027ae6ea9b",
        "colab": {
          "base_uri": "https://localhost:8080/",
          "height": 35
        }
      },
      "source": [
        "from sklearn.ensemble import RandomForestRegressor\n",
        "\n",
        "forest_reg = RandomForestRegressor(n_estimators=100, random_state=42)\n",
        "forest_reg.fit(housing_prepared, housing_labels)\n",
        "\n",
        "housing_predictions = forest_reg.predict(housing_prepared)\n",
        "forest_mse = mean_squared_error(housing_labels, housing_predictions)\n",
        "forest_rmse = np.sqrt(forest_mse)\n",
        "forest_rmse"
      ],
      "execution_count": 78,
      "outputs": [
        {
          "output_type": "execute_result",
          "data": {
            "text/plain": [
              "18603.515021376355"
            ]
          },
          "metadata": {
            "tags": []
          },
          "execution_count": 78
        }
      ]
    },
    {
      "cell_type": "code",
      "metadata": {
        "id": "1XQEFabmPQcE",
        "colab_type": "code",
        "outputId": "3ebc6f00-1116-42ac-9aa4-b336ad374d7e",
        "colab": {
          "base_uri": "https://localhost:8080/",
          "height": 107
        }
      },
      "source": [
        "#위에 나온 값이 정말인지 k-폴드를 통해 확인\n",
        "from sklearn.model_selection import cross_val_score\n",
        "\n",
        "forest_scores = cross_val_score(forest_reg, housing_prepared, housing_labels,\n",
        "                                scoring=\"neg_mean_squared_error\", cv=10)\n",
        "forest_rmse_scores = np.sqrt(-forest_scores)\n",
        "display_scores(forest_rmse_scores)"
      ],
      "execution_count": 79,
      "outputs": [
        {
          "output_type": "stream",
          "text": [
            "Scores: [49519.80364233 47461.9115823  50029.02762854 52325.28068953\n",
            " 49308.39426421 53446.37892622 48634.8036574  47585.73832311\n",
            " 53490.10699751 50021.5852922 ]\n",
            "Mean: 50182.303100336096\n",
            "Standard deviation: 2097.0810550985693\n"
          ],
          "name": "stdout"
        }
      ]
    },
    {
      "cell_type": "markdown",
      "metadata": {
        "id": "Vspb4AC6PcqR",
        "colab_type": "text"
      },
      "source": [
        "(지나치게 오버피팅이 되지는 않지만, 하이퍼 파라미터 들이 하나둘씩 늘어나게 되고, val 성적이 train 보다 낮다. 그럼 아직도 개선을 해야 할 필요가 있다는걸 명시함.)  \n",
        "This is much better: `Random Forests` look very promising. \n",
        "\n",
        "> The Decision Tree has a score of approximately 71,407, generally ±2,439.\n",
        "> \n",
        "> The Linear Regression has a scores of about 69,052, generally ±2,732\n",
        "\n",
        "\n",
        "However, note that *the score on the training set is still **much lower** than on the validation sets*, meaning that the model is still **overfitting** the training set. \n",
        "\n",
        "Possible solutions for *overfitting* are to \n",
        "* simplify the model, \n",
        "* constrain it (i.e., regularize it), or \n",
        "* get a lot more training data. \n",
        "\n",
        "Before you dive much deeper into `Random Forests`, however, **you should try out many other models** from various categories of Machine Learning algorithms (e.g., several `Support Vector Machines` with different kernels, and possibly a `neural network`), without spending too much time tweaking the hyperparameters. \n",
        "\n",
        "The goal is to **shortlist a few (two to five) promising models**."
      ]
    },
    {
      "cell_type": "code",
      "metadata": {
        "id": "Q2hWKUAURCQZ",
        "colab_type": "code",
        "outputId": "12faf718-a330-4845-d7f1-3a610cf54c9f",
        "colab": {
          "base_uri": "https://localhost:8080/",
          "height": 35
        }
      },
      "source": [
        "from sklearn.svm import SVR\n",
        "\n",
        "svm_reg = SVR(kernel=\"linear\")\n",
        "svm_reg.fit(housing_prepared, housing_labels)\n",
        "housing_predictions = svm_reg.predict(housing_prepared)\n",
        "svm_mse = mean_squared_error(housing_labels, housing_predictions)\n",
        "svm_rmse = np.sqrt(svm_mse)\n",
        "svm_rmse"
      ],
      "execution_count": 80,
      "outputs": [
        {
          "output_type": "execute_result",
          "data": {
            "text/plain": [
              "111094.6308539982"
            ]
          },
          "metadata": {
            "tags": []
          },
          "execution_count": 80
        }
      ]
    },
    {
      "cell_type": "markdown",
      "metadata": {
        "id": "5bumIYILQ4kh",
        "colab_type": "text"
      },
      "source": [
        "### TIP \n",
        "\n",
        "실험한 모델을 모두 저장해두면 필요할 때 쉽게 모델을 복원할 수 있습니다. 교차 검증 점수와 실제 예측값은 물론 하이퍼파라미터와 훈련된 모델 파라미터 모두 저장해야 합니다. 이렇게 하면 여러 모델의 점수와 모델이 만든 오차를 쉽게 비교할 수 있습니다. 파이썬의 `pickle` 패키지나 (넘파이 배열을 저장하는 데 아주 효율적인) `joblib`을 사용하여 사이킷런 모델을 간단하게 저장할 수 있습니다.\n",
        "\n",
        "```python\n",
        "import joblib\n",
        "\n",
        "joblib.dump(my_model, \"my_model.pkl\")\n",
        "# and later...\n",
        "my_model_loaded = joblib.load(\"my_model.pkl\")\n",
        "```"
      ]
    },
    {
      "cell_type": "markdown",
      "metadata": {
        "id": "N4_IqU0ZRWWa",
        "colab_type": "text"
      },
      "source": [
        "# Fine-Tune Your Model\n",
        "\n",
        "Let’s assume that you now have a shortlist of promising models. You now need to fine-tune them. Let’s look at a few ways you can do that."
      ]
    },
    {
      "cell_type": "markdown",
      "metadata": {
        "id": "Pwj_0i0gRwLo",
        "colab_type": "text"
      },
      "source": [
        "## **Grid Search**\n",
        "\n",
        "One option would be to fiddle with the hyperparameters manually (손으로 조작하기...--;;), until you find a great combination of hyperparameter values. \n",
        "\n",
        "This would be very tedious work, and you may not have time to explore many combinations.\n",
        "\n",
        "Instead, you should get Scikit-Learn’s `GridSearchCV` to search for you. \n",
        "\n",
        "**All you need to do** is tell it \n",
        "* **which hyperparameters** you want it to experiment with and \n",
        "* **what values** to try out, and \n",
        "\n",
        "it will use cross-validation to evaluate all the possible combinations of hyperparameter values. \n",
        "\n",
        "For example, the following code searches for the best combination of hyperparameter values for the `RandomForestRegressor`:"
      ]
    },
    {
      "cell_type": "markdown",
      "metadata": {
        "id": "L4HPfI9ITMJc",
        "colab_type": "text"
      },
      "source": [
        "This `param_grid` tells Scikit-Learn to first \n",
        "* evaluate all 3 × 4 = 12 combinations of `n_estimators` and `max_features` hyperparameter values specified in the first `dict` (don’t worry about what these hyperparameters mean for now; they will be explained in Chapter 7), \n",
        "* then try all 2 × 3 = 6 combinations of hyperparameter values in the second `dict`, \n",
        "* but this time with the `bootstrap` hyperparameter set to False instead of True (which is the default value for this hyperparameter)."
      ]
    },
    {
      "cell_type": "code",
      "metadata": {
        "id": "0N8-cs0TPWHr",
        "colab_type": "code",
        "outputId": "6d6798e0-042e-4460-9d40-1c70e21fc5a1",
        "colab": {
          "base_uri": "https://localhost:8080/",
          "height": 395
        }
      },
      "source": [
        "from sklearn.model_selection import GridSearchCV\n",
        "\n",
        "param_grid = [\n",
        "    # try 12 (3×4) combinations of hyperparameters\n",
        "    {'n_estimators': [3, 10, 30], 'max_features': [2, 4, 6, 8]},#3*4 해서 12번 테스트 함\n",
        "    # then try 6 (2×3) combinations with bootstrap set as False\n",
        "    {'bootstrap': [False], 'n_estimators': [3, 10], 'max_features': [2, 3, 4]},\n",
        "  ]\n",
        "\n",
        "forest_reg = RandomForestRegressor(random_state=42)\n",
        "\n",
        "# train across 5 folds, that's a total of (12+6)*5=90 rounds of training \n",
        "grid_search = GridSearchCV(forest_reg, param_grid, cv=5,#5번의 cv. 한번의 조합에서 값이 5개 나온다. 4/5로 학습한게 5개 나오는거. 모든 데이터를 이 파라미터로 다시 학습 시킨 다음에 테스트 데이터 셋으로 학습시켜야 한다.\n",
        "                           scoring='neg_mean_squared_error',\n",
        "                           return_train_score=True)\n",
        "grid_search.fit(housing_prepared, housing_labels)"
      ],
      "execution_count": 81,
      "outputs": [
        {
          "output_type": "execute_result",
          "data": {
            "text/plain": [
              "GridSearchCV(cv=5, error_score=nan,\n",
              "             estimator=RandomForestRegressor(bootstrap=True, ccp_alpha=0.0,\n",
              "                                             criterion='mse', max_depth=None,\n",
              "                                             max_features='auto',\n",
              "                                             max_leaf_nodes=None,\n",
              "                                             max_samples=None,\n",
              "                                             min_impurity_decrease=0.0,\n",
              "                                             min_impurity_split=None,\n",
              "                                             min_samples_leaf=1,\n",
              "                                             min_samples_split=2,\n",
              "                                             min_weight_fraction_leaf=0.0,\n",
              "                                             n_estimators=100, n_jobs=None,\n",
              "                                             oob_score=False, random_state=42,\n",
              "                                             verbose=0, warm_start=False),\n",
              "             iid='deprecated', n_jobs=None,\n",
              "             param_grid=[{'max_features': [2, 4, 6, 8],\n",
              "                          'n_estimators': [3, 10, 30]},\n",
              "                         {'bootstrap': [False], 'max_features': [2, 3, 4],\n",
              "                          'n_estimators': [3, 10]}],\n",
              "             pre_dispatch='2*n_jobs', refit=True, return_train_score=True,\n",
              "             scoring='neg_mean_squared_error', verbose=0)"
            ]
          },
          "metadata": {
            "tags": []
          },
          "execution_count": 81
        }
      ]
    },
    {
      "cell_type": "markdown",
      "metadata": {
        "id": "q4dmdm4vS9c5",
        "colab_type": "text"
      },
      "source": [
        "### TIP\n",
        "\n",
        "When you have no idea what value a hyperparameter should have, a simple approach is to try out consecutive powers of 10 (or a smaller number if you want a more fine-grained search, as shown in this example with the `n_estimators` hyperparameter)."
      ]
    },
    {
      "cell_type": "markdown",
      "metadata": {
        "id": "M5ognExuThHi",
        "colab_type": "text"
      },
      "source": [
        "The grid search will explore 12 + 6 = 18 combinations of `RandomForestRegressor` hyperparameter values, and it will train each model 5 times (since we are using five-fold cross validation). In other words, all in all, there will be 18 × 5 = 90 rounds of training! \n",
        "\n",
        "It may take quite a long time, but when it is done you can get the best combination of parameters like this:"
      ]
    },
    {
      "cell_type": "code",
      "metadata": {
        "id": "tHYWPPKVQq4Q",
        "colab_type": "code",
        "outputId": "3d3199c2-c56b-410e-c7c3-807897a51bd1",
        "colab": {
          "base_uri": "https://localhost:8080/",
          "height": 35
        }
      },
      "source": [
        "grid_search.best_params_"
      ],
      "execution_count": 82,
      "outputs": [
        {
          "output_type": "execute_result",
          "data": {
            "text/plain": [
              "{'max_features': 8, 'n_estimators': 30}"
            ]
          },
          "metadata": {
            "tags": []
          },
          "execution_count": 82
        }
      ]
    },
    {
      "cell_type": "markdown",
      "metadata": {
        "id": "5P8c_MANTtgV",
        "colab_type": "text"
      },
      "source": [
        "### TIP\n",
        "\n",
        "Since 8 and 30 are the **maximum values** that were evaluated, you should probably try searching again with higher values; the score may continue to improve. "
      ]
    },
    {
      "cell_type": "markdown",
      "metadata": {
        "id": "A4gcaVPCTzfU",
        "colab_type": "text"
      },
      "source": [
        "You can also get the best estimator directly:\n",
        "\n"
      ]
    },
    {
      "cell_type": "code",
      "metadata": {
        "id": "j-O58SSITp-0",
        "colab_type": "code",
        "outputId": "55005784-24d0-425d-d336-ca7ac9c9d99e",
        "colab": {
          "base_uri": "https://localhost:8080/",
          "height": 143
        }
      },
      "source": [
        "grid_search.best_estimator_"
      ],
      "execution_count": 83,
      "outputs": [
        {
          "output_type": "execute_result",
          "data": {
            "text/plain": [
              "RandomForestRegressor(bootstrap=True, ccp_alpha=0.0, criterion='mse',\n",
              "                      max_depth=None, max_features=8, max_leaf_nodes=None,\n",
              "                      max_samples=None, min_impurity_decrease=0.0,\n",
              "                      min_impurity_split=None, min_samples_leaf=1,\n",
              "                      min_samples_split=2, min_weight_fraction_leaf=0.0,\n",
              "                      n_estimators=30, n_jobs=None, oob_score=False,\n",
              "                      random_state=42, verbose=0, warm_start=False)"
            ]
          },
          "metadata": {
            "tags": []
          },
          "execution_count": 83
        }
      ]
    },
    {
      "cell_type": "markdown",
      "metadata": {
        "id": "1rVAKvCmUAzP",
        "colab_type": "text"
      },
      "source": [
        "### NOTE\n",
        "\n",
        "If `GridSearchCV` is initialized with `refit=True` (which is the default), then once it finds the best estimator using cross-validation, it retrains it on the whole training set. This is usually a good idea, since feeding it more data will likely improve its performance."
      ]
    },
    {
      "cell_type": "markdown",
      "metadata": {
        "id": "08he1AneUG4i",
        "colab_type": "text"
      },
      "source": [
        "Let's look at the score of each hyperparameter combination tested during the grid search:\n",
        "\n",
        "\n",
        "\n"
      ]
    },
    {
      "cell_type": "code",
      "metadata": {
        "id": "nBES0q-mT3ec",
        "colab_type": "code",
        "outputId": "ac156e42-c1de-4350-d724-3214ab5ba509",
        "colab": {
          "base_uri": "https://localhost:8080/",
          "height": 379
        }
      },
      "source": [
        "cvres = grid_search.cv_results_\n",
        "print(list(cvres))\n",
        "for mean_score, params in zip(cvres[\"mean_test_score\"], cvres[\"params\"]):\n",
        "    print(np.sqrt(-mean_score), params)"
      ],
      "execution_count": 85,
      "outputs": [
        {
          "output_type": "stream",
          "text": [
            "['mean_fit_time', 'std_fit_time', 'mean_score_time', 'std_score_time', 'param_max_features', 'param_n_estimators', 'param_bootstrap', 'params', 'split0_test_score', 'split1_test_score', 'split2_test_score', 'split3_test_score', 'split4_test_score', 'mean_test_score', 'std_test_score', 'rank_test_score', 'split0_train_score', 'split1_train_score', 'split2_train_score', 'split3_train_score', 'split4_train_score', 'mean_train_score', 'std_train_score']\n",
            "63669.11631261028 {'max_features': 2, 'n_estimators': 3}\n",
            "55627.099719926795 {'max_features': 2, 'n_estimators': 10}\n",
            "53384.57275149205 {'max_features': 2, 'n_estimators': 30}\n",
            "60965.950449450494 {'max_features': 4, 'n_estimators': 3}\n",
            "52741.04704299915 {'max_features': 4, 'n_estimators': 10}\n",
            "50377.40461678399 {'max_features': 4, 'n_estimators': 30}\n",
            "58663.93866579625 {'max_features': 6, 'n_estimators': 3}\n",
            "52006.19873526564 {'max_features': 6, 'n_estimators': 10}\n",
            "50146.51167415009 {'max_features': 6, 'n_estimators': 30}\n",
            "57869.25276169646 {'max_features': 8, 'n_estimators': 3}\n",
            "51711.127883959234 {'max_features': 8, 'n_estimators': 10}\n",
            "49682.273345071546 {'max_features': 8, 'n_estimators': 30}\n",
            "62895.06951262424 {'bootstrap': False, 'max_features': 2, 'n_estimators': 3}\n",
            "54658.176157539405 {'bootstrap': False, 'max_features': 2, 'n_estimators': 10}\n",
            "59470.40652318466 {'bootstrap': False, 'max_features': 3, 'n_estimators': 3}\n",
            "52724.9822587892 {'bootstrap': False, 'max_features': 3, 'n_estimators': 10}\n",
            "57490.5691951261 {'bootstrap': False, 'max_features': 4, 'n_estimators': 3}\n",
            "51009.495668875716 {'bootstrap': False, 'max_features': 4, 'n_estimators': 10}\n"
          ],
          "name": "stdout"
        }
      ]
    },
    {
      "cell_type": "code",
      "metadata": {
        "id": "aI2FyWQGXN_V",
        "colab_type": "code",
        "outputId": "0ba43865-4762-471e-bddc-287ffcb16deb",
        "colab": {
          "base_uri": "https://localhost:8080/",
          "height": 1000
        }
      },
      "source": [
        "pd.DataFrame(grid_search.cv_results_)"
      ],
      "execution_count": 86,
      "outputs": [
        {
          "output_type": "execute_result",
          "data": {
            "text/html": [
              "<div>\n",
              "<style scoped>\n",
              "    .dataframe tbody tr th:only-of-type {\n",
              "        vertical-align: middle;\n",
              "    }\n",
              "\n",
              "    .dataframe tbody tr th {\n",
              "        vertical-align: top;\n",
              "    }\n",
              "\n",
              "    .dataframe thead th {\n",
              "        text-align: right;\n",
              "    }\n",
              "</style>\n",
              "<table border=\"1\" class=\"dataframe\">\n",
              "  <thead>\n",
              "    <tr style=\"text-align: right;\">\n",
              "      <th></th>\n",
              "      <th>mean_fit_time</th>\n",
              "      <th>std_fit_time</th>\n",
              "      <th>mean_score_time</th>\n",
              "      <th>std_score_time</th>\n",
              "      <th>param_max_features</th>\n",
              "      <th>param_n_estimators</th>\n",
              "      <th>param_bootstrap</th>\n",
              "      <th>params</th>\n",
              "      <th>split0_test_score</th>\n",
              "      <th>split1_test_score</th>\n",
              "      <th>split2_test_score</th>\n",
              "      <th>split3_test_score</th>\n",
              "      <th>split4_test_score</th>\n",
              "      <th>mean_test_score</th>\n",
              "      <th>std_test_score</th>\n",
              "      <th>rank_test_score</th>\n",
              "      <th>split0_train_score</th>\n",
              "      <th>split1_train_score</th>\n",
              "      <th>split2_train_score</th>\n",
              "      <th>split3_train_score</th>\n",
              "      <th>split4_train_score</th>\n",
              "      <th>mean_train_score</th>\n",
              "      <th>std_train_score</th>\n",
              "    </tr>\n",
              "  </thead>\n",
              "  <tbody>\n",
              "    <tr>\n",
              "      <th>0</th>\n",
              "      <td>0.074701</td>\n",
              "      <td>0.003107</td>\n",
              "      <td>0.004202</td>\n",
              "      <td>0.000119</td>\n",
              "      <td>2</td>\n",
              "      <td>3</td>\n",
              "      <td>NaN</td>\n",
              "      <td>{'max_features': 2, 'n_estimators': 3}</td>\n",
              "      <td>-3.837622e+09</td>\n",
              "      <td>-4.147108e+09</td>\n",
              "      <td>-4.196408e+09</td>\n",
              "      <td>-3.903319e+09</td>\n",
              "      <td>-4.184325e+09</td>\n",
              "      <td>-4.053756e+09</td>\n",
              "      <td>1.519591e+08</td>\n",
              "      <td>18</td>\n",
              "      <td>-1.064113e+09</td>\n",
              "      <td>-1.105142e+09</td>\n",
              "      <td>-1.116550e+09</td>\n",
              "      <td>-1.112342e+09</td>\n",
              "      <td>-1.129650e+09</td>\n",
              "      <td>-1.105559e+09</td>\n",
              "      <td>2.220402e+07</td>\n",
              "    </tr>\n",
              "    <tr>\n",
              "      <th>1</th>\n",
              "      <td>0.241654</td>\n",
              "      <td>0.006292</td>\n",
              "      <td>0.011318</td>\n",
              "      <td>0.000116</td>\n",
              "      <td>2</td>\n",
              "      <td>10</td>\n",
              "      <td>NaN</td>\n",
              "      <td>{'max_features': 2, 'n_estimators': 10}</td>\n",
              "      <td>-3.047771e+09</td>\n",
              "      <td>-3.254861e+09</td>\n",
              "      <td>-3.130196e+09</td>\n",
              "      <td>-2.865188e+09</td>\n",
              "      <td>-3.173856e+09</td>\n",
              "      <td>-3.094374e+09</td>\n",
              "      <td>1.327062e+08</td>\n",
              "      <td>11</td>\n",
              "      <td>-5.927175e+08</td>\n",
              "      <td>-5.870952e+08</td>\n",
              "      <td>-5.776964e+08</td>\n",
              "      <td>-5.716332e+08</td>\n",
              "      <td>-5.802501e+08</td>\n",
              "      <td>-5.818785e+08</td>\n",
              "      <td>7.345821e+06</td>\n",
              "    </tr>\n",
              "    <tr>\n",
              "      <th>2</th>\n",
              "      <td>0.715203</td>\n",
              "      <td>0.003060</td>\n",
              "      <td>0.032718</td>\n",
              "      <td>0.001331</td>\n",
              "      <td>2</td>\n",
              "      <td>30</td>\n",
              "      <td>NaN</td>\n",
              "      <td>{'max_features': 2, 'n_estimators': 30}</td>\n",
              "      <td>-2.689185e+09</td>\n",
              "      <td>-3.021086e+09</td>\n",
              "      <td>-2.948330e+09</td>\n",
              "      <td>-2.619995e+09</td>\n",
              "      <td>-2.970968e+09</td>\n",
              "      <td>-2.849913e+09</td>\n",
              "      <td>1.626875e+08</td>\n",
              "      <td>9</td>\n",
              "      <td>-4.381089e+08</td>\n",
              "      <td>-4.391272e+08</td>\n",
              "      <td>-4.371702e+08</td>\n",
              "      <td>-4.376955e+08</td>\n",
              "      <td>-4.452654e+08</td>\n",
              "      <td>-4.394734e+08</td>\n",
              "      <td>2.966320e+06</td>\n",
              "    </tr>\n",
              "    <tr>\n",
              "      <th>3</th>\n",
              "      <td>0.121626</td>\n",
              "      <td>0.001867</td>\n",
              "      <td>0.004195</td>\n",
              "      <td>0.000059</td>\n",
              "      <td>4</td>\n",
              "      <td>3</td>\n",
              "      <td>NaN</td>\n",
              "      <td>{'max_features': 4, 'n_estimators': 3}</td>\n",
              "      <td>-3.730181e+09</td>\n",
              "      <td>-3.786886e+09</td>\n",
              "      <td>-3.734515e+09</td>\n",
              "      <td>-3.418747e+09</td>\n",
              "      <td>-3.913907e+09</td>\n",
              "      <td>-3.716847e+09</td>\n",
              "      <td>1.631510e+08</td>\n",
              "      <td>16</td>\n",
              "      <td>-9.865163e+08</td>\n",
              "      <td>-1.012565e+09</td>\n",
              "      <td>-9.169425e+08</td>\n",
              "      <td>-1.037400e+09</td>\n",
              "      <td>-9.707739e+08</td>\n",
              "      <td>-9.848396e+08</td>\n",
              "      <td>4.084607e+07</td>\n",
              "    </tr>\n",
              "    <tr>\n",
              "      <th>4</th>\n",
              "      <td>0.394748</td>\n",
              "      <td>0.002717</td>\n",
              "      <td>0.011465</td>\n",
              "      <td>0.000253</td>\n",
              "      <td>4</td>\n",
              "      <td>10</td>\n",
              "      <td>NaN</td>\n",
              "      <td>{'max_features': 4, 'n_estimators': 10}</td>\n",
              "      <td>-2.666283e+09</td>\n",
              "      <td>-2.784511e+09</td>\n",
              "      <td>-2.892276e+09</td>\n",
              "      <td>-2.616813e+09</td>\n",
              "      <td>-2.948207e+09</td>\n",
              "      <td>-2.781618e+09</td>\n",
              "      <td>1.268607e+08</td>\n",
              "      <td>8</td>\n",
              "      <td>-5.097115e+08</td>\n",
              "      <td>-5.162820e+08</td>\n",
              "      <td>-4.962893e+08</td>\n",
              "      <td>-5.436192e+08</td>\n",
              "      <td>-5.160297e+08</td>\n",
              "      <td>-5.163863e+08</td>\n",
              "      <td>1.542862e+07</td>\n",
              "    </tr>\n",
              "    <tr>\n",
              "      <th>5</th>\n",
              "      <td>1.174122</td>\n",
              "      <td>0.002860</td>\n",
              "      <td>0.032269</td>\n",
              "      <td>0.000172</td>\n",
              "      <td>4</td>\n",
              "      <td>30</td>\n",
              "      <td>NaN</td>\n",
              "      <td>{'max_features': 4, 'n_estimators': 30}</td>\n",
              "      <td>-2.387153e+09</td>\n",
              "      <td>-2.588448e+09</td>\n",
              "      <td>-2.666426e+09</td>\n",
              "      <td>-2.398071e+09</td>\n",
              "      <td>-2.649316e+09</td>\n",
              "      <td>-2.537883e+09</td>\n",
              "      <td>1.214614e+08</td>\n",
              "      <td>3</td>\n",
              "      <td>-3.838835e+08</td>\n",
              "      <td>-3.880268e+08</td>\n",
              "      <td>-3.790867e+08</td>\n",
              "      <td>-4.040957e+08</td>\n",
              "      <td>-3.845520e+08</td>\n",
              "      <td>-3.879289e+08</td>\n",
              "      <td>8.571233e+06</td>\n",
              "    </tr>\n",
              "    <tr>\n",
              "      <th>6</th>\n",
              "      <td>0.164855</td>\n",
              "      <td>0.002431</td>\n",
              "      <td>0.004535</td>\n",
              "      <td>0.000528</td>\n",
              "      <td>6</td>\n",
              "      <td>3</td>\n",
              "      <td>NaN</td>\n",
              "      <td>{'max_features': 6, 'n_estimators': 3}</td>\n",
              "      <td>-3.119657e+09</td>\n",
              "      <td>-3.586319e+09</td>\n",
              "      <td>-3.592772e+09</td>\n",
              "      <td>-3.328934e+09</td>\n",
              "      <td>-3.579607e+09</td>\n",
              "      <td>-3.441458e+09</td>\n",
              "      <td>1.893056e+08</td>\n",
              "      <td>14</td>\n",
              "      <td>-9.245343e+08</td>\n",
              "      <td>-8.886939e+08</td>\n",
              "      <td>-9.353135e+08</td>\n",
              "      <td>-9.009801e+08</td>\n",
              "      <td>-8.624664e+08</td>\n",
              "      <td>-9.023976e+08</td>\n",
              "      <td>2.591445e+07</td>\n",
              "    </tr>\n",
              "    <tr>\n",
              "      <th>7</th>\n",
              "      <td>0.543870</td>\n",
              "      <td>0.004267</td>\n",
              "      <td>0.011577</td>\n",
              "      <td>0.000296</td>\n",
              "      <td>6</td>\n",
              "      <td>10</td>\n",
              "      <td>NaN</td>\n",
              "      <td>{'max_features': 6, 'n_estimators': 10}</td>\n",
              "      <td>-2.549663e+09</td>\n",
              "      <td>-2.782039e+09</td>\n",
              "      <td>-2.762720e+09</td>\n",
              "      <td>-2.521134e+09</td>\n",
              "      <td>-2.907667e+09</td>\n",
              "      <td>-2.704645e+09</td>\n",
              "      <td>1.471569e+08</td>\n",
              "      <td>6</td>\n",
              "      <td>-4.980344e+08</td>\n",
              "      <td>-5.045869e+08</td>\n",
              "      <td>-4.994664e+08</td>\n",
              "      <td>-4.990325e+08</td>\n",
              "      <td>-5.055542e+08</td>\n",
              "      <td>-5.013349e+08</td>\n",
              "      <td>3.100456e+06</td>\n",
              "    </tr>\n",
              "    <tr>\n",
              "      <th>8</th>\n",
              "      <td>1.642121</td>\n",
              "      <td>0.007336</td>\n",
              "      <td>0.032332</td>\n",
              "      <td>0.000170</td>\n",
              "      <td>6</td>\n",
              "      <td>30</td>\n",
              "      <td>NaN</td>\n",
              "      <td>{'max_features': 6, 'n_estimators': 30}</td>\n",
              "      <td>-2.370010e+09</td>\n",
              "      <td>-2.583638e+09</td>\n",
              "      <td>-2.607703e+09</td>\n",
              "      <td>-2.350953e+09</td>\n",
              "      <td>-2.661059e+09</td>\n",
              "      <td>-2.514673e+09</td>\n",
              "      <td>1.285080e+08</td>\n",
              "      <td>2</td>\n",
              "      <td>-3.838538e+08</td>\n",
              "      <td>-3.804711e+08</td>\n",
              "      <td>-3.805218e+08</td>\n",
              "      <td>-3.856095e+08</td>\n",
              "      <td>-3.901917e+08</td>\n",
              "      <td>-3.841296e+08</td>\n",
              "      <td>3.617057e+06</td>\n",
              "    </tr>\n",
              "    <tr>\n",
              "      <th>9</th>\n",
              "      <td>0.207414</td>\n",
              "      <td>0.001830</td>\n",
              "      <td>0.004282</td>\n",
              "      <td>0.000076</td>\n",
              "      <td>8</td>\n",
              "      <td>3</td>\n",
              "      <td>NaN</td>\n",
              "      <td>{'max_features': 8, 'n_estimators': 3}</td>\n",
              "      <td>-3.353504e+09</td>\n",
              "      <td>-3.348552e+09</td>\n",
              "      <td>-3.402843e+09</td>\n",
              "      <td>-3.129307e+09</td>\n",
              "      <td>-3.510047e+09</td>\n",
              "      <td>-3.348850e+09</td>\n",
              "      <td>1.241939e+08</td>\n",
              "      <td>13</td>\n",
              "      <td>-9.228123e+08</td>\n",
              "      <td>-8.553031e+08</td>\n",
              "      <td>-8.603321e+08</td>\n",
              "      <td>-8.881964e+08</td>\n",
              "      <td>-9.151287e+08</td>\n",
              "      <td>-8.883545e+08</td>\n",
              "      <td>2.750227e+07</td>\n",
              "    </tr>\n",
              "    <tr>\n",
              "      <th>10</th>\n",
              "      <td>0.698783</td>\n",
              "      <td>0.008964</td>\n",
              "      <td>0.011632</td>\n",
              "      <td>0.000327</td>\n",
              "      <td>8</td>\n",
              "      <td>10</td>\n",
              "      <td>NaN</td>\n",
              "      <td>{'max_features': 8, 'n_estimators': 10}</td>\n",
              "      <td>-2.571970e+09</td>\n",
              "      <td>-2.718994e+09</td>\n",
              "      <td>-2.842317e+09</td>\n",
              "      <td>-2.460258e+09</td>\n",
              "      <td>-2.776666e+09</td>\n",
              "      <td>-2.674041e+09</td>\n",
              "      <td>1.392777e+08</td>\n",
              "      <td>5</td>\n",
              "      <td>-4.932416e+08</td>\n",
              "      <td>-4.815238e+08</td>\n",
              "      <td>-4.730979e+08</td>\n",
              "      <td>-5.155367e+08</td>\n",
              "      <td>-4.985555e+08</td>\n",
              "      <td>-4.923911e+08</td>\n",
              "      <td>1.459294e+07</td>\n",
              "    </tr>\n",
              "    <tr>\n",
              "      <th>11</th>\n",
              "      <td>2.117724</td>\n",
              "      <td>0.006678</td>\n",
              "      <td>0.032788</td>\n",
              "      <td>0.000675</td>\n",
              "      <td>8</td>\n",
              "      <td>30</td>\n",
              "      <td>NaN</td>\n",
              "      <td>{'max_features': 8, 'n_estimators': 30}</td>\n",
              "      <td>-2.357390e+09</td>\n",
              "      <td>-2.546640e+09</td>\n",
              "      <td>-2.591972e+09</td>\n",
              "      <td>-2.318617e+09</td>\n",
              "      <td>-2.527022e+09</td>\n",
              "      <td>-2.468328e+09</td>\n",
              "      <td>1.091662e+08</td>\n",
              "      <td>1</td>\n",
              "      <td>-3.841658e+08</td>\n",
              "      <td>-3.744500e+08</td>\n",
              "      <td>-3.773239e+08</td>\n",
              "      <td>-3.882250e+08</td>\n",
              "      <td>-3.810005e+08</td>\n",
              "      <td>-3.810330e+08</td>\n",
              "      <td>4.871017e+06</td>\n",
              "    </tr>\n",
              "    <tr>\n",
              "      <th>12</th>\n",
              "      <td>0.114876</td>\n",
              "      <td>0.001870</td>\n",
              "      <td>0.005087</td>\n",
              "      <td>0.000072</td>\n",
              "      <td>2</td>\n",
              "      <td>3</td>\n",
              "      <td>False</td>\n",
              "      <td>{'bootstrap': False, 'max_features': 2, 'n_est...</td>\n",
              "      <td>-3.785816e+09</td>\n",
              "      <td>-4.166012e+09</td>\n",
              "      <td>-4.061751e+09</td>\n",
              "      <td>-3.675704e+09</td>\n",
              "      <td>-4.089667e+09</td>\n",
              "      <td>-3.955790e+09</td>\n",
              "      <td>1.900964e+08</td>\n",
              "      <td>17</td>\n",
              "      <td>-0.000000e+00</td>\n",
              "      <td>-0.000000e+00</td>\n",
              "      <td>-0.000000e+00</td>\n",
              "      <td>-0.000000e+00</td>\n",
              "      <td>-0.000000e+00</td>\n",
              "      <td>0.000000e+00</td>\n",
              "      <td>0.000000e+00</td>\n",
              "    </tr>\n",
              "    <tr>\n",
              "      <th>13</th>\n",
              "      <td>0.378453</td>\n",
              "      <td>0.003737</td>\n",
              "      <td>0.014434</td>\n",
              "      <td>0.001139</td>\n",
              "      <td>2</td>\n",
              "      <td>10</td>\n",
              "      <td>False</td>\n",
              "      <td>{'bootstrap': False, 'max_features': 2, 'n_est...</td>\n",
              "      <td>-2.810721e+09</td>\n",
              "      <td>-3.107789e+09</td>\n",
              "      <td>-3.131187e+09</td>\n",
              "      <td>-2.788537e+09</td>\n",
              "      <td>-3.099347e+09</td>\n",
              "      <td>-2.987516e+09</td>\n",
              "      <td>1.539234e+08</td>\n",
              "      <td>10</td>\n",
              "      <td>-6.056477e-02</td>\n",
              "      <td>-0.000000e+00</td>\n",
              "      <td>-0.000000e+00</td>\n",
              "      <td>-0.000000e+00</td>\n",
              "      <td>-2.967449e+00</td>\n",
              "      <td>-6.056027e-01</td>\n",
              "      <td>1.181156e+00</td>\n",
              "    </tr>\n",
              "    <tr>\n",
              "      <th>14</th>\n",
              "      <td>0.155380</td>\n",
              "      <td>0.007515</td>\n",
              "      <td>0.004968</td>\n",
              "      <td>0.000151</td>\n",
              "      <td>3</td>\n",
              "      <td>3</td>\n",
              "      <td>False</td>\n",
              "      <td>{'bootstrap': False, 'max_features': 3, 'n_est...</td>\n",
              "      <td>-3.618324e+09</td>\n",
              "      <td>-3.441527e+09</td>\n",
              "      <td>-3.554815e+09</td>\n",
              "      <td>-3.619116e+09</td>\n",
              "      <td>-3.449864e+09</td>\n",
              "      <td>-3.536729e+09</td>\n",
              "      <td>7.795057e+07</td>\n",
              "      <td>15</td>\n",
              "      <td>-0.000000e+00</td>\n",
              "      <td>-0.000000e+00</td>\n",
              "      <td>-0.000000e+00</td>\n",
              "      <td>-0.000000e+00</td>\n",
              "      <td>-6.072840e+01</td>\n",
              "      <td>-1.214568e+01</td>\n",
              "      <td>2.429136e+01</td>\n",
              "    </tr>\n",
              "    <tr>\n",
              "      <th>15</th>\n",
              "      <td>0.501092</td>\n",
              "      <td>0.006436</td>\n",
              "      <td>0.013769</td>\n",
              "      <td>0.000130</td>\n",
              "      <td>3</td>\n",
              "      <td>10</td>\n",
              "      <td>False</td>\n",
              "      <td>{'bootstrap': False, 'max_features': 3, 'n_est...</td>\n",
              "      <td>-2.757999e+09</td>\n",
              "      <td>-2.851737e+09</td>\n",
              "      <td>-2.830927e+09</td>\n",
              "      <td>-2.672765e+09</td>\n",
              "      <td>-2.786190e+09</td>\n",
              "      <td>-2.779924e+09</td>\n",
              "      <td>6.286720e+07</td>\n",
              "      <td>7</td>\n",
              "      <td>-2.089484e+01</td>\n",
              "      <td>-0.000000e+00</td>\n",
              "      <td>-0.000000e+00</td>\n",
              "      <td>-0.000000e+00</td>\n",
              "      <td>-5.465556e+00</td>\n",
              "      <td>-5.272080e+00</td>\n",
              "      <td>8.093117e+00</td>\n",
              "    </tr>\n",
              "    <tr>\n",
              "      <th>16</th>\n",
              "      <td>0.189910</td>\n",
              "      <td>0.003821</td>\n",
              "      <td>0.004844</td>\n",
              "      <td>0.000078</td>\n",
              "      <td>4</td>\n",
              "      <td>3</td>\n",
              "      <td>False</td>\n",
              "      <td>{'bootstrap': False, 'max_features': 4, 'n_est...</td>\n",
              "      <td>-3.134040e+09</td>\n",
              "      <td>-3.559375e+09</td>\n",
              "      <td>-3.440422e+09</td>\n",
              "      <td>-3.053647e+09</td>\n",
              "      <td>-3.338344e+09</td>\n",
              "      <td>-3.305166e+09</td>\n",
              "      <td>1.879165e+08</td>\n",
              "      <td>12</td>\n",
              "      <td>-0.000000e+00</td>\n",
              "      <td>-0.000000e+00</td>\n",
              "      <td>-0.000000e+00</td>\n",
              "      <td>-0.000000e+00</td>\n",
              "      <td>-0.000000e+00</td>\n",
              "      <td>0.000000e+00</td>\n",
              "      <td>0.000000e+00</td>\n",
              "    </tr>\n",
              "    <tr>\n",
              "      <th>17</th>\n",
              "      <td>0.628661</td>\n",
              "      <td>0.002369</td>\n",
              "      <td>0.013694</td>\n",
              "      <td>0.000100</td>\n",
              "      <td>4</td>\n",
              "      <td>10</td>\n",
              "      <td>False</td>\n",
              "      <td>{'bootstrap': False, 'max_features': 4, 'n_est...</td>\n",
              "      <td>-2.525578e+09</td>\n",
              "      <td>-2.710011e+09</td>\n",
              "      <td>-2.609100e+09</td>\n",
              "      <td>-2.439607e+09</td>\n",
              "      <td>-2.725548e+09</td>\n",
              "      <td>-2.601969e+09</td>\n",
              "      <td>1.088048e+08</td>\n",
              "      <td>4</td>\n",
              "      <td>-0.000000e+00</td>\n",
              "      <td>-1.514119e-02</td>\n",
              "      <td>-0.000000e+00</td>\n",
              "      <td>-0.000000e+00</td>\n",
              "      <td>-0.000000e+00</td>\n",
              "      <td>-3.028238e-03</td>\n",
              "      <td>6.056477e-03</td>\n",
              "    </tr>\n",
              "  </tbody>\n",
              "</table>\n",
              "</div>"
            ],
            "text/plain": [
              "    mean_fit_time  std_fit_time  ...  mean_train_score  std_train_score\n",
              "0        0.074701      0.003107  ...     -1.105559e+09     2.220402e+07\n",
              "1        0.241654      0.006292  ...     -5.818785e+08     7.345821e+06\n",
              "2        0.715203      0.003060  ...     -4.394734e+08     2.966320e+06\n",
              "3        0.121626      0.001867  ...     -9.848396e+08     4.084607e+07\n",
              "4        0.394748      0.002717  ...     -5.163863e+08     1.542862e+07\n",
              "5        1.174122      0.002860  ...     -3.879289e+08     8.571233e+06\n",
              "6        0.164855      0.002431  ...     -9.023976e+08     2.591445e+07\n",
              "7        0.543870      0.004267  ...     -5.013349e+08     3.100456e+06\n",
              "8        1.642121      0.007336  ...     -3.841296e+08     3.617057e+06\n",
              "9        0.207414      0.001830  ...     -8.883545e+08     2.750227e+07\n",
              "10       0.698783      0.008964  ...     -4.923911e+08     1.459294e+07\n",
              "11       2.117724      0.006678  ...     -3.810330e+08     4.871017e+06\n",
              "12       0.114876      0.001870  ...      0.000000e+00     0.000000e+00\n",
              "13       0.378453      0.003737  ...     -6.056027e-01     1.181156e+00\n",
              "14       0.155380      0.007515  ...     -1.214568e+01     2.429136e+01\n",
              "15       0.501092      0.006436  ...     -5.272080e+00     8.093117e+00\n",
              "16       0.189910      0.003821  ...      0.000000e+00     0.000000e+00\n",
              "17       0.628661      0.002369  ...     -3.028238e-03     6.056477e-03\n",
              "\n",
              "[18 rows x 23 columns]"
            ]
          },
          "metadata": {
            "tags": []
          },
          "execution_count": 86
        }
      ]
    },
    {
      "cell_type": "markdown",
      "metadata": {
        "id": "RUn36gU1UhzN",
        "colab_type": "text"
      },
      "source": [
        "In this example, we obtain the best solution by setting the `max_features` hyperparameter to 8 and the `n_estimators` hyperparameter to 30. \n",
        "\n",
        "The RMSE score for this combination is 49,682, which is slightly better than the score you got earlier using the default hyperparameter values (which was 50,182). \n",
        "\n",
        "Congratulations, you have successfully fine-tuned your best model!"
      ]
    },
    {
      "cell_type": "markdown",
      "metadata": {
        "id": "81Ge5vLtU2og",
        "colab_type": "text"
      },
      "source": [
        "### TIP\n",
        "\n",
        "Don’t forget that **you can treat some of the data preparation steps as hyperparameters**. \n",
        "\n",
        "For example, the `grid search` will automatically find out whether or not to add a feature you were not sure about (e.g., using the `add_bedrooms_per_room` hyperparameter of your `CombinedAttributesAdder` transformer). \n",
        "\n",
        "It may similarly be used to automatically find the best way to handle outliers, missing features, feature selection, and more."
      ]
    },
    {
      "cell_type": "markdown",
      "metadata": {
        "id": "3pwRyFrtWfv4",
        "colab_type": "text"
      },
      "source": [
        "## Randomized Search\n",
        "\n",
        "The grid search approach is fine when you are exploring relatively few combinations, like in the previous example, but when the hyperparameter search space is large, it is often preferable to use `RandomizedSearchCV` instead. This class can be used in much the same way as the `GridSearchCV` class, but instead of trying out all possible combinations, it evaluates a given number of random combinations by selecting a random value for each hyperparameter at every iteration. This approach has two main benefits:\n",
        "\n",
        "* If you let the randomized search run for, say, 1,000 iterations, this approach will explore 1,000 different values for each hyperparameter (instead of just a few values per hyperparameter with the grid search approach).\n",
        "* Simply by setting the number of iterations, you have more control over the computing budget you want to allocate to hyperparameter search."
      ]
    },
    {
      "cell_type": "code",
      "metadata": {
        "id": "IoGrOnS-UO_8",
        "colab_type": "code",
        "outputId": "4953479d-775a-4cea-d9d8-dfa0bf1b838f",
        "colab": {
          "base_uri": "https://localhost:8080/",
          "height": 413
        }
      },
      "source": [
        "from sklearn.model_selection import RandomizedSearchCV\n",
        "from scipy.stats import randint\n",
        "\n",
        "param_distribs = {\n",
        "        'n_estimators': randint(low=1, high=200),\n",
        "        'max_features': randint(low=1, high=8),\n",
        "    }\n",
        "\n",
        "forest_reg = RandomForestRegressor(random_state=42)\n",
        "rnd_search = RandomizedSearchCV(forest_reg, param_distributions=param_distribs,\n",
        "                                n_iter=10, cv=5, scoring='neg_mean_squared_error', random_state=42)\n",
        "rnd_search.fit(housing_prepared, housing_labels)"
      ],
      "execution_count": 87,
      "outputs": [
        {
          "output_type": "execute_result",
          "data": {
            "text/plain": [
              "RandomizedSearchCV(cv=5, error_score=nan,\n",
              "                   estimator=RandomForestRegressor(bootstrap=True,\n",
              "                                                   ccp_alpha=0.0,\n",
              "                                                   criterion='mse',\n",
              "                                                   max_depth=None,\n",
              "                                                   max_features='auto',\n",
              "                                                   max_leaf_nodes=None,\n",
              "                                                   max_samples=None,\n",
              "                                                   min_impurity_decrease=0.0,\n",
              "                                                   min_impurity_split=None,\n",
              "                                                   min_samples_leaf=1,\n",
              "                                                   min_samples_split=2,\n",
              "                                                   min_weight_fraction_leaf=0.0,\n",
              "                                                   n_estimators=100,\n",
              "                                                   n_jobs=None, oob_score=Fals...\n",
              "                                                   warm_start=False),\n",
              "                   iid='deprecated', n_iter=10, n_jobs=None,\n",
              "                   param_distributions={'max_features': <scipy.stats._distn_infrastructure.rv_frozen object at 0x7fefe79924a8>,\n",
              "                                        'n_estimators': <scipy.stats._distn_infrastructure.rv_frozen object at 0x7fefe79925f8>},\n",
              "                   pre_dispatch='2*n_jobs', random_state=42, refit=True,\n",
              "                   return_train_score=False, scoring='neg_mean_squared_error',\n",
              "                   verbose=0)"
            ]
          },
          "metadata": {
            "tags": []
          },
          "execution_count": 87
        }
      ]
    },
    {
      "cell_type": "code",
      "metadata": {
        "id": "cIRFtozMXXfe",
        "colab_type": "code",
        "outputId": "d2d5552c-af08-4156-eea2-7f3da14a71e1",
        "colab": {
          "base_uri": "https://localhost:8080/",
          "height": 215
        }
      },
      "source": [
        "cvres = rnd_search.cv_results_\n",
        "for mean_score, params in zip(cvres[\"mean_test_score\"], cvres[\"params\"]):\n",
        "  print(np.sqrt(-mean_score), params)\n",
        "\n",
        "rnd_search.best_params_"
      ],
      "execution_count": 88,
      "outputs": [
        {
          "output_type": "stream",
          "text": [
            "49150.70756927707 {'max_features': 7, 'n_estimators': 180}\n",
            "51389.889203389284 {'max_features': 5, 'n_estimators': 15}\n",
            "50796.155224308866 {'max_features': 3, 'n_estimators': 72}\n",
            "50835.13360315349 {'max_features': 5, 'n_estimators': 21}\n",
            "49280.9449827171 {'max_features': 7, 'n_estimators': 122}\n",
            "50774.90662363929 {'max_features': 3, 'n_estimators': 75}\n",
            "50682.78888164288 {'max_features': 3, 'n_estimators': 88}\n",
            "49608.99608105296 {'max_features': 5, 'n_estimators': 100}\n",
            "50473.61930350219 {'max_features': 3, 'n_estimators': 150}\n",
            "64429.84143294435 {'max_features': 5, 'n_estimators': 2}\n"
          ],
          "name": "stdout"
        },
        {
          "output_type": "execute_result",
          "data": {
            "text/plain": [
              "{'max_features': 7, 'n_estimators': 180}"
            ]
          },
          "metadata": {
            "tags": []
          },
          "execution_count": 88
        }
      ]
    },
    {
      "cell_type": "markdown",
      "metadata": {
        "id": "Q-5dn8u_XjQ8",
        "colab_type": "text"
      },
      "source": [
        "## **Ensemble Methods**\n",
        "\n",
        "Another way to fine-tune your system is to try to **combine the models that perform best**. \n",
        "\n",
        "The group (or “ensemble”) will often perform better than the best individual model (just like `Random Forests` perform better than the individual `Decision Trees` they rely on), **especially if the individual models make very different types of errors.** We will cover this topic in more detail in Chapter 7."
      ]
    },
    {
      "cell_type": "markdown",
      "metadata": {
        "id": "YYPmpRIWX4q1",
        "colab_type": "text"
      },
      "source": [
        "## Analyze the Best Models and Their Errors\n",
        "\n",
        "You will often gain **good insights on the problem** by **inspecting the best models**. \n",
        "\n",
        "For example, the `RandomForestRegressor` can indicate **the relative importance of each attribute** for making accurate predictions:"
      ]
    },
    {
      "cell_type": "code",
      "metadata": {
        "id": "75zN_85GXxKr",
        "colab_type": "code",
        "outputId": "e3823756-d259-4ce5-c312-16bdb56e5e16",
        "colab": {
          "base_uri": "https://localhost:8080/",
          "height": 89
        }
      },
      "source": [
        "feature_importances = grid_search.best_estimator_.feature_importances_\n",
        "feature_importances"
      ],
      "execution_count": 89,
      "outputs": [
        {
          "output_type": "execute_result",
          "data": {
            "text/plain": [
              "array([7.33442355e-02, 6.29090705e-02, 4.11437985e-02, 1.46726854e-02,\n",
              "       1.41064835e-02, 1.48742809e-02, 1.42575993e-02, 3.66158981e-01,\n",
              "       5.64191792e-02, 1.08792957e-01, 5.33510773e-02, 1.03114883e-02,\n",
              "       1.64780994e-01, 6.02803867e-05, 1.96041560e-03, 2.85647464e-03])"
            ]
          },
          "metadata": {
            "tags": []
          },
          "execution_count": 89
        }
      ]
    },
    {
      "cell_type": "markdown",
      "metadata": {
        "id": "fZ9KLYMtYoL7",
        "colab_type": "text"
      },
      "source": [
        "Let’s display these importance scores next to their corresponding attribute names:"
      ]
    },
    {
      "cell_type": "code",
      "metadata": {
        "id": "7Msv2wumYlf1",
        "colab_type": "code",
        "outputId": "21c256d4-e02a-45a3-f606-7e447a18d053",
        "colab": {
          "base_uri": "https://localhost:8080/",
          "height": 305
        }
      },
      "source": [
        "extra_attribs = [\"rooms_per_hhold\", \"pop_per_hhold\", \"bedrooms_per_room\"]\n",
        "#cat_encoder = cat_pipeline.named_steps[\"cat_encoder\"] # old solution\n",
        "cat_encoder = full_pipeline.named_transformers_[\"cat\"]\n",
        "cat_one_hot_attribs = list(cat_encoder.categories_[0])\n",
        "attributes = num_attribs + extra_attribs + cat_one_hot_attribs\n",
        "sorted(zip(feature_importances, attributes), reverse=True)"
      ],
      "execution_count": 90,
      "outputs": [
        {
          "output_type": "execute_result",
          "data": {
            "text/plain": [
              "[(0.36615898061813423, 'median_income'),\n",
              " (0.16478099356159054, 'INLAND'),\n",
              " (0.10879295677551575, 'pop_per_hhold'),\n",
              " (0.07334423551601243, 'longitude'),\n",
              " (0.06290907048262032, 'latitude'),\n",
              " (0.056419179181954014, 'rooms_per_hhold'),\n",
              " (0.053351077347675815, 'bedrooms_per_room'),\n",
              " (0.04114379847872964, 'housing_median_age'),\n",
              " (0.014874280890402769, 'population'),\n",
              " (0.014672685420543239, 'total_rooms'),\n",
              " (0.014257599323407808, 'households'),\n",
              " (0.014106483453584104, 'total_bedrooms'),\n",
              " (0.010311488326303788, '<1H OCEAN'),\n",
              " (0.0028564746373201584, 'NEAR OCEAN'),\n",
              " (0.0019604155994780706, 'NEAR BAY'),\n",
              " (6.0280386727366e-05, 'ISLAND')]"
            ]
          },
          "metadata": {
            "tags": []
          },
          "execution_count": 90
        }
      ]
    },
    {
      "cell_type": "markdown",
      "metadata": {
        "id": "fvi3sDa3Y4Rw",
        "colab_type": "text"
      },
      "source": [
        "With this information, you may want to try dropping some of the less useful features (e.g., apparently only one `ocean_proximity` category is really useful, so you could try dropping the others).\n",
        "\n",
        "**You should also look at the specific errors that your system makes**, then try to understand why it makes them and what could fix the problem (adding extra features or getting rid of uninformative ones, cleaning up outliers, etc.)."
      ]
    },
    {
      "cell_type": "markdown",
      "metadata": {
        "id": "b_StJT-AZIXh",
        "colab_type": "text"
      },
      "source": [
        "## Evaluate Your System on the Test Set\n",
        "\n",
        "After tweaking your models for a while, you eventually have a system that performs sufficiently well. \n",
        "\n",
        "Now is the time to evaluate the final model on the **test set**. \n",
        "\n",
        "There is nothing special about this process; just get the predictors and the labels from your test set, run your `full_pipeline` to transform the data (call `transform()`, not `fit_transform()`—you do not want to fit the test set!), and evaluate the final model on the test set:"
      ]
    },
    {
      "cell_type": "code",
      "metadata": {
        "id": "1bJoPhYcYst3",
        "colab_type": "code",
        "colab": {}
      },
      "source": [
        "final_model = grid_search.best_estimator_\n",
        "\n",
        "X_test = strat_test_set.drop(\"median_house_value\", axis=1)\n",
        "y_test = strat_test_set[\"median_house_value\"].copy()\n",
        "\n",
        "X_test_prepared = full_pipeline.transform(X_test)\n",
        "final_predictions = final_model.predict(X_test_prepared)\n",
        "\n",
        "final_mse = mean_squared_error(y_test, final_predictions)\n",
        "final_rmse = np.sqrt(final_mse)"
      ],
      "execution_count": 0,
      "outputs": []
    },
    {
      "cell_type": "code",
      "metadata": {
        "id": "f7STz435Zh1I",
        "colab_type": "code",
        "outputId": "2507d75e-8c82-4bdb-a07f-89c598816c55",
        "colab": {
          "base_uri": "https://localhost:8080/",
          "height": 35
        }
      },
      "source": [
        "final_rmse#최종 결과"
      ],
      "execution_count": 92,
      "outputs": [
        {
          "output_type": "execute_result",
          "data": {
            "text/plain": [
              "47730.22690385927"
            ]
          },
          "metadata": {
            "tags": []
          },
          "execution_count": 92
        }
      ]
    },
    {
      "cell_type": "markdown",
      "metadata": {
        "id": "YY3SpDvdZ3m1",
        "colab_type": "text"
      },
      "source": [
        "In some cases, such a point estimate of the **generalization error** will not be quite enough to convince you to launch: what if it is just 0.1% better than the model currently in production? \n",
        "\n",
        "You might want to have an idea of how precise this estimate is. \n",
        "\n",
        "For this, you can compute a 95% confidence interval for **the generalization error** using scipy.stats.t.interval():\n",
        "\n"
      ]
    },
    {
      "cell_type": "code",
      "metadata": {
        "id": "vYmVOYRDZjpU",
        "colab_type": "code",
        "outputId": "f3129ab5-c89a-4cc2-d938-5c963b36b1cd",
        "colab": {
          "base_uri": "https://localhost:8080/",
          "height": 35
        }
      },
      "source": [
        "from scipy import stats\n",
        "\n",
        "confidence = 0.95\n",
        "squared_errors = (final_predictions - y_test) ** 2\n",
        "np.sqrt(stats.t.interval(confidence, \n",
        "                         len(squared_errors) - 1,\n",
        "                         loc=squared_errors.mean(),\n",
        "                         scale=stats.sem(squared_errors) # compute standard error of the mean\n",
        "                         )\n",
        ") "
      ],
      "execution_count": 93,
      "outputs": [
        {
          "output_type": "execute_result",
          "data": {
            "text/plain": [
              "array([45685.10470776, 49691.25001878])"
            ]
          },
          "metadata": {
            "tags": []
          },
          "execution_count": 93
        }
      ]
    },
    {
      "cell_type": "markdown",
      "metadata": {
        "id": "EHUYHmeKbBdN",
        "colab_type": "text"
      },
      "source": [
        "We could compute the interval manually like this:"
      ]
    },
    {
      "cell_type": "code",
      "metadata": {
        "id": "o_Duj6DBbEKS",
        "colab_type": "code",
        "outputId": "23b89313-d2d2-461d-d9ca-4ba5cd971ecc",
        "colab": {
          "base_uri": "https://localhost:8080/",
          "height": 35
        }
      },
      "source": [
        "m = len(squared_errors)\n",
        "mean = squared_errors.mean()\n",
        "tscore = stats.t.ppf((1 + confidence) / 2, df=m - 1)\n",
        "tmargin = tscore * squared_errors.std(ddof=1) / np.sqrt(m)\n",
        "np.sqrt(mean - tmargin), np.sqrt(mean + tmargin)"
      ],
      "execution_count": 94,
      "outputs": [
        {
          "output_type": "execute_result",
          "data": {
            "text/plain": [
              "(45685.10470776, 49691.25001877858)"
            ]
          },
          "metadata": {
            "tags": []
          },
          "execution_count": 94
        }
      ]
    },
    {
      "cell_type": "markdown",
      "metadata": {
        "id": "IQ_hSAFKbIkS",
        "colab_type": "text"
      },
      "source": [
        "Alternatively, we could use a z-scores rather than t-scores:"
      ]
    },
    {
      "cell_type": "code",
      "metadata": {
        "id": "ALt9WCIcbMvO",
        "colab_type": "code",
        "outputId": "9aa082d5-4ed1-4380-d0a7-afdb6877b33c",
        "colab": {
          "base_uri": "https://localhost:8080/",
          "height": 35
        }
      },
      "source": [
        "zscore = stats.norm.ppf((1 + confidence) / 2)\n",
        "zmargin = zscore * squared_errors.std(ddof=1) / np.sqrt(m)\n",
        "np.sqrt(mean - zmargin), np.sqrt(mean + zmargin)"
      ],
      "execution_count": 95,
      "outputs": [
        {
          "output_type": "execute_result",
          "data": {
            "text/plain": [
              "(45685.717918136455, 49690.68623889413)"
            ]
          },
          "metadata": {
            "tags": []
          },
          "execution_count": 95
        }
      ]
    },
    {
      "cell_type": "markdown",
      "metadata": {
        "id": "PLAx_UQDapbp",
        "colab_type": "text"
      },
      "source": [
        "If you did a lot of hyperparameter tuning, **the performance will usually be slightly worse than what you measured using cross-validation** (because your system ends up **fine-tuned to perform well on the validation data** and will likely not perform as well on unknown datasets). \n",
        "\n",
        "It is not the case in this example, but when this happens you must resist the temptation to tweak the hyperparameters to make the numbers look good on the test set; the improvements would be unlikely to generalize to new data."
      ]
    },
    {
      "cell_type": "markdown",
      "metadata": {
        "id": "P1xCxDEBbXyu",
        "colab_type": "text"
      },
      "source": [
        "Now comes the project prelaunch phase: \n",
        "you need to \n",
        "* present your solution (\n",
        "  * highlighting what you have learned, \n",
        "  * what worked and what did not, \n",
        "  * what assumptions were made, and \n",
        "  * what your system’s limitations are), \n",
        "* document everything, and \n",
        "* create nice presentations with clear visualizations and easy-to-remember statements (e.g., “the `median income` is the number one predictor of `housing prices`”). \n",
        "\n",
        "In this California housing example, the final performance of the system is not better than the experts’ price estimates, which were often off by about 20%, but it may still be a good idea to launch it, especially if this frees up some time for the experts so they can work on more interesting and productive tasks."
      ]
    },
    {
      "cell_type": "code",
      "metadata": {
        "id": "GNGyaZ67aTcW",
        "colab_type": "code",
        "colab": {}
      },
      "source": [
        ""
      ],
      "execution_count": 0,
      "outputs": []
    }
  ]
}