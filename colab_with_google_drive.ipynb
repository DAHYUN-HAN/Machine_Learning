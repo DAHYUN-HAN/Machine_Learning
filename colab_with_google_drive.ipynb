{
  "nbformat": 4,
  "nbformat_minor": 0,
  "metadata": {
    "colab": {
      "name": "colab with google drive.ipynb",
      "provenance": [],
      "authorship_tag": "ABX9TyNVcxzHTc49FDMBJE7H9WB3",
      "include_colab_link": true
    },
    "kernelspec": {
      "name": "python3",
      "display_name": "Python 3"
    }
  },
  "cells": [
    {
      "cell_type": "markdown",
      "metadata": {
        "id": "view-in-github",
        "colab_type": "text"
      },
      "source": [
        "<a href=\"https://colab.research.google.com/github/DAHYUN-HAN/Machine_Learning/blob/master/colab_with_google_drive.ipynb\" target=\"_parent\"><img src=\"https://colab.research.google.com/assets/colab-badge.svg\" alt=\"Open In Colab\"/></a>"
      ]
    },
    {
      "cell_type": "markdown",
      "metadata": {
        "id": "DgUnoapisR3p",
        "colab_type": "text"
      },
      "source": [
        "> unmount는 다음 코드로 \n",
        ">\n",
        "> ```python\n",
        "drive.flush_and_unmount()\n",
        "print('All changes made in this colab session should now be visible in Drive.')\n",
        "```\n",
        ">(flush 후 unmount)"
      ]
    },
    {
      "cell_type": "code",
      "metadata": {
        "id": "_vRmPZzZjDDq",
        "colab_type": "code",
        "colab": {
          "base_uri": "https://localhost:8080/",
          "height": 127
        },
        "outputId": "a6f38d5a-18a2-4d50-91f4-3d5519e37cc3"
      },
      "source": [
        "from google.colab import drive\n",
        "drive.mount('/content/drive')"
      ],
      "execution_count": 3,
      "outputs": [
        {
          "output_type": "stream",
          "text": [
            "Go to this URL in a browser: https://accounts.google.com/o/oauth2/auth?client_id=947318989803-6bn6qk8qdgf4n4g3pfee6491hc0brc4i.apps.googleusercontent.com&redirect_uri=urn%3aietf%3awg%3aoauth%3a2.0%3aoob&response_type=code&scope=email%20https%3a%2f%2fwww.googleapis.com%2fauth%2fdocs.test%20https%3a%2f%2fwww.googleapis.com%2fauth%2fdrive%20https%3a%2f%2fwww.googleapis.com%2fauth%2fdrive.photos.readonly%20https%3a%2f%2fwww.googleapis.com%2fauth%2fpeopleapi.readonly\n",
            "\n",
            "Enter your authorization code:\n",
            "··········\n",
            "Mounted at /content/drive\n"
          ],
          "name": "stdout"
        }
      ]
    },
    {
      "cell_type": "code",
      "metadata": {
        "id": "yWUdndRjjJdI",
        "colab_type": "code",
        "colab": {}
      },
      "source": [
        "!cp \"./drive/My Drive/[10]Lecture/MachineLearning/datasets/lifesat/lifesat.csv\" ./lifesat.csv"
      ],
      "execution_count": 0,
      "outputs": []
    },
    {
      "cell_type": "code",
      "metadata": {
        "id": "FJ3NjU6WjtAL",
        "colab_type": "code",
        "colab": {
          "base_uri": "https://localhost:8080/",
          "height": 161
        },
        "outputId": "2897633f-dafd-463f-e490-b799d13d9879"
      },
      "source": [
        "!ls -al #ls 또는 ls-al\n",
        "!pwd #Return the current working directory path.(present working directory)"
      ],
      "execution_count": 10,
      "outputs": [
        {
          "output_type": "stream",
          "text": [
            "total 24\n",
            "drwxr-xr-x 1 root root 4096 Apr 10 05:27 .\n",
            "drwxr-xr-x 1 root root 4096 Apr 10 05:19 ..\n",
            "drwxr-xr-x 1 root root 4096 Apr  6 16:10 .config\n",
            "drwx------ 5 root root 4096 Apr 10 05:26 drive\n",
            "-rw------- 1 root root  784 Apr 10 05:27 lifesat.csv\n",
            "drwxr-xr-x 1 root root 4096 Apr  3 16:24 sample_data\n",
            "/content\n"
          ],
          "name": "stdout"
        }
      ]
    },
    {
      "cell_type": "code",
      "metadata": {
        "id": "XBiSmoqDjv-1",
        "colab_type": "code",
        "colab": {}
      },
      "source": [
        "from google.colab import files\n",
        "files.download('lifesat.csv')"
      ],
      "execution_count": 0,
      "outputs": []
    },
    {
      "cell_type": "code",
      "metadata": {
        "id": "2rcxCS4Oj46o",
        "colab_type": "code",
        "colab": {
          "base_uri": "https://localhost:8080/",
          "height": 593
        },
        "outputId": "a9f5b2bf-d129-45dc-d4d5-1d18434ce2e0"
      },
      "source": [
        "import os\n",
        "\n",
        "fstr = os.path.join('drive','My Drive','[10]Lecture',\n",
        "                    'MachineLearning','datasets',\n",
        "                    'lifesat','lifesat.csv')\n",
        "print(fstr)#path 구분자인 /가 들어가서 경로가 생성됨.\n",
        "with open(fstr) as f:\n",
        "  content = f.read()#read 대신 pandas, numpy 사용해서 읽어오는게 사실 더 많이 쓰임\n",
        "  print(content)"
      ],
      "execution_count": 16,
      "outputs": [
        {
          "output_type": "stream",
          "text": [
            "drive/My Drive/[10]Lecture/MachineLearning/datasets/lifesat/lifesat.csv\n",
            "Country,GDP per capita,Life satisfaction\n",
            "Russia,9054.914,6.0\n",
            "Turkey,9437.372,5.6\n",
            "Hungary,12239.893999999998,4.9\n",
            "Poland,12495.333999999999,5.8\n",
            "Slovak Republic,15991.736,6.1\n",
            "Estonia,17288.083,5.6\n",
            "Greece,18064.288,4.8\n",
            "Portugal,19121.592,5.1\n",
            "Slovenia,20732.482,5.7\n",
            "Spain,25864.721,6.5\n",
            "Korea,27195.197,5.8\n",
            "Italy,29866.581000000002,6.0\n",
            "Japan,32485.545,5.9\n",
            "Israel,35343.336,7.4\n",
            "New Zealand,37044.891,7.3\n",
            "France,37675.006,6.5\n",
            "Belgium,40106.632000000005,6.9\n",
            "Germany,40996.511,7.0\n",
            "Finland,41973.988,7.4\n",
            "Canada,43331.960999999996,7.3\n",
            "Netherlands,43603.115,7.3\n",
            "Austria,43724.030999999995,6.9\n",
            "United Kingdom,43770.687999999995,6.8\n",
            "Sweden,49866.265999999996,7.2\n",
            "Iceland,50854.583,7.5\n",
            "Australia,50961.865,7.3\n",
            "Ireland,51350.744000000006,7.0\n",
            "Denmark,52114.165,7.5\n",
            "United States,55805.204000000005,7.2\n",
            "\n"
          ],
          "name": "stdout"
        }
      ]
    },
    {
      "cell_type": "code",
      "metadata": {
        "id": "ZjHZ8LxxtXxA",
        "colab_type": "code",
        "colab": {}
      },
      "source": [
        "#lifesat.csv를 이미 복사를 해 놓았기 때문에 경로를 지정해두지 않아도 출력이 됨.\n",
        "with open('lifesat.csv') as f:\n",
        "  content = f.read()\n",
        "  print(content)"
      ],
      "execution_count": 0,
      "outputs": []
    },
    {
      "cell_type": "code",
      "metadata": {
        "id": "JOd2R6ODkYfn",
        "colab_type": "code",
        "colab": {
          "base_uri": "https://localhost:8080/",
          "height": 35
        },
        "outputId": "87d6c310-e7f5-4599-f68c-136d0bf53b91"
      },
      "source": [
        "fstr = os.path.join('drive','My Drive','[10]Lecture',\n",
        "                    'MachineLearning','datasets',\n",
        "                    'foo.txt')\n",
        "\n",
        "with open(fstr, 'w') as f:#쓰기모드\n",
        "  f.write('Hello Google Drive!')\n",
        "!cat \"./drive/My Drive/[10]Lecture/MachineLearning/datasets/foo.txt\""
      ],
      "execution_count": 9,
      "outputs": [
        {
          "output_type": "stream",
          "text": [
            "Hello Google Drive!"
          ],
          "name": "stdout"
        }
      ]
    },
    {
      "cell_type": "code",
      "metadata": {
        "id": "gqApK6WGk4Vi",
        "colab_type": "code",
        "colab": {
          "base_uri": "https://localhost:8080/",
          "height": 53
        },
        "outputId": "8802a27d-1ff3-4f00-a87b-fe766bc8108b"
      },
      "source": [
        "!pwd\n",
        "!cd /content/drive/My\\ Drive#이거는 실행 안됨. !없이 독자적으로 실행시켜야 함\n",
        "!pwd"
      ],
      "execution_count": 26,
      "outputs": [
        {
          "output_type": "stream",
          "text": [
            "/content\n",
            "/content\n"
          ],
          "name": "stdout"
        }
      ]
    },
    {
      "cell_type": "code",
      "metadata": {
        "id": "NlozjYrCw2c5",
        "colab_type": "code",
        "colab": {
          "base_uri": "https://localhost:8080/",
          "height": 35
        },
        "outputId": "1d0f6abd-d653-40ba-bb64-30991cf7a244"
      },
      "source": [
        "cd /content/drive/My\\ Drive"
      ],
      "execution_count": 28,
      "outputs": [
        {
          "output_type": "stream",
          "text": [
            "/content/drive/My Drive\n"
          ],
          "name": "stdout"
        }
      ]
    },
    {
      "cell_type": "markdown",
      "metadata": {
        "id": "V6Jd1TnQxiuu",
        "colab_type": "text"
      },
      "source": [
        "cd 셀은 앞 뒤로 다른 코드 없이 cd 코드만 있어야 제대로 실행이 된다."
      ]
    },
    {
      "cell_type": "code",
      "metadata": {
        "id": "3CTHKN7xx0B7",
        "colab_type": "code",
        "colab": {
          "base_uri": "https://localhost:8080/",
          "height": 35
        },
        "outputId": "361fb66a-2e42-492e-85f3-da8ad64f931f"
      },
      "source": [
        "cd /content/drive/My\\ Drive/\\[10\\]Lecture/MachineLearning"
      ],
      "execution_count": 31,
      "outputs": [
        {
          "output_type": "stream",
          "text": [
            "/content/drive/My Drive/[10]Lecture/MachineLearning\n"
          ],
          "name": "stdout"
        }
      ]
    },
    {
      "cell_type": "code",
      "metadata": {
        "id": "lc0cEofpxUSU",
        "colab_type": "code",
        "colab": {
          "base_uri": "https://localhost:8080/",
          "height": 35
        },
        "outputId": "081549a9-31d7-472d-d543-2d65337a5457"
      },
      "source": [
        "pwd #경로가 제대로 바뀌었는지 확인"
      ],
      "execution_count": 33,
      "outputs": [
        {
          "output_type": "execute_result",
          "data": {
            "text/plain": [
              "'/content/drive/My Drive/[10]Lecture/MachineLearning'"
            ]
          },
          "metadata": {
            "tags": []
          },
          "execution_count": 33
        }
      ]
    },
    {
      "cell_type": "code",
      "metadata": {
        "id": "gP7tt66Rxr9o",
        "colab_type": "code",
        "colab": {
          "base_uri": "https://localhost:8080/",
          "height": 35
        },
        "outputId": "d9e51982-06f1-4aa8-d6c7-50f99f0aa260"
      },
      "source": [
        "cd /content"
      ],
      "execution_count": 35,
      "outputs": [
        {
          "output_type": "stream",
          "text": [
            "/content\n"
          ],
          "name": "stdout"
        }
      ]
    },
    {
      "cell_type": "code",
      "metadata": {
        "id": "jaAwEDOsx6yt",
        "colab_type": "code",
        "colab": {}
      },
      "source": [
        ""
      ],
      "execution_count": 0,
      "outputs": []
    }
  ]
}